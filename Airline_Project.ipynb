{
 "cells": [
  {
   "cell_type": "markdown",
   "id": "919fb7fc",
   "metadata": {},
   "source": [
    "<div style=\"color:white;\n",
    "           display:fill;\n",
    "           border-radius:5px;\n",
    "           background-color:yellow;\n",
    "           font-size:200%;\n",
    "           font-family:Serif;\n",
    "           letter-spacing:0.5px\">\n",
    "\n",
    "<p style=\"padding: 10px;\n",
    "          color:black;\n",
    "          font-size:120%;\n",
    "          text-align:center;\">\n",
    "Airline EDA\n",
    "</p>\n",
    "</div>"
   ]
  },
  {
   "cell_type": "markdown",
   "id": "2bb4138c",
   "metadata": {},
   "source": [
    "<div style=\"color:white;\n",
    "           display:fill;\n",
    "           border-radius:5px;\n",
    "           background-color:Blue;\n",
    "           font-size:200%;\n",
    "           font-family:Serif;\n",
    "           letter-spacing:0.5px\">\n",
    "\n",
    "<p style=\"padding: 10px;\n",
    "          color:black;\n",
    "          font-size:120%;\n",
    "          text-align:center;\">\n",
    "WORKFLOW\n",
    "</p>\n",
    "</div>\n"
   ]
  },
  {
   "cell_type": "markdown",
   "id": "65dd71b7",
   "metadata": {},
   "source": [
    "## Importing Required Modules \n",
    "\n",
    "1. importing numpy for mathematical operation on arrays and dataframe.\n",
    "2. importing pandas for reading data and data manipualtion.\n",
    "3. importing matplotlib and seaborn to show the insights and  visualization from the dataset.\n",
    "3. importing warnings for Warning messages that are typically issued in dataframe where it is useful to alert the user of some condition in a program, where that condition (normally) doesn t warrant raising an exception and terminating the program."
   ]
  },
  {
   "cell_type": "markdown",
   "id": "e0522895",
   "metadata": {},
   "source": [
    "  - Importing required libraries\n",
    "  - loading the data set\n",
    "  - Basic understanding of data\n",
    "\n",
    "    -- checking shape\n",
    "    \n",
    "    -- checking info\n",
    "    \n",
    "    -- fetching columns names\n",
    "    \n",
    "    --- checking unique values\n",
    "    "
   ]
  },
  {
   "cell_type": "code",
   "execution_count": 2,
   "id": "38c16c59",
   "metadata": {},
   "outputs": [],
   "source": [
    "import pandas as pd\n",
    "import numpy as np\n",
    "import matplotlib.pyplot as plt\n",
    "import seaborn as sns\n",
    "import warnings\n",
    "warnings.filterwarnings(\"ignore\") "
   ]
  },
  {
   "cell_type": "markdown",
   "id": "d112b483",
   "metadata": {},
   "source": [
    "<div style=\"color:white;\n",
    "           display:fill;\n",
    "           border-radius:5px;\n",
    "           background-color:black;\n",
    "           font-size:200%;\n",
    "           font-family:Serif;\n",
    "           letter-spacing:0.5px\">\n",
    "\n",
    "<p style=\"padding: 10px;\n",
    "          color:white;\n",
    "          font-size:120%;\n",
    "          text-align:center;\">\n",
    "Loading the Data\n",
    "</p>\n",
    "</div>"
   ]
  },
  {
   "cell_type": "code",
   "execution_count": 4,
   "id": "fb9fa724",
   "metadata": {},
   "outputs": [],
   "source": [
    "df=pd.read_excel(\"Data_Train.xlsx\")\n"
   ]
  },
  {
   "cell_type": "markdown",
   "id": "e5b59c53",
   "metadata": {},
   "source": [
    "<div style=\"color:white;\n",
    "           display:fill;\n",
    "           border-radius:5px;\n",
    "           background-color:pink;\n",
    "           font-size:200%;\n",
    "           font-family:Serif;\n",
    "           letter-spacing:0.5px\">\n",
    "\n",
    "<p style=\"padding: 10px;\n",
    "          color:black;\n",
    "          font-size:120%;\n",
    "          text-align:center;\">\n",
    "Preview of data \n",
    "</p>\n",
    "</div>"
   ]
  },
  {
   "cell_type": "code",
   "execution_count": 6,
   "id": "44c52172",
   "metadata": {},
   "outputs": [
    {
     "data": {
      "text/html": [
       "<div>\n",
       "<style scoped>\n",
       "    .dataframe tbody tr th:only-of-type {\n",
       "        vertical-align: middle;\n",
       "    }\n",
       "\n",
       "    .dataframe tbody tr th {\n",
       "        vertical-align: top;\n",
       "    }\n",
       "\n",
       "    .dataframe thead th {\n",
       "        text-align: right;\n",
       "    }\n",
       "</style>\n",
       "<table border=\"1\" class=\"dataframe\">\n",
       "  <thead>\n",
       "    <tr style=\"text-align: right;\">\n",
       "      <th></th>\n",
       "      <th>Airline</th>\n",
       "      <th>Date_of_Journey</th>\n",
       "      <th>Source</th>\n",
       "      <th>Destination</th>\n",
       "      <th>Route</th>\n",
       "      <th>Dep_Time</th>\n",
       "      <th>Arrival_Time</th>\n",
       "      <th>Duration</th>\n",
       "      <th>Total_Stops</th>\n",
       "      <th>Additional_Info</th>\n",
       "      <th>Price</th>\n",
       "    </tr>\n",
       "  </thead>\n",
       "  <tbody>\n",
       "    <tr>\n",
       "      <th>0</th>\n",
       "      <td>IndiGo</td>\n",
       "      <td>24/03/2019</td>\n",
       "      <td>Banglore</td>\n",
       "      <td>New Delhi</td>\n",
       "      <td>BLR → DEL</td>\n",
       "      <td>22:20</td>\n",
       "      <td>01:10 22 Mar</td>\n",
       "      <td>2h 50m</td>\n",
       "      <td>non-stop</td>\n",
       "      <td>No info</td>\n",
       "      <td>3897</td>\n",
       "    </tr>\n",
       "    <tr>\n",
       "      <th>1</th>\n",
       "      <td>Air India</td>\n",
       "      <td>1/05/2019</td>\n",
       "      <td>Kolkata</td>\n",
       "      <td>Banglore</td>\n",
       "      <td>CCU → IXR → BBI → BLR</td>\n",
       "      <td>05:50</td>\n",
       "      <td>13:15</td>\n",
       "      <td>7h 25m</td>\n",
       "      <td>2 stops</td>\n",
       "      <td>No info</td>\n",
       "      <td>7662</td>\n",
       "    </tr>\n",
       "    <tr>\n",
       "      <th>2</th>\n",
       "      <td>Jet Airways</td>\n",
       "      <td>9/06/2019</td>\n",
       "      <td>Delhi</td>\n",
       "      <td>Cochin</td>\n",
       "      <td>DEL → LKO → BOM → COK</td>\n",
       "      <td>09:25</td>\n",
       "      <td>04:25 10 Jun</td>\n",
       "      <td>19h</td>\n",
       "      <td>2 stops</td>\n",
       "      <td>No info</td>\n",
       "      <td>13882</td>\n",
       "    </tr>\n",
       "    <tr>\n",
       "      <th>3</th>\n",
       "      <td>IndiGo</td>\n",
       "      <td>12/05/2019</td>\n",
       "      <td>Kolkata</td>\n",
       "      <td>Banglore</td>\n",
       "      <td>CCU → NAG → BLR</td>\n",
       "      <td>18:05</td>\n",
       "      <td>23:30</td>\n",
       "      <td>5h 25m</td>\n",
       "      <td>1 stop</td>\n",
       "      <td>No info</td>\n",
       "      <td>6218</td>\n",
       "    </tr>\n",
       "    <tr>\n",
       "      <th>4</th>\n",
       "      <td>IndiGo</td>\n",
       "      <td>01/03/2019</td>\n",
       "      <td>Banglore</td>\n",
       "      <td>New Delhi</td>\n",
       "      <td>BLR → NAG → DEL</td>\n",
       "      <td>16:50</td>\n",
       "      <td>21:35</td>\n",
       "      <td>4h 45m</td>\n",
       "      <td>1 stop</td>\n",
       "      <td>No info</td>\n",
       "      <td>13302</td>\n",
       "    </tr>\n",
       "  </tbody>\n",
       "</table>\n",
       "</div>"
      ],
      "text/plain": [
       "       Airline Date_of_Journey    Source Destination                  Route  \\\n",
       "0       IndiGo      24/03/2019  Banglore   New Delhi              BLR → DEL   \n",
       "1    Air India       1/05/2019   Kolkata    Banglore  CCU → IXR → BBI → BLR   \n",
       "2  Jet Airways       9/06/2019     Delhi      Cochin  DEL → LKO → BOM → COK   \n",
       "3       IndiGo      12/05/2019   Kolkata    Banglore        CCU → NAG → BLR   \n",
       "4       IndiGo      01/03/2019  Banglore   New Delhi        BLR → NAG → DEL   \n",
       "\n",
       "  Dep_Time  Arrival_Time Duration Total_Stops Additional_Info  Price  \n",
       "0    22:20  01:10 22 Mar   2h 50m    non-stop         No info   3897  \n",
       "1    05:50         13:15   7h 25m     2 stops         No info   7662  \n",
       "2    09:25  04:25 10 Jun      19h     2 stops         No info  13882  \n",
       "3    18:05         23:30   5h 25m      1 stop         No info   6218  \n",
       "4    16:50         21:35   4h 45m      1 stop         No info  13302  "
      ]
     },
     "execution_count": 6,
     "metadata": {},
     "output_type": "execute_result"
    }
   ],
   "source": [
    "df.head()"
   ]
  },
  {
   "cell_type": "markdown",
   "id": "5938417c",
   "metadata": {},
   "source": [
    "<div style=\"color:white;\n",
    "           display:fill;\n",
    "           border-radius:5px;\n",
    "           background-color:pink;\n",
    "           font-size:200%;\n",
    "           font-family:Serif;\n",
    "           letter-spacing:0.5px\">\n",
    "\n",
    "<p style=\"padding: 10px;\n",
    "          color:black;\n",
    "          font-size:120%;\n",
    "          text-align:center;\">\n",
    "Basic understanding of Data\n",
    "</p>\n",
    "</div>"
   ]
  },
  {
   "cell_type": "markdown",
   "id": "a56ebbe5",
   "metadata": {},
   "source": [
    "## How big is the data "
   ]
  },
  {
   "cell_type": "code",
   "execution_count": 8,
   "id": "824344c9",
   "metadata": {},
   "outputs": [
    {
     "data": {
      "text/plain": [
       "(10683, 11)"
      ]
     },
     "execution_count": 8,
     "metadata": {},
     "output_type": "execute_result"
    }
   ],
   "source": [
    "df.shape"
   ]
  },
  {
   "cell_type": "markdown",
   "id": "02dbbd6f",
   "metadata": {},
   "source": [
    "<div style=\"border-radius:10px; border:#DEB887 solid; padding: 15px; background-color: #FFFAF0; font-size:100%; text-align:left\">\n",
    "\n",
    "<h3 align=\"left\"><font color='#DEB887'>-Observation:</font></h3>\n",
    "<div style=\"font-family:Georgia;background-color:'black'; font-color:'black',padding:30px; font-size:17px\">\n",
    "\n",
    "* There are total **11 Attributes/columns** available in the dataset.\n",
    "* There are total **10683 Records/Rows** available in the dataset."
   ]
  },
  {
   "cell_type": "markdown",
   "id": "9b23358e",
   "metadata": {},
   "source": []
  },
  {
   "cell_type": "markdown",
   "id": "392c5257",
   "metadata": {},
   "source": [
    "## Fetching column names "
   ]
  },
  {
   "cell_type": "code",
   "execution_count": 10,
   "id": "95bfd1fa",
   "metadata": {},
   "outputs": [
    {
     "data": {
      "text/plain": [
       "Index(['Airline', 'Date_of_Journey', 'Source', 'Destination', 'Route',\n",
       "       'Dep_Time', 'Arrival_Time', 'Duration', 'Total_Stops',\n",
       "       'Additional_Info', 'Price'],\n",
       "      dtype='object')"
      ]
     },
     "execution_count": 10,
     "metadata": {},
     "output_type": "execute_result"
    }
   ],
   "source": [
    "df.columns"
   ]
  },
  {
   "cell_type": "markdown",
   "id": "2af594b2",
   "metadata": {},
   "source": [
    "## Checking the info"
   ]
  },
  {
   "cell_type": "code",
   "execution_count": 12,
   "id": "8d47902b",
   "metadata": {},
   "outputs": [
    {
     "name": "stdout",
     "output_type": "stream",
     "text": [
      "<class 'pandas.core.frame.DataFrame'>\n",
      "RangeIndex: 10683 entries, 0 to 10682\n",
      "Data columns (total 11 columns):\n",
      " #   Column           Non-Null Count  Dtype \n",
      "---  ------           --------------  ----- \n",
      " 0   Airline          10683 non-null  object\n",
      " 1   Date_of_Journey  10683 non-null  object\n",
      " 2   Source           10683 non-null  object\n",
      " 3   Destination      10683 non-null  object\n",
      " 4   Route            10682 non-null  object\n",
      " 5   Dep_Time         10683 non-null  object\n",
      " 6   Arrival_Time     10683 non-null  object\n",
      " 7   Duration         10683 non-null  object\n",
      " 8   Total_Stops      10682 non-null  object\n",
      " 9   Additional_Info  10683 non-null  object\n",
      " 10  Price            10683 non-null  int64 \n",
      "dtypes: int64(1), object(10)\n",
      "memory usage: 918.2+ KB\n"
     ]
    }
   ],
   "source": [
    "df.info()"
   ]
  },
  {
   "cell_type": "markdown",
   "id": "47c16f48",
   "metadata": {},
   "source": [
    "<div style=\"border-radius:10px; border:#DEB887 solid; padding: 15px; background-color: #FFFAF0; font-size:100%; text-align:left\">\n",
    "\n",
    "<h3 align=\"left\"><font color='#DEB887'>-Observation:</font></h3>\n",
    "<div style=\"font-family:Georgia;background-color:'black'; font-color:'black',padding:30px; font-size:17px\">\n",
    "\n",
    "* In this data all the columns are of object type except Price , and we can see here the column names Date_of_Journey,Dep_Time,Arrival_Time need to be converted into datetime \n",
    "* there is a duration column which should be in numeric \n"
   ]
  },
  {
   "cell_type": "markdown",
   "id": "22510f2a",
   "metadata": {},
   "source": [
    "## Checking the unique values "
   ]
  },
  {
   "cell_type": "code",
   "execution_count": 14,
   "id": "c8705385",
   "metadata": {},
   "outputs": [
    {
     "name": "stdout",
     "output_type": "stream",
     "text": [
      "Airline ------------- ['IndiGo' 'Air India' 'Jet Airways' 'SpiceJet' 'Multiple carriers' 'GoAir'\n",
      " 'Vistara' 'Air Asia' 'Vistara Premium economy' 'Jet Airways Business'\n",
      " 'Multiple carriers Premium economy' 'Trujet'] ..... 12\n",
      "Date_of_Journey ------------- ['24/03/2019' '1/05/2019' '9/06/2019' '12/05/2019' '01/03/2019'\n",
      " '24/06/2019' '12/03/2019' '27/05/2019' '1/06/2019' '18/04/2019'\n",
      " '9/05/2019' '24/04/2019' '3/03/2019' '15/04/2019' '12/06/2019'\n",
      " '6/03/2019' '21/03/2019' '3/04/2019' '6/05/2019' '15/05/2019'\n",
      " '18/06/2019' '15/06/2019' '6/04/2019' '18/05/2019' '27/06/2019'\n",
      " '21/05/2019' '06/03/2019' '3/06/2019' '15/03/2019' '3/05/2019'\n",
      " '9/03/2019' '6/06/2019' '24/05/2019' '09/03/2019' '1/04/2019'\n",
      " '21/04/2019' '21/06/2019' '27/03/2019' '18/03/2019' '12/04/2019'\n",
      " '9/04/2019' '1/03/2019' '03/03/2019' '27/04/2019'] ..... 44\n",
      "Source ------------- ['Banglore' 'Kolkata' 'Delhi' 'Chennai' 'Mumbai'] ..... 5\n",
      "Destination ------------- ['New Delhi' 'Banglore' 'Cochin' 'Kolkata' 'Delhi' 'Hyderabad'] ..... 6\n",
      "Route ------------- ['BLR → DEL' 'CCU → IXR → BBI → BLR' 'DEL → LKO → BOM → COK'\n",
      " 'CCU → NAG → BLR' 'BLR → NAG → DEL' 'CCU → BLR' 'BLR → BOM → DEL'\n",
      " 'DEL → BOM → COK' 'DEL → BLR → COK' 'MAA → CCU' 'CCU → BOM → BLR'\n",
      " 'DEL → AMD → BOM → COK' 'DEL → PNQ → COK' 'DEL → CCU → BOM → COK'\n",
      " 'BLR → COK → DEL' 'DEL → IDR → BOM → COK' 'DEL → LKO → COK'\n",
      " 'CCU → GAU → DEL → BLR' 'DEL → NAG → BOM → COK' 'CCU → MAA → BLR'\n",
      " 'DEL → HYD → COK' 'CCU → HYD → BLR' 'DEL → COK' 'CCU → DEL → BLR'\n",
      " 'BLR → BOM → AMD → DEL' 'BOM → DEL → HYD' 'DEL → MAA → COK' 'BOM → HYD'\n",
      " 'DEL → BHO → BOM → COK' 'DEL → JAI → BOM → COK' 'DEL → ATQ → BOM → COK'\n",
      " 'DEL → JDH → BOM → COK' 'CCU → BBI → BOM → BLR' 'BLR → MAA → DEL'\n",
      " 'DEL → GOI → BOM → COK' 'DEL → BDQ → BOM → COK' 'CCU → JAI → BOM → BLR'\n",
      " 'CCU → BBI → BLR' 'BLR → HYD → DEL' 'DEL → TRV → COK'\n",
      " 'CCU → IXR → DEL → BLR' 'DEL → IXU → BOM → COK' 'CCU → IXB → BLR'\n",
      " 'BLR → BOM → JDH → DEL' 'DEL → UDR → BOM → COK' 'DEL → HYD → MAA → COK'\n",
      " 'CCU → BOM → COK → BLR' 'BLR → CCU → DEL' 'CCU → BOM → GOI → BLR'\n",
      " 'DEL → RPR → NAG → BOM → COK' 'DEL → HYD → BOM → COK'\n",
      " 'CCU → DEL → AMD → BLR' 'CCU → PNQ → BLR' 'BLR → CCU → GAU → DEL'\n",
      " 'CCU → DEL → COK → BLR' 'BLR → PNQ → DEL' 'BOM → JDH → DEL → HYD'\n",
      " 'BLR → BOM → BHO → DEL' 'DEL → AMD → COK' 'BLR → LKO → DEL'\n",
      " 'CCU → GAU → BLR' 'BOM → GOI → HYD' 'CCU → BOM → AMD → BLR'\n",
      " 'CCU → BBI → IXR → DEL → BLR' 'DEL → DED → BOM → COK'\n",
      " 'DEL → MAA → BOM → COK' 'BLR → AMD → DEL' 'BLR → VGA → DEL'\n",
      " 'CCU → JAI → DEL → BLR' 'CCU → AMD → BLR' 'CCU → VNS → DEL → BLR'\n",
      " 'BLR → BOM → IDR → DEL' 'BLR → BBI → DEL' 'BLR → GOI → DEL'\n",
      " 'BOM → AMD → ISK → HYD' 'BOM → DED → DEL → HYD' 'DEL → IXC → BOM → COK'\n",
      " 'CCU → PAT → BLR' 'BLR → CCU → BBI → DEL' 'CCU → BBI → HYD → BLR'\n",
      " 'BLR → BOM → NAG → DEL' 'BLR → CCU → BBI → HYD → DEL' 'BLR → GAU → DEL'\n",
      " 'BOM → BHO → DEL → HYD' 'BOM → JLR → HYD' 'BLR → HYD → VGA → DEL'\n",
      " 'CCU → KNU → BLR' 'CCU → BOM → PNQ → BLR' 'DEL → BBI → COK'\n",
      " 'BLR → VGA → HYD → DEL' 'BOM → JDH → JAI → DEL → HYD'\n",
      " 'DEL → GWL → IDR → BOM → COK' 'CCU → RPR → HYD → BLR' 'CCU → VTZ → BLR'\n",
      " 'CCU → DEL → VGA → BLR' 'BLR → BOM → IDR → GWL → DEL'\n",
      " 'CCU → DEL → COK → TRV → BLR' 'BOM → COK → MAA → HYD' 'BOM → NDC → HYD'\n",
      " 'BLR → BDQ → DEL' 'CCU → BOM → TRV → BLR' 'CCU → BOM → HBX → BLR'\n",
      " 'BOM → BDQ → DEL → HYD' 'BOM → CCU → HYD' 'BLR → TRV → COK → DEL'\n",
      " 'BLR → IDR → DEL' 'CCU → IXZ → MAA → BLR' 'CCU → GAU → IMF → DEL → BLR'\n",
      " 'BOM → GOI → PNQ → HYD' 'BOM → BLR → CCU → BBI → HYD' 'BOM → MAA → HYD'\n",
      " 'BLR → BOM → UDR → DEL' 'BOM → UDR → DEL → HYD' 'BLR → VGA → VTZ → DEL'\n",
      " 'BLR → HBX → BOM → BHO → DEL' 'CCU → IXA → BLR' 'BOM → RPR → VTZ → HYD'\n",
      " 'BLR → HBX → BOM → AMD → DEL' 'BOM → IDR → DEL → HYD' 'BOM → BLR → HYD'\n",
      " 'BLR → STV → DEL' 'CCU → IXB → DEL → BLR' 'BOM → JAI → DEL → HYD'\n",
      " 'BOM → VNS → DEL → HYD' 'BLR → HBX → BOM → NAG → DEL' nan\n",
      " 'BLR → BOM → IXC → DEL' 'BLR → CCU → BBI → HYD → VGA → DEL'\n",
      " 'BOM → BBI → HYD'] ..... 128\n",
      "Dep_Time ------------- ['22:20' '05:50' '09:25' '18:05' '16:50' '09:00' '18:55' '08:00' '08:55'\n",
      " '11:25' '09:45' '20:20' '11:40' '21:10' '17:15' '16:40' '08:45' '14:00'\n",
      " '20:15' '16:00' '14:10' '22:00' '04:00' '21:25' '21:50' '07:00' '07:05'\n",
      " '09:50' '14:35' '10:35' '15:05' '14:15' '06:45' '20:55' '11:10' '05:45'\n",
      " '19:00' '23:05' '11:00' '09:35' '21:15' '23:55' '19:45' '08:50' '15:40'\n",
      " '06:05' '15:00' '13:55' '05:55' '13:20' '05:05' '06:25' '17:30' '08:20'\n",
      " '19:55' '06:30' '14:05' '02:00' '09:40' '08:25' '20:25' '13:15' '02:15'\n",
      " '16:55' '20:45' '05:15' '19:50' '20:00' '06:10' '19:30' '04:45' '12:55'\n",
      " '18:15' '17:20' '15:25' '23:00' '12:00' '14:45' '11:50' '11:30' '14:40'\n",
      " '19:10' '06:00' '23:30' '07:35' '13:05' '12:30' '15:10' '12:50' '18:25'\n",
      " '16:30' '00:40' '06:50' '13:00' '19:15' '01:30' '17:00' '10:00' '19:35'\n",
      " '15:30' '12:10' '16:10' '20:35' '22:25' '21:05' '05:35' '05:10' '06:40'\n",
      " '15:15' '00:30' '08:30' '07:10' '05:30' '14:25' '05:25' '10:20' '17:45'\n",
      " '13:10' '22:10' '04:55' '17:50' '21:20' '06:20' '15:55' '20:30' '17:25'\n",
      " '09:30' '07:30' '02:35' '10:55' '17:10' '09:10' '18:45' '15:20' '22:50'\n",
      " '14:55' '14:20' '13:25' '22:15' '11:05' '16:15' '20:10' '06:55' '19:05'\n",
      " '07:55' '07:45' '10:10' '08:15' '11:35' '21:00' '17:55' '16:45' '18:20'\n",
      " '03:50' '08:35' '19:20' '20:05' '17:40' '04:40' '17:35' '09:55' '05:00'\n",
      " '18:00' '02:55' '20:40' '22:55' '22:40' '21:30' '08:10' '17:05' '07:25'\n",
      " '15:45' '09:15' '15:50' '11:45' '22:05' '18:35' '00:25' '19:40' '20:50'\n",
      " '22:45' '10:30' '23:25' '11:55' '10:45' '11:15' '12:20' '14:30' '07:15'\n",
      " '01:35' '18:40' '09:20' '21:55' '13:50' '01:40' '00:20' '04:15' '13:45'\n",
      " '18:30' '06:15' '02:05' '12:15' '13:30' '06:35' '10:05' '08:40' '03:05'\n",
      " '21:35' '16:35' '02:30' '16:25' '05:40' '15:35' '13:40' '07:20' '04:50'\n",
      " '12:45' '10:25' '12:05' '11:20' '21:40' '03:00'] ..... 222\n",
      "Arrival_Time ------------- ['01:10 22 Mar' '13:15' '04:25 10 Jun' ... '06:50 10 Mar' '00:05 19 Mar'\n",
      " '21:20 13 Mar'] ..... 1343\n",
      "Duration ------------- ['2h 50m' '7h 25m' '19h' '5h 25m' '4h 45m' '2h 25m' '15h 30m' '21h 5m'\n",
      " '25h 30m' '7h 50m' '13h 15m' '2h 35m' '2h 15m' '12h 10m' '26h 35m'\n",
      " '4h 30m' '22h 35m' '23h' '20h 35m' '5h 10m' '15h 20m' '2h 55m' '13h 20m'\n",
      " '15h 10m' '5h 45m' '5h 55m' '13h 25m' '22h' '5h 30m' '10h 25m' '5h 15m'\n",
      " '2h 30m' '6h 15m' '11h 55m' '11h 5m' '8h 30m' '22h 5m' '2h 45m' '12h'\n",
      " '16h 5m' '19h 55m' '3h 15m' '25h 20m' '3h' '16h 15m' '15h 5m' '6h 30m'\n",
      " '25h 5m' '12h 25m' '27h 20m' '10h 15m' '10h 30m' '1h 30m' '1h 25m'\n",
      " '26h 30m' '7h 20m' '13h 30m' '5h' '19h 5m' '14h 50m' '2h 40m' '22h 10m'\n",
      " '9h 35m' '10h' '21h 20m' '18h 45m' '12h 20m' '18h' '9h 15m' '17h 30m'\n",
      " '16h 35m' '12h 15m' '7h 30m' '24h' '8h 55m' '7h 10m' '14h 30m' '30h 20m'\n",
      " '15h' '12h 45m' '10h 10m' '15h 25m' '14h 5m' '20h 15m' '23h 10m'\n",
      " '18h 10m' '16h' '2h 20m' '8h' '16h 55m' '3h 10m' '14h' '23h 50m'\n",
      " '21h 40m' '21h 15m' '10h 50m' '8h 15m' '8h 35m' '11h 50m' '27h 35m'\n",
      " '8h 25m' '20h 55m' '4h 50m' '8h 10m' '24h 25m' '23h 35m' '25h 45m'\n",
      " '26h 10m' '28h 50m' '25h 15m' '9h 20m' '9h 10m' '3h 5m' '11h 30m'\n",
      " '9h 30m' '17h 35m' '5h 5m' '25h 50m' '20h' '13h' '18h 25m' '24h 10m'\n",
      " '4h 55m' '25h 35m' '6h 20m' '18h 40m' '19h 25m' '29h 20m' '9h 5m'\n",
      " '10h 45m' '11h 40m' '22h 55m' '37h 25m' '25h 40m' '13h 55m' '8h 40m'\n",
      " '23h 30m' '12h 35m' '24h 15m' '1h 20m' '11h' '11h 15m' '14h 35m'\n",
      " '12h 55m' '9h' '7h 40m' '11h 45m' '24h 55m' '17h 5m' '29h 55m' '22h 15m'\n",
      " '14h 40m' '7h 15m' '20h 10m' '20h 45m' '27h' '24h 30m' '20h 25m' '5h 35m'\n",
      " '14h 45m' '5h 40m' '4h 5m' '15h 55m' '7h 45m' '28h 20m' '4h 20m' '3h 40m'\n",
      " '8h 50m' '23h 45m' '24h 45m' '21h 35m' '8h 5m' '6h 25m' '15h 50m'\n",
      " '26h 25m' '24h 50m' '26h' '23h 5m' '7h 55m' '26h 20m' '23h 15m' '5h 20m'\n",
      " '4h' '9h 45m' '8h 20m' '17h 25m' '7h 5m' '34h 5m' '6h 5m' '5h 50m' '7h'\n",
      " '4h 25m' '13h 45m' '19h 15m' '22h 30m' '16h 25m' '13h 50m' '27h 5m'\n",
      " '28h 10m' '4h 40m' '15h 40m' '4h 35m' '18h 30m' '38h 15m' '6h 35m'\n",
      " '12h 30m' '11h 20m' '7h 35m' '29h 35m' '26h 55m' '23h 40m' '12h 50m'\n",
      " '9h 50m' '21h 55m' '10h 55m' '21h 10m' '20h 40m' '30h' '13h 10m' '8h 45m'\n",
      " '6h 10m' '17h 45m' '21h 45m' '3h 55m' '17h 20m' '30h 30m' '21h 25m'\n",
      " '12h 40m' '24h 35m' '19h 10m' '22h 40m' '14h 55m' '21h' '6h 45m'\n",
      " '28h 40m' '9h 40m' '16h 40m' '16h 20m' '16h 45m' '1h 15m' '6h 55m'\n",
      " '11h 25m' '14h 20m' '12h 5m' '24h 5m' '28h 15m' '17h 50m' '20h 20m'\n",
      " '28h 5m' '10h 20m' '14h 15m' '35h 15m' '35h 35m' '26h 40m' '28h'\n",
      " '14h 25m' '13h 5m' '37h 20m' '36h 10m' '25h 55m' '35h 5m' '19h 45m'\n",
      " '27h 55m' '47h' '10h 35m' '1h 35m' '16h 10m' '38h 20m' '6h' '16h 50m'\n",
      " '14h 10m' '23h 20m' '17h 40m' '11h 35m' '18h 20m' '6h 40m' '30h 55m'\n",
      " '24h 40m' '29h 50m' '28h 25m' '17h 15m' '22h 45m' '25h 25m' '21h 50m'\n",
      " '33h 15m' '30h 15m' '3h 35m' '27h 40m' '30h 25m' '18h 50m' '27h 45m'\n",
      " '15h 15m' '10h 40m' '26h 15m' '36h 25m' '26h 50m' '15h 45m' '19h 40m'\n",
      " '22h 25m' '19h 35m' '25h' '26h 45m' '38h' '4h 15m' '25h 10m' '18h 15m'\n",
      " '6h 50m' '23h 55m' '17h 55m' '23h 25m' '17h 10m' '24h 20m' '28h 30m'\n",
      " '27h 10m' '19h 20m' '15h 35m' '9h 25m' '21h 30m' '34h 25m' '18h 35m'\n",
      " '29h 40m' '26h 5m' '29h 5m' '27h 25m' '16h 30m' '11h 10m' '28h 55m'\n",
      " '29h 10m' '34h' '30h 40m' '30h 45m' '32h 55m' '10h 5m' '35h 20m' '32h 5m'\n",
      " '31h 40m' '19h 50m' '33h 45m' '30h 10m' '13h 40m' '19h 30m' '31h 30m'\n",
      " '34h 30m' '27h 50m' '38h 35m' '42h 5m' '4h 10m' '39h 5m' '3h 50m' '5m'\n",
      " '32h 30m' '31h 55m' '33h 20m' '27h 30m' '18h 55m' '9h 55m' '41h 20m'\n",
      " '20h 5m' '31h 50m' '42h 45m' '3h 25m' '37h 10m' '29h 30m' '32h 20m'\n",
      " '20h 50m' '40h 20m' '13h 35m' '47h 40m'] ..... 368\n",
      "Total_Stops ------------- ['non-stop' '2 stops' '1 stop' '3 stops' nan '4 stops'] ..... 5\n",
      "Additional_Info ------------- ['No info' 'In-flight meal not included' 'No check-in baggage included'\n",
      " '1 Short layover' 'No Info' '1 Long layover' 'Change airports'\n",
      " 'Business class' 'Red-eye flight' '2 Long layover'] ..... 10\n",
      "Price ------------- [ 3897  7662 13882 ...  9790 12352 12648] ..... 1870\n"
     ]
    }
   ],
   "source": [
    "for i  in df.columns:\n",
    "    print(i,\"-------------\",df[i].unique(),'.....',df[i].nunique())"
   ]
  },
  {
   "cell_type": "markdown",
   "id": "a68dd442",
   "metadata": {},
   "source": [
    "<div style=\"border-radius:10px; border:#DEB887 solid; padding: 15px; background-color: #FFFAF0; font-size:100%; text-align:left\">\n",
    "\n",
    "<h3 align=\"left\"><font color='#DEB887'>-Observation:</font></h3>\n",
    "<div style=\"font-family:Georgia;background-color:'black'; font-color:'black',padding:30px; font-size:17px\">\n",
    "\n",
    "* From this output we can see there is anomly in airline names : \n",
    "    vistara premimum economy with vistara\n",
    "    multiple carriers with multiple carriers premium economy\n",
    "    jet airways with jet airways business \n",
    "    \n",
    "    \n",
    "    \n",
    "\n",
    "* From this output we can see there is anomly in destination:\n",
    "    new Delhi with Delhi\n",
    "\n",
    "    \n",
    "    \n",
    "    \n",
    "We need to resolve this above mentioned inconsistency"
   ]
  },
  {
   "cell_type": "markdown",
   "id": "c392c275",
   "metadata": {},
   "source": [
    "<div style=\"color:white;\n",
    "           display:fill;\n",
    "           border-radius:5px;\n",
    "           background-color:pink;\n",
    "           font-size:200%;\n",
    "           font-family:Serif;\n",
    "           letter-spacing:0.5px\">\n",
    "\n",
    "<p style=\"padding: 10px;\n",
    "          color:black;\n",
    "          font-size:120%;\n",
    "          text-align:center;\">\n",
    "Preprocessing \n",
    "</p>\n",
    "</div>"
   ]
  },
  {
   "cell_type": "markdown",
   "id": "0efd5c0b",
   "metadata": {},
   "source": [
    "## Cleaning \n"
   ]
  },
  {
   "cell_type": "markdown",
   "id": "f937ad7f",
   "metadata": {},
   "source": [
    "checking the missing values"
   ]
  },
  {
   "cell_type": "code",
   "execution_count": 16,
   "id": "5df81c07",
   "metadata": {
    "scrolled": true
   },
   "outputs": [
    {
     "data": {
      "text/html": [
       "<div>\n",
       "<style scoped>\n",
       "    .dataframe tbody tr th:only-of-type {\n",
       "        vertical-align: middle;\n",
       "    }\n",
       "\n",
       "    .dataframe tbody tr th {\n",
       "        vertical-align: top;\n",
       "    }\n",
       "\n",
       "    .dataframe thead th {\n",
       "        text-align: right;\n",
       "    }\n",
       "</style>\n",
       "<table border=\"1\" class=\"dataframe\">\n",
       "  <thead>\n",
       "    <tr style=\"text-align: right;\">\n",
       "      <th></th>\n",
       "      <th>Airline</th>\n",
       "      <th>Date_of_Journey</th>\n",
       "      <th>Source</th>\n",
       "      <th>Destination</th>\n",
       "      <th>Route</th>\n",
       "      <th>Dep_Time</th>\n",
       "      <th>Arrival_Time</th>\n",
       "      <th>Duration</th>\n",
       "      <th>Total_Stops</th>\n",
       "      <th>Additional_Info</th>\n",
       "      <th>Price</th>\n",
       "    </tr>\n",
       "  </thead>\n",
       "  <tbody>\n",
       "    <tr>\n",
       "      <th>missing_values_count</th>\n",
       "      <td>0</td>\n",
       "      <td>0</td>\n",
       "      <td>0</td>\n",
       "      <td>0</td>\n",
       "      <td>1</td>\n",
       "      <td>0</td>\n",
       "      <td>0</td>\n",
       "      <td>0</td>\n",
       "      <td>1</td>\n",
       "      <td>0</td>\n",
       "      <td>0</td>\n",
       "    </tr>\n",
       "  </tbody>\n",
       "</table>\n",
       "</div>"
      ],
      "text/plain": [
       "                      Airline  Date_of_Journey  Source  Destination  Route  \\\n",
       "missing_values_count        0                0       0            0      1   \n",
       "\n",
       "                      Dep_Time  Arrival_Time  Duration  Total_Stops  \\\n",
       "missing_values_count         0             0         0            1   \n",
       "\n",
       "                      Additional_Info  Price  \n",
       "missing_values_count                0      0  "
      ]
     },
     "execution_count": 16,
     "metadata": {},
     "output_type": "execute_result"
    }
   ],
   "source": [
    "df.isnull().sum().to_frame().rename(columns={0:\"missing_values_count\"}).T"
   ]
  },
  {
   "cell_type": "code",
   "execution_count": 18,
   "id": "eb5b31a2",
   "metadata": {
    "scrolled": true
   },
   "outputs": [
    {
     "data": {
      "text/plain": [
       "0    DEL → BOM → COK\n",
       "Name: Route, dtype: object"
      ]
     },
     "execution_count": 18,
     "metadata": {},
     "output_type": "execute_result"
    }
   ],
   "source": [
    "df[\"Route\"].mode()"
   ]
  },
  {
   "cell_type": "code",
   "execution_count": 20,
   "id": "31098a55",
   "metadata": {},
   "outputs": [
    {
     "data": {
      "text/plain": [
       "0    1 stop\n",
       "Name: Total_Stops, dtype: object"
      ]
     },
     "execution_count": 20,
     "metadata": {},
     "output_type": "execute_result"
    }
   ],
   "source": [
    "df[\"Total_Stops\"].mode()"
   ]
  },
  {
   "cell_type": "code",
   "execution_count": 22,
   "id": "55973aa2",
   "metadata": {},
   "outputs": [
    {
     "data": {
      "text/html": [
       "<div>\n",
       "<style scoped>\n",
       "    .dataframe tbody tr th:only-of-type {\n",
       "        vertical-align: middle;\n",
       "    }\n",
       "\n",
       "    .dataframe tbody tr th {\n",
       "        vertical-align: top;\n",
       "    }\n",
       "\n",
       "    .dataframe thead th {\n",
       "        text-align: right;\n",
       "    }\n",
       "</style>\n",
       "<table border=\"1\" class=\"dataframe\">\n",
       "  <thead>\n",
       "    <tr style=\"text-align: right;\">\n",
       "      <th></th>\n",
       "      <th>Airline</th>\n",
       "      <th>Date_of_Journey</th>\n",
       "      <th>Source</th>\n",
       "      <th>Destination</th>\n",
       "      <th>Route</th>\n",
       "      <th>Dep_Time</th>\n",
       "      <th>Arrival_Time</th>\n",
       "      <th>Duration</th>\n",
       "      <th>Total_Stops</th>\n",
       "      <th>Additional_Info</th>\n",
       "      <th>Price</th>\n",
       "    </tr>\n",
       "  </thead>\n",
       "  <tbody>\n",
       "    <tr>\n",
       "      <th>9039</th>\n",
       "      <td>Air India</td>\n",
       "      <td>6/05/2019</td>\n",
       "      <td>Delhi</td>\n",
       "      <td>Cochin</td>\n",
       "      <td>NaN</td>\n",
       "      <td>09:45</td>\n",
       "      <td>09:25 07 May</td>\n",
       "      <td>23h 40m</td>\n",
       "      <td>NaN</td>\n",
       "      <td>No info</td>\n",
       "      <td>7480</td>\n",
       "    </tr>\n",
       "  </tbody>\n",
       "</table>\n",
       "</div>"
      ],
      "text/plain": [
       "        Airline Date_of_Journey Source Destination Route Dep_Time  \\\n",
       "9039  Air India       6/05/2019  Delhi      Cochin   NaN    09:45   \n",
       "\n",
       "      Arrival_Time Duration Total_Stops Additional_Info  Price  \n",
       "9039  09:25 07 May  23h 40m         NaN         No info   7480  "
      ]
     },
     "execution_count": 22,
     "metadata": {},
     "output_type": "execute_result"
    }
   ],
   "source": [
    "df[df[\"Route\"].isnull()]"
   ]
  },
  {
   "cell_type": "code",
   "execution_count": 24,
   "id": "0141f3a9",
   "metadata": {},
   "outputs": [
    {
     "data": {
      "text/html": [
       "<div>\n",
       "<style scoped>\n",
       "    .dataframe tbody tr th:only-of-type {\n",
       "        vertical-align: middle;\n",
       "    }\n",
       "\n",
       "    .dataframe tbody tr th {\n",
       "        vertical-align: top;\n",
       "    }\n",
       "\n",
       "    .dataframe thead th {\n",
       "        text-align: right;\n",
       "    }\n",
       "</style>\n",
       "<table border=\"1\" class=\"dataframe\">\n",
       "  <thead>\n",
       "    <tr style=\"text-align: right;\">\n",
       "      <th></th>\n",
       "      <th>Airline</th>\n",
       "      <th>Date_of_Journey</th>\n",
       "      <th>Source</th>\n",
       "      <th>Destination</th>\n",
       "      <th>Route</th>\n",
       "      <th>Dep_Time</th>\n",
       "      <th>Arrival_Time</th>\n",
       "      <th>Duration</th>\n",
       "      <th>Total_Stops</th>\n",
       "      <th>Additional_Info</th>\n",
       "      <th>Price</th>\n",
       "    </tr>\n",
       "  </thead>\n",
       "  <tbody>\n",
       "    <tr>\n",
       "      <th>0</th>\n",
       "      <td>IndiGo</td>\n",
       "      <td>24/03/2019</td>\n",
       "      <td>Banglore</td>\n",
       "      <td>New Delhi</td>\n",
       "      <td>BLR → DEL</td>\n",
       "      <td>22:20</td>\n",
       "      <td>01:10 22 Mar</td>\n",
       "      <td>2h 50m</td>\n",
       "      <td>non-stop</td>\n",
       "      <td>No info</td>\n",
       "      <td>3897</td>\n",
       "    </tr>\n",
       "    <tr>\n",
       "      <th>1</th>\n",
       "      <td>Air India</td>\n",
       "      <td>1/05/2019</td>\n",
       "      <td>Kolkata</td>\n",
       "      <td>Banglore</td>\n",
       "      <td>CCU → IXR → BBI → BLR</td>\n",
       "      <td>05:50</td>\n",
       "      <td>13:15</td>\n",
       "      <td>7h 25m</td>\n",
       "      <td>2 stops</td>\n",
       "      <td>No info</td>\n",
       "      <td>7662</td>\n",
       "    </tr>\n",
       "    <tr>\n",
       "      <th>2</th>\n",
       "      <td>Jet Airways</td>\n",
       "      <td>9/06/2019</td>\n",
       "      <td>Delhi</td>\n",
       "      <td>Cochin</td>\n",
       "      <td>DEL → LKO → BOM → COK</td>\n",
       "      <td>09:25</td>\n",
       "      <td>04:25 10 Jun</td>\n",
       "      <td>19h</td>\n",
       "      <td>2 stops</td>\n",
       "      <td>No info</td>\n",
       "      <td>13882</td>\n",
       "    </tr>\n",
       "    <tr>\n",
       "      <th>3</th>\n",
       "      <td>IndiGo</td>\n",
       "      <td>12/05/2019</td>\n",
       "      <td>Kolkata</td>\n",
       "      <td>Banglore</td>\n",
       "      <td>CCU → NAG → BLR</td>\n",
       "      <td>18:05</td>\n",
       "      <td>23:30</td>\n",
       "      <td>5h 25m</td>\n",
       "      <td>1 stop</td>\n",
       "      <td>No info</td>\n",
       "      <td>6218</td>\n",
       "    </tr>\n",
       "    <tr>\n",
       "      <th>4</th>\n",
       "      <td>IndiGo</td>\n",
       "      <td>01/03/2019</td>\n",
       "      <td>Banglore</td>\n",
       "      <td>New Delhi</td>\n",
       "      <td>BLR → NAG → DEL</td>\n",
       "      <td>16:50</td>\n",
       "      <td>21:35</td>\n",
       "      <td>4h 45m</td>\n",
       "      <td>1 stop</td>\n",
       "      <td>No info</td>\n",
       "      <td>13302</td>\n",
       "    </tr>\n",
       "  </tbody>\n",
       "</table>\n",
       "</div>"
      ],
      "text/plain": [
       "       Airline Date_of_Journey    Source Destination                  Route  \\\n",
       "0       IndiGo      24/03/2019  Banglore   New Delhi              BLR → DEL   \n",
       "1    Air India       1/05/2019   Kolkata    Banglore  CCU → IXR → BBI → BLR   \n",
       "2  Jet Airways       9/06/2019     Delhi      Cochin  DEL → LKO → BOM → COK   \n",
       "3       IndiGo      12/05/2019   Kolkata    Banglore        CCU → NAG → BLR   \n",
       "4       IndiGo      01/03/2019  Banglore   New Delhi        BLR → NAG → DEL   \n",
       "\n",
       "  Dep_Time  Arrival_Time Duration Total_Stops Additional_Info  Price  \n",
       "0    22:20  01:10 22 Mar   2h 50m    non-stop         No info   3897  \n",
       "1    05:50         13:15   7h 25m     2 stops         No info   7662  \n",
       "2    09:25  04:25 10 Jun      19h     2 stops         No info  13882  \n",
       "3    18:05         23:30   5h 25m      1 stop         No info   6218  \n",
       "4    16:50         21:35   4h 45m      1 stop         No info  13302  "
      ]
     },
     "execution_count": 24,
     "metadata": {},
     "output_type": "execute_result"
    }
   ],
   "source": [
    "df.head()"
   ]
  },
  {
   "cell_type": "markdown",
   "id": "7ce02d34",
   "metadata": {},
   "source": [
    "## Handling missing values"
   ]
  },
  {
   "cell_type": "code",
   "execution_count": 26,
   "id": "3d0c8f44",
   "metadata": {},
   "outputs": [
    {
     "data": {
      "text/plain": [
       "Route          object\n",
       "Total_Stops    object\n",
       "dtype: object"
      ]
     },
     "execution_count": 26,
     "metadata": {},
     "output_type": "execute_result"
    }
   ],
   "source": [
    "df[[\"Route\",\"Total_Stops\"]].dtypes"
   ]
  },
  {
   "cell_type": "code",
   "execution_count": 28,
   "id": "1689a7eb",
   "metadata": {},
   "outputs": [
    {
     "data": {
      "text/plain": [
       "0    DEL → BOM → COK\n",
       "Name: Route, dtype: object"
      ]
     },
     "execution_count": 28,
     "metadata": {},
     "output_type": "execute_result"
    }
   ],
   "source": [
    "df[\"Route\"].mode()"
   ]
  },
  {
   "cell_type": "code",
   "execution_count": 30,
   "id": "10d25d10",
   "metadata": {},
   "outputs": [
    {
     "data": {
      "text/plain": [
       "0    1 stop\n",
       "Name: Total_Stops, dtype: object"
      ]
     },
     "execution_count": 30,
     "metadata": {},
     "output_type": "execute_result"
    }
   ],
   "source": [
    "df[\"Total_Stops\"].mode()"
   ]
  },
  {
   "cell_type": "code",
   "execution_count": 32,
   "id": "4d3346ed",
   "metadata": {},
   "outputs": [
    {
     "data": {
      "text/html": [
       "<div>\n",
       "<style scoped>\n",
       "    .dataframe tbody tr th:only-of-type {\n",
       "        vertical-align: middle;\n",
       "    }\n",
       "\n",
       "    .dataframe tbody tr th {\n",
       "        vertical-align: top;\n",
       "    }\n",
       "\n",
       "    .dataframe thead th {\n",
       "        text-align: right;\n",
       "    }\n",
       "</style>\n",
       "<table border=\"1\" class=\"dataframe\">\n",
       "  <thead>\n",
       "    <tr style=\"text-align: right;\">\n",
       "      <th></th>\n",
       "      <th>Airline</th>\n",
       "      <th>Date_of_Journey</th>\n",
       "      <th>Source</th>\n",
       "      <th>Destination</th>\n",
       "      <th>Route</th>\n",
       "      <th>Dep_Time</th>\n",
       "      <th>Arrival_Time</th>\n",
       "      <th>Duration</th>\n",
       "      <th>Total_Stops</th>\n",
       "      <th>Additional_Info</th>\n",
       "      <th>Price</th>\n",
       "    </tr>\n",
       "  </thead>\n",
       "  <tbody>\n",
       "    <tr>\n",
       "      <th>9039</th>\n",
       "      <td>Air India</td>\n",
       "      <td>6/05/2019</td>\n",
       "      <td>Delhi</td>\n",
       "      <td>Cochin</td>\n",
       "      <td>NaN</td>\n",
       "      <td>09:45</td>\n",
       "      <td>09:25 07 May</td>\n",
       "      <td>23h 40m</td>\n",
       "      <td>NaN</td>\n",
       "      <td>No info</td>\n",
       "      <td>7480</td>\n",
       "    </tr>\n",
       "  </tbody>\n",
       "</table>\n",
       "</div>"
      ],
      "text/plain": [
       "        Airline Date_of_Journey Source Destination Route Dep_Time  \\\n",
       "9039  Air India       6/05/2019  Delhi      Cochin   NaN    09:45   \n",
       "\n",
       "      Arrival_Time Duration Total_Stops Additional_Info  Price  \n",
       "9039  09:25 07 May  23h 40m         NaN         No info   7480  "
      ]
     },
     "execution_count": 32,
     "metadata": {},
     "output_type": "execute_result"
    }
   ],
   "source": [
    "df[df[\"Route\"].isnull()]"
   ]
  },
  {
   "cell_type": "code",
   "execution_count": 34,
   "id": "fc3f79c2",
   "metadata": {},
   "outputs": [],
   "source": [
    "df[\"Route\"]=df[\"Route\"].fillna(df[\"Route\"].mode()[0])\n",
    "df[\"Total_Stops\"]=df[\"Total_Stops\"].fillna(df[\"Total_Stops\"].mode()[0])"
   ]
  },
  {
   "cell_type": "code",
   "execution_count": 36,
   "id": "1cad4f58",
   "metadata": {},
   "outputs": [
    {
     "data": {
      "text/plain": [
       "0"
      ]
     },
     "execution_count": 36,
     "metadata": {},
     "output_type": "execute_result"
    }
   ],
   "source": [
    "df.isnull().sum().sum()"
   ]
  },
  {
   "cell_type": "code",
   "execution_count": 38,
   "id": "acf8ae77",
   "metadata": {},
   "outputs": [
    {
     "data": {
      "text/html": [
       "<div>\n",
       "<style scoped>\n",
       "    .dataframe tbody tr th:only-of-type {\n",
       "        vertical-align: middle;\n",
       "    }\n",
       "\n",
       "    .dataframe tbody tr th {\n",
       "        vertical-align: top;\n",
       "    }\n",
       "\n",
       "    .dataframe thead th {\n",
       "        text-align: right;\n",
       "    }\n",
       "</style>\n",
       "<table border=\"1\" class=\"dataframe\">\n",
       "  <thead>\n",
       "    <tr style=\"text-align: right;\">\n",
       "      <th></th>\n",
       "      <th>Airline</th>\n",
       "      <th>Date_of_Journey</th>\n",
       "      <th>Source</th>\n",
       "      <th>Destination</th>\n",
       "      <th>Route</th>\n",
       "      <th>Dep_Time</th>\n",
       "      <th>Arrival_Time</th>\n",
       "      <th>Duration</th>\n",
       "      <th>Total_Stops</th>\n",
       "      <th>Additional_Info</th>\n",
       "      <th>Price</th>\n",
       "    </tr>\n",
       "  </thead>\n",
       "  <tbody>\n",
       "    <tr>\n",
       "      <th>9039</th>\n",
       "      <td>Air India</td>\n",
       "      <td>6/05/2019</td>\n",
       "      <td>Delhi</td>\n",
       "      <td>Cochin</td>\n",
       "      <td>DEL → BOM → COK</td>\n",
       "      <td>09:45</td>\n",
       "      <td>09:25 07 May</td>\n",
       "      <td>23h 40m</td>\n",
       "      <td>1 stop</td>\n",
       "      <td>No info</td>\n",
       "      <td>7480</td>\n",
       "    </tr>\n",
       "  </tbody>\n",
       "</table>\n",
       "</div>"
      ],
      "text/plain": [
       "        Airline Date_of_Journey Source Destination            Route Dep_Time  \\\n",
       "9039  Air India       6/05/2019  Delhi      Cochin  DEL → BOM → COK    09:45   \n",
       "\n",
       "      Arrival_Time Duration Total_Stops Additional_Info  Price  \n",
       "9039  09:25 07 May  23h 40m      1 stop         No info   7480  "
      ]
     },
     "execution_count": 38,
     "metadata": {},
     "output_type": "execute_result"
    }
   ],
   "source": [
    "df.loc[[9039]]"
   ]
  },
  {
   "cell_type": "code",
   "execution_count": 40,
   "id": "888c58f9",
   "metadata": {},
   "outputs": [
    {
     "data": {
      "text/plain": [
       "Airline            object\n",
       "Date_of_Journey    object\n",
       "Source             object\n",
       "Destination        object\n",
       "Route              object\n",
       "Dep_Time           object\n",
       "Arrival_Time       object\n",
       "Duration           object\n",
       "Total_Stops        object\n",
       "Additional_Info    object\n",
       "Price               int64\n",
       "dtype: object"
      ]
     },
     "execution_count": 40,
     "metadata": {},
     "output_type": "execute_result"
    }
   ],
   "source": [
    "df.dtypes"
   ]
  },
  {
   "cell_type": "code",
   "execution_count": 42,
   "id": "f74e6f56",
   "metadata": {},
   "outputs": [
    {
     "data": {
      "text/plain": [
       "170"
      ]
     },
     "execution_count": 42,
     "metadata": {},
     "output_type": "execute_result"
    }
   ],
   "source": [
    "a='2h 50m'\n",
    "b=a.replace('h','*h').replace(' ','+').replace('m','*1')\n",
    "h=60\n",
    "eval(b)"
   ]
  },
  {
   "cell_type": "code",
   "execution_count": 23,
   "id": "3e028c49",
   "metadata": {},
   "outputs": [
    {
     "data": {
      "text/plain": [
       "170"
      ]
     },
     "execution_count": 23,
     "metadata": {},
     "output_type": "execute_result"
    }
   ],
   "source": [
    "a='2h 50m'\n",
    "eval(a.replace('h','*60').replace(' ','+').replace('m','*1'))\n",
    "# 2*60+50*1"
   ]
  },
  {
   "cell_type": "code",
   "execution_count": 44,
   "id": "0483aa32",
   "metadata": {
    "scrolled": true
   },
   "outputs": [
    {
     "data": {
      "text/plain": [
       "array(['2h 50m', '7h 25m', '19h', '5h 25m', '4h 45m', '2h 25m', '15h 30m',\n",
       "       '21h 5m', '25h 30m', '7h 50m', '13h 15m', '2h 35m', '2h 15m',\n",
       "       '12h 10m', '26h 35m', '4h 30m', '22h 35m', '23h', '20h 35m',\n",
       "       '5h 10m', '15h 20m', '2h 55m', '13h 20m', '15h 10m', '5h 45m',\n",
       "       '5h 55m', '13h 25m', '22h', '5h 30m', '10h 25m', '5h 15m',\n",
       "       '2h 30m', '6h 15m', '11h 55m', '11h 5m', '8h 30m', '22h 5m',\n",
       "       '2h 45m', '12h', '16h 5m', '19h 55m', '3h 15m', '25h 20m', '3h',\n",
       "       '16h 15m', '15h 5m', '6h 30m', '25h 5m', '12h 25m', '27h 20m',\n",
       "       '10h 15m', '10h 30m', '1h 30m', '1h 25m', '26h 30m', '7h 20m',\n",
       "       '13h 30m', '5h', '19h 5m', '14h 50m', '2h 40m', '22h 10m',\n",
       "       '9h 35m', '10h', '21h 20m', '18h 45m', '12h 20m', '18h', '9h 15m',\n",
       "       '17h 30m', '16h 35m', '12h 15m', '7h 30m', '24h', '8h 55m',\n",
       "       '7h 10m', '14h 30m', '30h 20m', '15h', '12h 45m', '10h 10m',\n",
       "       '15h 25m', '14h 5m', '20h 15m', '23h 10m', '18h 10m', '16h',\n",
       "       '2h 20m', '8h', '16h 55m', '3h 10m', '14h', '23h 50m', '21h 40m',\n",
       "       '21h 15m', '10h 50m', '8h 15m', '8h 35m', '11h 50m', '27h 35m',\n",
       "       '8h 25m', '20h 55m', '4h 50m', '8h 10m', '24h 25m', '23h 35m',\n",
       "       '25h 45m', '26h 10m', '28h 50m', '25h 15m', '9h 20m', '9h 10m',\n",
       "       '3h 5m', '11h 30m', '9h 30m', '17h 35m', '5h 5m', '25h 50m', '20h',\n",
       "       '13h', '18h 25m', '24h 10m', '4h 55m', '25h 35m', '6h 20m',\n",
       "       '18h 40m', '19h 25m', '29h 20m', '9h 5m', '10h 45m', '11h 40m',\n",
       "       '22h 55m', '37h 25m', '25h 40m', '13h 55m', '8h 40m', '23h 30m',\n",
       "       '12h 35m', '24h 15m', '1h 20m', '11h', '11h 15m', '14h 35m',\n",
       "       '12h 55m', '9h', '7h 40m', '11h 45m', '24h 55m', '17h 5m',\n",
       "       '29h 55m', '22h 15m', '14h 40m', '7h 15m', '20h 10m', '20h 45m',\n",
       "       '27h', '24h 30m', '20h 25m', '5h 35m', '14h 45m', '5h 40m',\n",
       "       '4h 5m', '15h 55m', '7h 45m', '28h 20m', '4h 20m', '3h 40m',\n",
       "       '8h 50m', '23h 45m', '24h 45m', '21h 35m', '8h 5m', '6h 25m',\n",
       "       '15h 50m', '26h 25m', '24h 50m', '26h', '23h 5m', '7h 55m',\n",
       "       '26h 20m', '23h 15m', '5h 20m', '4h', '9h 45m', '8h 20m',\n",
       "       '17h 25m', '7h 5m', '34h 5m', '6h 5m', '5h 50m', '7h', '4h 25m',\n",
       "       '13h 45m', '19h 15m', '22h 30m', '16h 25m', '13h 50m', '27h 5m',\n",
       "       '28h 10m', '4h 40m', '15h 40m', '4h 35m', '18h 30m', '38h 15m',\n",
       "       '6h 35m', '12h 30m', '11h 20m', '7h 35m', '29h 35m', '26h 55m',\n",
       "       '23h 40m', '12h 50m', '9h 50m', '21h 55m', '10h 55m', '21h 10m',\n",
       "       '20h 40m', '30h', '13h 10m', '8h 45m', '6h 10m', '17h 45m',\n",
       "       '21h 45m', '3h 55m', '17h 20m', '30h 30m', '21h 25m', '12h 40m',\n",
       "       '24h 35m', '19h 10m', '22h 40m', '14h 55m', '21h', '6h 45m',\n",
       "       '28h 40m', '9h 40m', '16h 40m', '16h 20m', '16h 45m', '1h 15m',\n",
       "       '6h 55m', '11h 25m', '14h 20m', '12h 5m', '24h 5m', '28h 15m',\n",
       "       '17h 50m', '20h 20m', '28h 5m', '10h 20m', '14h 15m', '35h 15m',\n",
       "       '35h 35m', '26h 40m', '28h', '14h 25m', '13h 5m', '37h 20m',\n",
       "       '36h 10m', '25h 55m', '35h 5m', '19h 45m', '27h 55m', '47h',\n",
       "       '10h 35m', '1h 35m', '16h 10m', '38h 20m', '6h', '16h 50m',\n",
       "       '14h 10m', '23h 20m', '17h 40m', '11h 35m', '18h 20m', '6h 40m',\n",
       "       '30h 55m', '24h 40m', '29h 50m', '28h 25m', '17h 15m', '22h 45m',\n",
       "       '25h 25m', '21h 50m', '33h 15m', '30h 15m', '3h 35m', '27h 40m',\n",
       "       '30h 25m', '18h 50m', '27h 45m', '15h 15m', '10h 40m', '26h 15m',\n",
       "       '36h 25m', '26h 50m', '15h 45m', '19h 40m', '22h 25m', '19h 35m',\n",
       "       '25h', '26h 45m', '38h', '4h 15m', '25h 10m', '18h 15m', '6h 50m',\n",
       "       '23h 55m', '17h 55m', '23h 25m', '17h 10m', '24h 20m', '28h 30m',\n",
       "       '27h 10m', '19h 20m', '15h 35m', '9h 25m', '21h 30m', '34h 25m',\n",
       "       '18h 35m', '29h 40m', '26h 5m', '29h 5m', '27h 25m', '16h 30m',\n",
       "       '11h 10m', '28h 55m', '29h 10m', '34h', '30h 40m', '30h 45m',\n",
       "       '32h 55m', '10h 5m', '35h 20m', '32h 5m', '31h 40m', '19h 50m',\n",
       "       '33h 45m', '30h 10m', '13h 40m', '19h 30m', '31h 30m', '34h 30m',\n",
       "       '27h 50m', '38h 35m', '42h 5m', '4h 10m', '39h 5m', '3h 50m', '5m',\n",
       "       '32h 30m', '31h 55m', '33h 20m', '27h 30m', '18h 55m', '9h 55m',\n",
       "       '41h 20m', '20h 5m', '31h 50m', '42h 45m', '3h 25m', '37h 10m',\n",
       "       '29h 30m', '32h 20m', '20h 50m', '40h 20m', '13h 35m', '47h 40m'],\n",
       "      dtype=object)"
      ]
     },
     "execution_count": 44,
     "metadata": {},
     "output_type": "execute_result"
    }
   ],
   "source": [
    "df[\"Duration\"].unique()"
   ]
  },
  {
   "cell_type": "code",
   "execution_count": 46,
   "id": "f3ba2ae6",
   "metadata": {},
   "outputs": [
    {
     "data": {
      "text/plain": [
       "'2*60+50*1'"
      ]
     },
     "execution_count": 46,
     "metadata": {},
     "output_type": "execute_result"
    }
   ],
   "source": [
    "a='2h 50m'\n",
    "b=a.replace('h','*60').replace(' ','+').replace('m','*1')\n",
    "b"
   ]
  },
  {
   "cell_type": "code",
   "execution_count": 48,
   "id": "35ed5caf",
   "metadata": {},
   "outputs": [
    {
     "data": {
      "text/plain": [
       "170"
      ]
     },
     "execution_count": 48,
     "metadata": {},
     "output_type": "execute_result"
    }
   ],
   "source": [
    "eval(b)"
   ]
  },
  {
   "cell_type": "code",
   "execution_count": null,
   "id": "6eac3ccd",
   "metadata": {},
   "outputs": [],
   "source": []
  },
  {
   "cell_type": "code",
   "execution_count": null,
   "id": "235e5a5d",
   "metadata": {},
   "outputs": [],
   "source": []
  },
  {
   "cell_type": "code",
   "execution_count": 50,
   "id": "378f20ac",
   "metadata": {},
   "outputs": [
    {
     "name": "stdout",
     "output_type": "stream",
     "text": [
      "2*h+50*1\n"
     ]
    }
   ],
   "source": [
    "s='2h 50m'\n",
    "s=s.replace('h','*h').replace('m','*1').replace(' ','+')\n",
    "print(s)\n",
    "h=60"
   ]
  },
  {
   "cell_type": "code",
   "execution_count": 52,
   "id": "50e2b42f",
   "metadata": {},
   "outputs": [
    {
     "data": {
      "text/plain": [
       "170"
      ]
     },
     "execution_count": 52,
     "metadata": {},
     "output_type": "execute_result"
    }
   ],
   "source": [
    "eval(s)"
   ]
  },
  {
   "cell_type": "code",
   "execution_count": null,
   "id": "b1576a3f",
   "metadata": {},
   "outputs": [],
   "source": []
  },
  {
   "cell_type": "code",
   "execution_count": 55,
   "id": "359c4bab",
   "metadata": {},
   "outputs": [
    {
     "data": {
      "text/html": [
       "<div>\n",
       "<style scoped>\n",
       "    .dataframe tbody tr th:only-of-type {\n",
       "        vertical-align: middle;\n",
       "    }\n",
       "\n",
       "    .dataframe tbody tr th {\n",
       "        vertical-align: top;\n",
       "    }\n",
       "\n",
       "    .dataframe thead th {\n",
       "        text-align: right;\n",
       "    }\n",
       "</style>\n",
       "<table border=\"1\" class=\"dataframe\">\n",
       "  <thead>\n",
       "    <tr style=\"text-align: right;\">\n",
       "      <th></th>\n",
       "      <th>Airline</th>\n",
       "      <th>Date_of_Journey</th>\n",
       "      <th>Source</th>\n",
       "      <th>Destination</th>\n",
       "      <th>Route</th>\n",
       "      <th>Dep_Time</th>\n",
       "      <th>Arrival_Time</th>\n",
       "      <th>Duration</th>\n",
       "      <th>Total_Stops</th>\n",
       "      <th>Additional_Info</th>\n",
       "      <th>Price</th>\n",
       "    </tr>\n",
       "  </thead>\n",
       "  <tbody>\n",
       "    <tr>\n",
       "      <th>6474</th>\n",
       "      <td>Air India</td>\n",
       "      <td>6/03/2019</td>\n",
       "      <td>Mumbai</td>\n",
       "      <td>Hyderabad</td>\n",
       "      <td>BOM → GOI → PNQ → HYD</td>\n",
       "      <td>16:50</td>\n",
       "      <td>16:55</td>\n",
       "      <td>5m</td>\n",
       "      <td>2 stops</td>\n",
       "      <td>No info</td>\n",
       "      <td>17327</td>\n",
       "    </tr>\n",
       "  </tbody>\n",
       "</table>\n",
       "</div>"
      ],
      "text/plain": [
       "        Airline Date_of_Journey  Source Destination                  Route  \\\n",
       "6474  Air India       6/03/2019  Mumbai   Hyderabad  BOM → GOI → PNQ → HYD   \n",
       "\n",
       "     Dep_Time Arrival_Time Duration Total_Stops Additional_Info  Price  \n",
       "6474    16:50        16:55       5m     2 stops         No info  17327  "
      ]
     },
     "execution_count": 55,
     "metadata": {},
     "output_type": "execute_result"
    }
   ],
   "source": [
    "df[df['Duration']=='5m']"
   ]
  },
  {
   "cell_type": "code",
   "execution_count": 57,
   "id": "cbf706e0",
   "metadata": {},
   "outputs": [
    {
     "data": {
      "text/plain": [
       "array(['2h 50m', '7h 25m', '19h', '5h 25m', '4h 45m', '2h 25m', '15h 30m',\n",
       "       '21h 5m', '25h 30m', '7h 50m', '13h 15m', '2h 35m', '2h 15m',\n",
       "       '12h 10m', '26h 35m', '4h 30m', '22h 35m', '23h', '20h 35m',\n",
       "       '5h 10m', '15h 20m', '2h 55m', '13h 20m', '15h 10m', '5h 45m',\n",
       "       '5h 55m', '13h 25m', '22h', '5h 30m', '10h 25m', '5h 15m',\n",
       "       '2h 30m', '6h 15m', '11h 55m', '11h 5m', '8h 30m', '22h 5m',\n",
       "       '2h 45m', '12h', '16h 5m', '19h 55m', '3h 15m', '25h 20m', '3h',\n",
       "       '16h 15m', '15h 5m', '6h 30m', '25h 5m', '12h 25m', '27h 20m',\n",
       "       '10h 15m', '10h 30m', '1h 30m', '1h 25m', '26h 30m', '7h 20m',\n",
       "       '13h 30m', '5h', '19h 5m', '14h 50m', '2h 40m', '22h 10m',\n",
       "       '9h 35m', '10h', '21h 20m', '18h 45m', '12h 20m', '18h', '9h 15m',\n",
       "       '17h 30m', '16h 35m', '12h 15m', '7h 30m', '24h', '8h 55m',\n",
       "       '7h 10m', '14h 30m', '30h 20m', '15h', '12h 45m', '10h 10m',\n",
       "       '15h 25m', '14h 5m', '20h 15m', '23h 10m', '18h 10m', '16h',\n",
       "       '2h 20m', '8h', '16h 55m', '3h 10m', '14h', '23h 50m', '21h 40m',\n",
       "       '21h 15m', '10h 50m', '8h 15m', '8h 35m', '11h 50m', '27h 35m',\n",
       "       '8h 25m', '20h 55m', '4h 50m', '8h 10m', '24h 25m', '23h 35m',\n",
       "       '25h 45m', '26h 10m', '28h 50m', '25h 15m', '9h 20m', '9h 10m',\n",
       "       '3h 5m', '11h 30m', '9h 30m', '17h 35m', '5h 5m', '25h 50m', '20h',\n",
       "       '13h', '18h 25m', '24h 10m', '4h 55m', '25h 35m', '6h 20m',\n",
       "       '18h 40m', '19h 25m', '29h 20m', '9h 5m', '10h 45m', '11h 40m',\n",
       "       '22h 55m', '37h 25m', '25h 40m', '13h 55m', '8h 40m', '23h 30m',\n",
       "       '12h 35m', '24h 15m', '1h 20m', '11h', '11h 15m', '14h 35m',\n",
       "       '12h 55m', '9h', '7h 40m', '11h 45m', '24h 55m', '17h 5m',\n",
       "       '29h 55m', '22h 15m', '14h 40m', '7h 15m', '20h 10m', '20h 45m',\n",
       "       '27h', '24h 30m', '20h 25m', '5h 35m', '14h 45m', '5h 40m',\n",
       "       '4h 5m', '15h 55m', '7h 45m', '28h 20m', '4h 20m', '3h 40m',\n",
       "       '8h 50m', '23h 45m', '24h 45m', '21h 35m', '8h 5m', '6h 25m',\n",
       "       '15h 50m', '26h 25m', '24h 50m', '26h', '23h 5m', '7h 55m',\n",
       "       '26h 20m', '23h 15m', '5h 20m', '4h', '9h 45m', '8h 20m',\n",
       "       '17h 25m', '7h 5m', '34h 5m', '6h 5m', '5h 50m', '7h', '4h 25m',\n",
       "       '13h 45m', '19h 15m', '22h 30m', '16h 25m', '13h 50m', '27h 5m',\n",
       "       '28h 10m', '4h 40m', '15h 40m', '4h 35m', '18h 30m', '38h 15m',\n",
       "       '6h 35m', '12h 30m', '11h 20m', '7h 35m', '29h 35m', '26h 55m',\n",
       "       '23h 40m', '12h 50m', '9h 50m', '21h 55m', '10h 55m', '21h 10m',\n",
       "       '20h 40m', '30h', '13h 10m', '8h 45m', '6h 10m', '17h 45m',\n",
       "       '21h 45m', '3h 55m', '17h 20m', '30h 30m', '21h 25m', '12h 40m',\n",
       "       '24h 35m', '19h 10m', '22h 40m', '14h 55m', '21h', '6h 45m',\n",
       "       '28h 40m', '9h 40m', '16h 40m', '16h 20m', '16h 45m', '1h 15m',\n",
       "       '6h 55m', '11h 25m', '14h 20m', '12h 5m', '24h 5m', '28h 15m',\n",
       "       '17h 50m', '20h 20m', '28h 5m', '10h 20m', '14h 15m', '35h 15m',\n",
       "       '35h 35m', '26h 40m', '28h', '14h 25m', '13h 5m', '37h 20m',\n",
       "       '36h 10m', '25h 55m', '35h 5m', '19h 45m', '27h 55m', '47h',\n",
       "       '10h 35m', '1h 35m', '16h 10m', '38h 20m', '6h', '16h 50m',\n",
       "       '14h 10m', '23h 20m', '17h 40m', '11h 35m', '18h 20m', '6h 40m',\n",
       "       '30h 55m', '24h 40m', '29h 50m', '28h 25m', '17h 15m', '22h 45m',\n",
       "       '25h 25m', '21h 50m', '33h 15m', '30h 15m', '3h 35m', '27h 40m',\n",
       "       '30h 25m', '18h 50m', '27h 45m', '15h 15m', '10h 40m', '26h 15m',\n",
       "       '36h 25m', '26h 50m', '15h 45m', '19h 40m', '22h 25m', '19h 35m',\n",
       "       '25h', '26h 45m', '38h', '4h 15m', '25h 10m', '18h 15m', '6h 50m',\n",
       "       '23h 55m', '17h 55m', '23h 25m', '17h 10m', '24h 20m', '28h 30m',\n",
       "       '27h 10m', '19h 20m', '15h 35m', '9h 25m', '21h 30m', '34h 25m',\n",
       "       '18h 35m', '29h 40m', '26h 5m', '29h 5m', '27h 25m', '16h 30m',\n",
       "       '11h 10m', '28h 55m', '29h 10m', '34h', '30h 40m', '30h 45m',\n",
       "       '32h 55m', '10h 5m', '35h 20m', '32h 5m', '31h 40m', '19h 50m',\n",
       "       '33h 45m', '30h 10m', '13h 40m', '19h 30m', '31h 30m', '34h 30m',\n",
       "       '27h 50m', '38h 35m', '42h 5m', '4h 10m', '39h 5m', '3h 50m', '5m',\n",
       "       '32h 30m', '31h 55m', '33h 20m', '27h 30m', '18h 55m', '9h 55m',\n",
       "       '41h 20m', '20h 5m', '31h 50m', '42h 45m', '3h 25m', '37h 10m',\n",
       "       '29h 30m', '32h 20m', '20h 50m', '40h 20m', '13h 35m', '47h 40m'],\n",
       "      dtype=object)"
      ]
     },
     "execution_count": 57,
     "metadata": {},
     "output_type": "execute_result"
    }
   ],
   "source": [
    "df[\"Duration\"].unique()"
   ]
  },
  {
   "cell_type": "code",
   "execution_count": 59,
   "id": "01a635b8",
   "metadata": {
    "scrolled": true
   },
   "outputs": [
    {
     "name": "stdout",
     "output_type": "stream",
     "text": [
      "5m\n"
     ]
    }
   ],
   "source": [
    "for i in df[\"Duration\"].unique():\n",
    "    if (len(i)==3 and 'm' in i) or (len(i)==2 and 'm' in i) :\n",
    "        print(i)"
   ]
  },
  {
   "cell_type": "code",
   "execution_count": 61,
   "id": "b8d1f2f2",
   "metadata": {},
   "outputs": [
    {
     "data": {
      "text/plain": [
       "19"
      ]
     },
     "execution_count": 61,
     "metadata": {},
     "output_type": "execute_result"
    }
   ],
   "source": [
    "eval(\"3+8*2\")"
   ]
  },
  {
   "cell_type": "code",
   "execution_count": 63,
   "id": "35c188f8",
   "metadata": {
    "scrolled": true
   },
   "outputs": [],
   "source": [
    "df[\"Duration\"]=df[\"Duration\"].str.replace(\"h\",\"*60\").str.replace(\" \",\"+\").str.replace(\"m\",\"*1\").apply(eval)"
   ]
  },
  {
   "cell_type": "code",
   "execution_count": null,
   "id": "d7bcfa62",
   "metadata": {},
   "outputs": [],
   "source": []
  },
  {
   "cell_type": "code",
   "execution_count": 65,
   "id": "2e7c3d04",
   "metadata": {
    "scrolled": true
   },
   "outputs": [
    {
     "data": {
      "text/plain": [
       "0         170\n",
       "1         445\n",
       "2        1140\n",
       "3         325\n",
       "4         285\n",
       "         ... \n",
       "10678     150\n",
       "10679     155\n",
       "10680     180\n",
       "10681     160\n",
       "10682     500\n",
       "Name: Duration, Length: 10683, dtype: int64"
      ]
     },
     "execution_count": 65,
     "metadata": {},
     "output_type": "execute_result"
    }
   ],
   "source": [
    "df[\"Duration\"]"
   ]
  },
  {
   "cell_type": "code",
   "execution_count": 67,
   "id": "47198648",
   "metadata": {},
   "outputs": [
    {
     "data": {
      "text/html": [
       "<div>\n",
       "<style scoped>\n",
       "    .dataframe tbody tr th:only-of-type {\n",
       "        vertical-align: middle;\n",
       "    }\n",
       "\n",
       "    .dataframe tbody tr th {\n",
       "        vertical-align: top;\n",
       "    }\n",
       "\n",
       "    .dataframe thead th {\n",
       "        text-align: right;\n",
       "    }\n",
       "</style>\n",
       "<table border=\"1\" class=\"dataframe\">\n",
       "  <thead>\n",
       "    <tr style=\"text-align: right;\">\n",
       "      <th></th>\n",
       "      <th>Airline</th>\n",
       "      <th>Date_of_Journey</th>\n",
       "      <th>Source</th>\n",
       "      <th>Destination</th>\n",
       "      <th>Route</th>\n",
       "      <th>Dep_Time</th>\n",
       "      <th>Arrival_Time</th>\n",
       "      <th>Duration</th>\n",
       "      <th>Total_Stops</th>\n",
       "      <th>Additional_Info</th>\n",
       "      <th>Price</th>\n",
       "    </tr>\n",
       "  </thead>\n",
       "  <tbody>\n",
       "    <tr>\n",
       "      <th>0</th>\n",
       "      <td>IndiGo</td>\n",
       "      <td>24/03/2019</td>\n",
       "      <td>Banglore</td>\n",
       "      <td>New Delhi</td>\n",
       "      <td>BLR → DEL</td>\n",
       "      <td>22:20</td>\n",
       "      <td>01:10 22 Mar</td>\n",
       "      <td>170</td>\n",
       "      <td>non-stop</td>\n",
       "      <td>No info</td>\n",
       "      <td>3897</td>\n",
       "    </tr>\n",
       "    <tr>\n",
       "      <th>1</th>\n",
       "      <td>Air India</td>\n",
       "      <td>1/05/2019</td>\n",
       "      <td>Kolkata</td>\n",
       "      <td>Banglore</td>\n",
       "      <td>CCU → IXR → BBI → BLR</td>\n",
       "      <td>05:50</td>\n",
       "      <td>13:15</td>\n",
       "      <td>445</td>\n",
       "      <td>2 stops</td>\n",
       "      <td>No info</td>\n",
       "      <td>7662</td>\n",
       "    </tr>\n",
       "    <tr>\n",
       "      <th>2</th>\n",
       "      <td>Jet Airways</td>\n",
       "      <td>9/06/2019</td>\n",
       "      <td>Delhi</td>\n",
       "      <td>Cochin</td>\n",
       "      <td>DEL → LKO → BOM → COK</td>\n",
       "      <td>09:25</td>\n",
       "      <td>04:25 10 Jun</td>\n",
       "      <td>1140</td>\n",
       "      <td>2 stops</td>\n",
       "      <td>No info</td>\n",
       "      <td>13882</td>\n",
       "    </tr>\n",
       "    <tr>\n",
       "      <th>3</th>\n",
       "      <td>IndiGo</td>\n",
       "      <td>12/05/2019</td>\n",
       "      <td>Kolkata</td>\n",
       "      <td>Banglore</td>\n",
       "      <td>CCU → NAG → BLR</td>\n",
       "      <td>18:05</td>\n",
       "      <td>23:30</td>\n",
       "      <td>325</td>\n",
       "      <td>1 stop</td>\n",
       "      <td>No info</td>\n",
       "      <td>6218</td>\n",
       "    </tr>\n",
       "    <tr>\n",
       "      <th>4</th>\n",
       "      <td>IndiGo</td>\n",
       "      <td>01/03/2019</td>\n",
       "      <td>Banglore</td>\n",
       "      <td>New Delhi</td>\n",
       "      <td>BLR → NAG → DEL</td>\n",
       "      <td>16:50</td>\n",
       "      <td>21:35</td>\n",
       "      <td>285</td>\n",
       "      <td>1 stop</td>\n",
       "      <td>No info</td>\n",
       "      <td>13302</td>\n",
       "    </tr>\n",
       "  </tbody>\n",
       "</table>\n",
       "</div>"
      ],
      "text/plain": [
       "       Airline Date_of_Journey    Source Destination                  Route  \\\n",
       "0       IndiGo      24/03/2019  Banglore   New Delhi              BLR → DEL   \n",
       "1    Air India       1/05/2019   Kolkata    Banglore  CCU → IXR → BBI → BLR   \n",
       "2  Jet Airways       9/06/2019     Delhi      Cochin  DEL → LKO → BOM → COK   \n",
       "3       IndiGo      12/05/2019   Kolkata    Banglore        CCU → NAG → BLR   \n",
       "4       IndiGo      01/03/2019  Banglore   New Delhi        BLR → NAG → DEL   \n",
       "\n",
       "  Dep_Time  Arrival_Time  Duration Total_Stops Additional_Info  Price  \n",
       "0    22:20  01:10 22 Mar       170    non-stop         No info   3897  \n",
       "1    05:50         13:15       445     2 stops         No info   7662  \n",
       "2    09:25  04:25 10 Jun      1140     2 stops         No info  13882  \n",
       "3    18:05         23:30       325      1 stop         No info   6218  \n",
       "4    16:50         21:35       285      1 stop         No info  13302  "
      ]
     },
     "execution_count": 67,
     "metadata": {},
     "output_type": "execute_result"
    }
   ],
   "source": [
    "df.head()"
   ]
  },
  {
   "cell_type": "code",
   "execution_count": 69,
   "id": "c1e26046",
   "metadata": {
    "scrolled": true
   },
   "outputs": [
    {
     "data": {
      "text/html": [
       "<div>\n",
       "<style scoped>\n",
       "    .dataframe tbody tr th:only-of-type {\n",
       "        vertical-align: middle;\n",
       "    }\n",
       "\n",
       "    .dataframe tbody tr th {\n",
       "        vertical-align: top;\n",
       "    }\n",
       "\n",
       "    .dataframe thead th {\n",
       "        text-align: right;\n",
       "    }\n",
       "</style>\n",
       "<table border=\"1\" class=\"dataframe\">\n",
       "  <thead>\n",
       "    <tr style=\"text-align: right;\">\n",
       "      <th></th>\n",
       "      <th>Airline</th>\n",
       "      <th>Date_of_Journey</th>\n",
       "      <th>Source</th>\n",
       "      <th>Destination</th>\n",
       "      <th>Route</th>\n",
       "      <th>Dep_Time</th>\n",
       "      <th>Arrival_Time</th>\n",
       "      <th>Duration</th>\n",
       "      <th>Total_Stops</th>\n",
       "      <th>Additional_Info</th>\n",
       "      <th>Price</th>\n",
       "    </tr>\n",
       "  </thead>\n",
       "  <tbody>\n",
       "    <tr>\n",
       "      <th>6474</th>\n",
       "      <td>Air India</td>\n",
       "      <td>6/03/2019</td>\n",
       "      <td>Mumbai</td>\n",
       "      <td>Hyderabad</td>\n",
       "      <td>BOM → GOI → PNQ → HYD</td>\n",
       "      <td>16:50</td>\n",
       "      <td>16:55</td>\n",
       "      <td>5</td>\n",
       "      <td>2 stops</td>\n",
       "      <td>No info</td>\n",
       "      <td>17327</td>\n",
       "    </tr>\n",
       "  </tbody>\n",
       "</table>\n",
       "</div>"
      ],
      "text/plain": [
       "        Airline Date_of_Journey  Source Destination                  Route  \\\n",
       "6474  Air India       6/03/2019  Mumbai   Hyderabad  BOM → GOI → PNQ → HYD   \n",
       "\n",
       "     Dep_Time Arrival_Time  Duration Total_Stops Additional_Info  Price  \n",
       "6474    16:50        16:55         5     2 stops         No info  17327  "
      ]
     },
     "execution_count": 69,
     "metadata": {},
     "output_type": "execute_result"
    }
   ],
   "source": [
    "df.sort_values(by='Duration').head(1)"
   ]
  },
  {
   "cell_type": "markdown",
   "id": "ead65cdd",
   "metadata": {},
   "source": [
    "## Feature engineering"
   ]
  },
  {
   "cell_type": "code",
   "execution_count": 34,
   "id": "f9787b83",
   "metadata": {},
   "outputs": [],
   "source": [
    "## change the types of arrival time,departure time, date in datetime and extarct the day,month,year,hour from these columns"
   ]
  },
  {
   "cell_type": "code",
   "execution_count": 71,
   "id": "94389882",
   "metadata": {},
   "outputs": [],
   "source": [
    "df['Date_of_Journey']=pd.to_datetime(df['Date_of_Journey'])\n",
    "df[\"Dep_Time\"]=pd.to_datetime(df['Dep_Time'])\n",
    "df[\"Arrival_Time\"]=pd.to_datetime(df['Arrival_Time'])"
   ]
  },
  {
   "cell_type": "markdown",
   "id": "9e853a5f",
   "metadata": {},
   "source": [
    "## Checking dtypes of above columns  again "
   ]
  },
  {
   "cell_type": "code",
   "execution_count": 74,
   "id": "f46270e0",
   "metadata": {},
   "outputs": [
    {
     "data": {
      "text/html": [
       "<div>\n",
       "<style scoped>\n",
       "    .dataframe tbody tr th:only-of-type {\n",
       "        vertical-align: middle;\n",
       "    }\n",
       "\n",
       "    .dataframe tbody tr th {\n",
       "        vertical-align: top;\n",
       "    }\n",
       "\n",
       "    .dataframe thead th {\n",
       "        text-align: right;\n",
       "    }\n",
       "</style>\n",
       "<table border=\"1\" class=\"dataframe\">\n",
       "  <thead>\n",
       "    <tr style=\"text-align: right;\">\n",
       "      <th></th>\n",
       "      <th>Airline</th>\n",
       "      <th>Date_of_Journey</th>\n",
       "      <th>Source</th>\n",
       "      <th>Destination</th>\n",
       "      <th>Route</th>\n",
       "      <th>Dep_Time</th>\n",
       "      <th>Arrival_Time</th>\n",
       "      <th>Duration</th>\n",
       "      <th>Total_Stops</th>\n",
       "      <th>Additional_Info</th>\n",
       "      <th>Price</th>\n",
       "    </tr>\n",
       "  </thead>\n",
       "  <tbody>\n",
       "    <tr>\n",
       "      <th>dtypes</th>\n",
       "      <td>object</td>\n",
       "      <td>datetime64[ns]</td>\n",
       "      <td>object</td>\n",
       "      <td>object</td>\n",
       "      <td>object</td>\n",
       "      <td>datetime64[ns]</td>\n",
       "      <td>datetime64[ns]</td>\n",
       "      <td>int64</td>\n",
       "      <td>object</td>\n",
       "      <td>object</td>\n",
       "      <td>int64</td>\n",
       "    </tr>\n",
       "  </tbody>\n",
       "</table>\n",
       "</div>"
      ],
      "text/plain": [
       "       Airline Date_of_Journey  Source Destination   Route        Dep_Time  \\\n",
       "dtypes  object  datetime64[ns]  object      object  object  datetime64[ns]   \n",
       "\n",
       "          Arrival_Time Duration Total_Stops Additional_Info  Price  \n",
       "dtypes  datetime64[ns]    int64      object          object  int64  "
      ]
     },
     "execution_count": 74,
     "metadata": {},
     "output_type": "execute_result"
    }
   ],
   "source": [
    "df.dtypes.to_frame().rename(columns={0:\"dtypes\"}).T"
   ]
  },
  {
   "cell_type": "code",
   "execution_count": 76,
   "id": "55314283",
   "metadata": {},
   "outputs": [
    {
     "data": {
      "text/html": [
       "<div>\n",
       "<style scoped>\n",
       "    .dataframe tbody tr th:only-of-type {\n",
       "        vertical-align: middle;\n",
       "    }\n",
       "\n",
       "    .dataframe tbody tr th {\n",
       "        vertical-align: top;\n",
       "    }\n",
       "\n",
       "    .dataframe thead th {\n",
       "        text-align: right;\n",
       "    }\n",
       "</style>\n",
       "<table border=\"1\" class=\"dataframe\">\n",
       "  <thead>\n",
       "    <tr style=\"text-align: right;\">\n",
       "      <th></th>\n",
       "      <th>Airline</th>\n",
       "      <th>Date_of_Journey</th>\n",
       "      <th>Source</th>\n",
       "      <th>Destination</th>\n",
       "      <th>Route</th>\n",
       "      <th>Dep_Time</th>\n",
       "      <th>Arrival_Time</th>\n",
       "      <th>Duration</th>\n",
       "      <th>Total_Stops</th>\n",
       "      <th>Additional_Info</th>\n",
       "      <th>Price</th>\n",
       "    </tr>\n",
       "  </thead>\n",
       "  <tbody>\n",
       "    <tr>\n",
       "      <th>0</th>\n",
       "      <td>IndiGo</td>\n",
       "      <td>2019-03-24</td>\n",
       "      <td>Banglore</td>\n",
       "      <td>New Delhi</td>\n",
       "      <td>BLR → DEL</td>\n",
       "      <td>2025-05-27 22:20:00</td>\n",
       "      <td>2025-03-22 01:10:00</td>\n",
       "      <td>170</td>\n",
       "      <td>non-stop</td>\n",
       "      <td>No info</td>\n",
       "      <td>3897</td>\n",
       "    </tr>\n",
       "    <tr>\n",
       "      <th>1</th>\n",
       "      <td>Air India</td>\n",
       "      <td>2019-05-01</td>\n",
       "      <td>Kolkata</td>\n",
       "      <td>Banglore</td>\n",
       "      <td>CCU → IXR → BBI → BLR</td>\n",
       "      <td>2025-05-27 05:50:00</td>\n",
       "      <td>2025-05-27 13:15:00</td>\n",
       "      <td>445</td>\n",
       "      <td>2 stops</td>\n",
       "      <td>No info</td>\n",
       "      <td>7662</td>\n",
       "    </tr>\n",
       "  </tbody>\n",
       "</table>\n",
       "</div>"
      ],
      "text/plain": [
       "     Airline Date_of_Journey    Source Destination                  Route  \\\n",
       "0     IndiGo      2019-03-24  Banglore   New Delhi              BLR → DEL   \n",
       "1  Air India      2019-05-01   Kolkata    Banglore  CCU → IXR → BBI → BLR   \n",
       "\n",
       "             Dep_Time        Arrival_Time  Duration Total_Stops  \\\n",
       "0 2025-05-27 22:20:00 2025-03-22 01:10:00       170    non-stop   \n",
       "1 2025-05-27 05:50:00 2025-05-27 13:15:00       445     2 stops   \n",
       "\n",
       "  Additional_Info  Price  \n",
       "0         No info   3897  \n",
       "1         No info   7662  "
      ]
     },
     "execution_count": 76,
     "metadata": {},
     "output_type": "execute_result"
    }
   ],
   "source": [
    "df.head(2)"
   ]
  },
  {
   "cell_type": "code",
   "execution_count": 78,
   "id": "d25cae4a",
   "metadata": {},
   "outputs": [],
   "source": [
    "# Extracting  day \n",
    "df[\"day_of_journey\"] = df[\"Date_of_Journey\"].dt.day\n",
    "\n",
    "# Extracting month\n",
    "df[\"month_of_journey\"] = df[\"Date_of_Journey\"].dt.month\n",
    "\n",
    "## Extracting  departure Hours\n",
    "df[\"Dep_hour\"] = df[\"Dep_Time\"].dt.hour\n",
    "\n",
    "# Extracting departure Minutes\n",
    "df[\"Dep_min\"] = df[\"Dep_Time\"].dt.minute\n",
    "\n",
    "## Extracting  arrival Hours\n",
    "df[\"arrival_hour\"] = df[\"Arrival_Time\"].dt.hour\n",
    "\n",
    "# Extracting arrival Minutes\n",
    "df[\"arrival_min\"] = df[\"Arrival_Time\"].dt.minute"
   ]
  },
  {
   "cell_type": "code",
   "execution_count": 80,
   "id": "dda55182",
   "metadata": {},
   "outputs": [
    {
     "data": {
      "text/plain": [
       "(10683, 14)"
      ]
     },
     "execution_count": 80,
     "metadata": {},
     "output_type": "execute_result"
    }
   ],
   "source": [
    "df.drop(columns=[\"Date_of_Journey\",\"Dep_Time\",\"Arrival_Time\"],inplace=True)\n",
    "df.shape"
   ]
  },
  {
   "cell_type": "code",
   "execution_count": 82,
   "id": "5a2e5b64",
   "metadata": {},
   "outputs": [
    {
     "data": {
      "text/html": [
       "<div>\n",
       "<style scoped>\n",
       "    .dataframe tbody tr th:only-of-type {\n",
       "        vertical-align: middle;\n",
       "    }\n",
       "\n",
       "    .dataframe tbody tr th {\n",
       "        vertical-align: top;\n",
       "    }\n",
       "\n",
       "    .dataframe thead th {\n",
       "        text-align: right;\n",
       "    }\n",
       "</style>\n",
       "<table border=\"1\" class=\"dataframe\">\n",
       "  <thead>\n",
       "    <tr style=\"text-align: right;\">\n",
       "      <th></th>\n",
       "      <th>Airline</th>\n",
       "      <th>Source</th>\n",
       "      <th>Destination</th>\n",
       "      <th>Route</th>\n",
       "      <th>Duration</th>\n",
       "      <th>Total_Stops</th>\n",
       "      <th>Additional_Info</th>\n",
       "      <th>Price</th>\n",
       "      <th>day_of_journey</th>\n",
       "      <th>month_of_journey</th>\n",
       "      <th>Dep_hour</th>\n",
       "      <th>Dep_min</th>\n",
       "      <th>arrival_hour</th>\n",
       "      <th>arrival_min</th>\n",
       "    </tr>\n",
       "  </thead>\n",
       "  <tbody>\n",
       "    <tr>\n",
       "      <th>0</th>\n",
       "      <td>IndiGo</td>\n",
       "      <td>Banglore</td>\n",
       "      <td>New Delhi</td>\n",
       "      <td>BLR → DEL</td>\n",
       "      <td>170</td>\n",
       "      <td>non-stop</td>\n",
       "      <td>No info</td>\n",
       "      <td>3897</td>\n",
       "      <td>24</td>\n",
       "      <td>3</td>\n",
       "      <td>22</td>\n",
       "      <td>20</td>\n",
       "      <td>1</td>\n",
       "      <td>10</td>\n",
       "    </tr>\n",
       "    <tr>\n",
       "      <th>1</th>\n",
       "      <td>Air India</td>\n",
       "      <td>Kolkata</td>\n",
       "      <td>Banglore</td>\n",
       "      <td>CCU → IXR → BBI → BLR</td>\n",
       "      <td>445</td>\n",
       "      <td>2 stops</td>\n",
       "      <td>No info</td>\n",
       "      <td>7662</td>\n",
       "      <td>1</td>\n",
       "      <td>5</td>\n",
       "      <td>5</td>\n",
       "      <td>50</td>\n",
       "      <td>13</td>\n",
       "      <td>15</td>\n",
       "    </tr>\n",
       "  </tbody>\n",
       "</table>\n",
       "</div>"
      ],
      "text/plain": [
       "     Airline    Source Destination                  Route  Duration  \\\n",
       "0     IndiGo  Banglore   New Delhi              BLR → DEL       170   \n",
       "1  Air India   Kolkata    Banglore  CCU → IXR → BBI → BLR       445   \n",
       "\n",
       "  Total_Stops Additional_Info  Price  day_of_journey  month_of_journey  \\\n",
       "0    non-stop         No info   3897              24                 3   \n",
       "1     2 stops         No info   7662               1                 5   \n",
       "\n",
       "   Dep_hour  Dep_min  arrival_hour  arrival_min  \n",
       "0        22       20             1           10  \n",
       "1         5       50            13           15  "
      ]
     },
     "execution_count": 82,
     "metadata": {},
     "output_type": "execute_result"
    }
   ],
   "source": [
    "df.head(2)"
   ]
  },
  {
   "cell_type": "markdown",
   "id": "863f3b3c",
   "metadata": {},
   "source": [
    "## Handles inconsistency"
   ]
  },
  {
   "cell_type": "code",
   "execution_count": 84,
   "id": "3778ef1c",
   "metadata": {},
   "outputs": [
    {
     "data": {
      "text/plain": [
       "array(['IndiGo', 'Air India', 'Jet Airways', 'SpiceJet',\n",
       "       'Multiple carriers', 'GoAir', 'Vistara', 'Air Asia',\n",
       "       'Vistara Premium economy', 'Jet Airways Business',\n",
       "       'Multiple carriers Premium economy', 'Trujet'], dtype=object)"
      ]
     },
     "execution_count": 84,
     "metadata": {},
     "output_type": "execute_result"
    }
   ],
   "source": [
    "df[\"Airline\"].unique()"
   ]
  },
  {
   "cell_type": "code",
   "execution_count": 86,
   "id": "c266e932",
   "metadata": {},
   "outputs": [],
   "source": [
    "df[\"Airline\"]=df[\"Airline\"].str.replace(\"Vistara Premium economy\",\"Vistara\")\n",
    "df[\"Airline\"]=df[\"Airline\"].str.replace(\"Jet Airways Business\",\"Jet Airways\")\n",
    "df[\"Airline\"]=df[\"Airline\"].str.replace(\"Multiple carriers Premium economy\",\"Multiple carriers\")"
   ]
  },
  {
   "cell_type": "code",
   "execution_count": 88,
   "id": "aa049d4a",
   "metadata": {},
   "outputs": [
    {
     "data": {
      "text/plain": [
       "array(['IndiGo', 'Air India', 'Jet Airways', 'SpiceJet',\n",
       "       'Multiple carriers', 'GoAir', 'Vistara', 'Air Asia', 'Trujet'],\n",
       "      dtype=object)"
      ]
     },
     "execution_count": 88,
     "metadata": {},
     "output_type": "execute_result"
    }
   ],
   "source": [
    "df[\"Airline\"].unique()"
   ]
  },
  {
   "cell_type": "code",
   "execution_count": 90,
   "id": "d1c68a65",
   "metadata": {},
   "outputs": [
    {
     "data": {
      "text/plain": [
       "array(['New Delhi', 'Banglore', 'Cochin', 'Kolkata', 'Delhi', 'Hyderabad'],\n",
       "      dtype=object)"
      ]
     },
     "execution_count": 90,
     "metadata": {},
     "output_type": "execute_result"
    }
   ],
   "source": [
    "df[\"Destination\"].unique()"
   ]
  },
  {
   "cell_type": "code",
   "execution_count": 92,
   "id": "1133291f",
   "metadata": {},
   "outputs": [],
   "source": [
    "df[\"Destination\"]=df[\"Destination\"].replace(\"New Delhi\",\"Delhi\")"
   ]
  },
  {
   "cell_type": "code",
   "execution_count": 94,
   "id": "bfe88077",
   "metadata": {},
   "outputs": [
    {
     "data": {
      "text/plain": [
       "array(['Delhi', 'Banglore', 'Cochin', 'Kolkata', 'Hyderabad'],\n",
       "      dtype=object)"
      ]
     },
     "execution_count": 94,
     "metadata": {},
     "output_type": "execute_result"
    }
   ],
   "source": [
    "df[\"Destination\"].unique()"
   ]
  },
  {
   "cell_type": "code",
   "execution_count": 96,
   "id": "619696e7",
   "metadata": {},
   "outputs": [
    {
     "data": {
      "text/plain": [
       "array(['non-stop', '2 stops', '1 stop', '3 stops', '4 stops'],\n",
       "      dtype=object)"
      ]
     },
     "execution_count": 96,
     "metadata": {},
     "output_type": "execute_result"
    }
   ],
   "source": [
    "df[\"Total_Stops\"].unique()"
   ]
  },
  {
   "cell_type": "code",
   "execution_count": 98,
   "id": "d010a86d",
   "metadata": {},
   "outputs": [],
   "source": [
    "df[\"Total_Stops\"]=df[\"Total_Stops\"].replace({\"non-stop\":0,\"2 stops\":2,\"1 stop\":1,\"3 stops\":3,\"4 stops\":4})"
   ]
  },
  {
   "cell_type": "code",
   "execution_count": 100,
   "id": "2f611619",
   "metadata": {},
   "outputs": [
    {
     "data": {
      "text/plain": [
       "array([0, 2, 1, 3, 4])"
      ]
     },
     "execution_count": 100,
     "metadata": {},
     "output_type": "execute_result"
    }
   ],
   "source": [
    "df[\"Total_Stops\"].unique()"
   ]
  },
  {
   "cell_type": "code",
   "execution_count": 102,
   "id": "6a8c648c",
   "metadata": {},
   "outputs": [
    {
     "data": {
      "text/html": [
       "<div>\n",
       "<style scoped>\n",
       "    .dataframe tbody tr th:only-of-type {\n",
       "        vertical-align: middle;\n",
       "    }\n",
       "\n",
       "    .dataframe tbody tr th {\n",
       "        vertical-align: top;\n",
       "    }\n",
       "\n",
       "    .dataframe thead th {\n",
       "        text-align: right;\n",
       "    }\n",
       "</style>\n",
       "<table border=\"1\" class=\"dataframe\">\n",
       "  <thead>\n",
       "    <tr style=\"text-align: right;\">\n",
       "      <th></th>\n",
       "      <th>Airline</th>\n",
       "      <th>Source</th>\n",
       "      <th>Destination</th>\n",
       "      <th>Route</th>\n",
       "      <th>Duration</th>\n",
       "      <th>Total_Stops</th>\n",
       "      <th>Additional_Info</th>\n",
       "      <th>Price</th>\n",
       "      <th>day_of_journey</th>\n",
       "      <th>month_of_journey</th>\n",
       "      <th>Dep_hour</th>\n",
       "      <th>Dep_min</th>\n",
       "      <th>arrival_hour</th>\n",
       "      <th>arrival_min</th>\n",
       "    </tr>\n",
       "  </thead>\n",
       "  <tbody>\n",
       "    <tr>\n",
       "      <th>0</th>\n",
       "      <td>IndiGo</td>\n",
       "      <td>Banglore</td>\n",
       "      <td>Delhi</td>\n",
       "      <td>BLR → DEL</td>\n",
       "      <td>170</td>\n",
       "      <td>0</td>\n",
       "      <td>No info</td>\n",
       "      <td>3897</td>\n",
       "      <td>24</td>\n",
       "      <td>3</td>\n",
       "      <td>22</td>\n",
       "      <td>20</td>\n",
       "      <td>1</td>\n",
       "      <td>10</td>\n",
       "    </tr>\n",
       "    <tr>\n",
       "      <th>1</th>\n",
       "      <td>Air India</td>\n",
       "      <td>Kolkata</td>\n",
       "      <td>Banglore</td>\n",
       "      <td>CCU → IXR → BBI → BLR</td>\n",
       "      <td>445</td>\n",
       "      <td>2</td>\n",
       "      <td>No info</td>\n",
       "      <td>7662</td>\n",
       "      <td>1</td>\n",
       "      <td>5</td>\n",
       "      <td>5</td>\n",
       "      <td>50</td>\n",
       "      <td>13</td>\n",
       "      <td>15</td>\n",
       "    </tr>\n",
       "    <tr>\n",
       "      <th>2</th>\n",
       "      <td>Jet Airways</td>\n",
       "      <td>Delhi</td>\n",
       "      <td>Cochin</td>\n",
       "      <td>DEL → LKO → BOM → COK</td>\n",
       "      <td>1140</td>\n",
       "      <td>2</td>\n",
       "      <td>No info</td>\n",
       "      <td>13882</td>\n",
       "      <td>9</td>\n",
       "      <td>6</td>\n",
       "      <td>9</td>\n",
       "      <td>25</td>\n",
       "      <td>4</td>\n",
       "      <td>25</td>\n",
       "    </tr>\n",
       "    <tr>\n",
       "      <th>3</th>\n",
       "      <td>IndiGo</td>\n",
       "      <td>Kolkata</td>\n",
       "      <td>Banglore</td>\n",
       "      <td>CCU → NAG → BLR</td>\n",
       "      <td>325</td>\n",
       "      <td>1</td>\n",
       "      <td>No info</td>\n",
       "      <td>6218</td>\n",
       "      <td>12</td>\n",
       "      <td>5</td>\n",
       "      <td>18</td>\n",
       "      <td>5</td>\n",
       "      <td>23</td>\n",
       "      <td>30</td>\n",
       "    </tr>\n",
       "    <tr>\n",
       "      <th>4</th>\n",
       "      <td>IndiGo</td>\n",
       "      <td>Banglore</td>\n",
       "      <td>Delhi</td>\n",
       "      <td>BLR → NAG → DEL</td>\n",
       "      <td>285</td>\n",
       "      <td>1</td>\n",
       "      <td>No info</td>\n",
       "      <td>13302</td>\n",
       "      <td>1</td>\n",
       "      <td>3</td>\n",
       "      <td>16</td>\n",
       "      <td>50</td>\n",
       "      <td>21</td>\n",
       "      <td>35</td>\n",
       "    </tr>\n",
       "  </tbody>\n",
       "</table>\n",
       "</div>"
      ],
      "text/plain": [
       "       Airline    Source Destination                  Route  Duration  \\\n",
       "0       IndiGo  Banglore       Delhi              BLR → DEL       170   \n",
       "1    Air India   Kolkata    Banglore  CCU → IXR → BBI → BLR       445   \n",
       "2  Jet Airways     Delhi      Cochin  DEL → LKO → BOM → COK      1140   \n",
       "3       IndiGo   Kolkata    Banglore        CCU → NAG → BLR       325   \n",
       "4       IndiGo  Banglore       Delhi        BLR → NAG → DEL       285   \n",
       "\n",
       "   Total_Stops Additional_Info  Price  day_of_journey  month_of_journey  \\\n",
       "0            0         No info   3897              24                 3   \n",
       "1            2         No info   7662               1                 5   \n",
       "2            2         No info  13882               9                 6   \n",
       "3            1         No info   6218              12                 5   \n",
       "4            1         No info  13302               1                 3   \n",
       "\n",
       "   Dep_hour  Dep_min  arrival_hour  arrival_min  \n",
       "0        22       20             1           10  \n",
       "1         5       50            13           15  \n",
       "2         9       25             4           25  \n",
       "3        18        5            23           30  \n",
       "4        16       50            21           35  "
      ]
     },
     "execution_count": 102,
     "metadata": {},
     "output_type": "execute_result"
    }
   ],
   "source": [
    "df.head()"
   ]
  },
  {
   "cell_type": "markdown",
   "id": "dde38d9d",
   "metadata": {},
   "source": [
    "<div style=\"color:white;\n",
    "           display:fill;\n",
    "           border-radius:5px;\n",
    "           background-color:pink;\n",
    "           font-size:200%;\n",
    "           font-family:Serif;\n",
    "           letter-spacing:0.5px\">\n",
    "\n",
    "<p style=\"padding: 10px;\n",
    "          color:black;\n",
    "          font-size:120%;\n",
    "          text-align:center;\">\n",
    "Insights\n",
    "</p>\n",
    "</div>"
   ]
  },
  {
   "cell_type": "markdown",
   "id": "b25e40d0",
   "metadata": {},
   "source": [
    "## Descriptive stats"
   ]
  },
  {
   "cell_type": "code",
   "execution_count": 104,
   "id": "6f07db7a",
   "metadata": {},
   "outputs": [
    {
     "data": {
      "text/html": [
       "<div>\n",
       "<style scoped>\n",
       "    .dataframe tbody tr th:only-of-type {\n",
       "        vertical-align: middle;\n",
       "    }\n",
       "\n",
       "    .dataframe tbody tr th {\n",
       "        vertical-align: top;\n",
       "    }\n",
       "\n",
       "    .dataframe thead th {\n",
       "        text-align: right;\n",
       "    }\n",
       "</style>\n",
       "<table border=\"1\" class=\"dataframe\">\n",
       "  <thead>\n",
       "    <tr style=\"text-align: right;\">\n",
       "      <th></th>\n",
       "      <th>count</th>\n",
       "      <th>mean</th>\n",
       "      <th>std</th>\n",
       "      <th>min</th>\n",
       "      <th>25%</th>\n",
       "      <th>50%</th>\n",
       "      <th>75%</th>\n",
       "      <th>max</th>\n",
       "    </tr>\n",
       "  </thead>\n",
       "  <tbody>\n",
       "    <tr>\n",
       "      <th>Duration</th>\n",
       "      <td>10683.0</td>\n",
       "      <td>643.093232</td>\n",
       "      <td>507.862001</td>\n",
       "      <td>5.0</td>\n",
       "      <td>170.0</td>\n",
       "      <td>520.0</td>\n",
       "      <td>930.0</td>\n",
       "      <td>2860.0</td>\n",
       "    </tr>\n",
       "    <tr>\n",
       "      <th>Total_Stops</th>\n",
       "      <td>10683.0</td>\n",
       "      <td>0.824207</td>\n",
       "      <td>0.675199</td>\n",
       "      <td>0.0</td>\n",
       "      <td>0.0</td>\n",
       "      <td>1.0</td>\n",
       "      <td>1.0</td>\n",
       "      <td>4.0</td>\n",
       "    </tr>\n",
       "    <tr>\n",
       "      <th>Price</th>\n",
       "      <td>10683.0</td>\n",
       "      <td>9087.064121</td>\n",
       "      <td>4611.359167</td>\n",
       "      <td>1759.0</td>\n",
       "      <td>5277.0</td>\n",
       "      <td>8372.0</td>\n",
       "      <td>12373.0</td>\n",
       "      <td>79512.0</td>\n",
       "    </tr>\n",
       "    <tr>\n",
       "      <th>day_of_journey</th>\n",
       "      <td>10683.0</td>\n",
       "      <td>13.508378</td>\n",
       "      <td>8.479277</td>\n",
       "      <td>1.0</td>\n",
       "      <td>6.0</td>\n",
       "      <td>12.0</td>\n",
       "      <td>21.0</td>\n",
       "      <td>27.0</td>\n",
       "    </tr>\n",
       "    <tr>\n",
       "      <th>month_of_journey</th>\n",
       "      <td>10683.0</td>\n",
       "      <td>4.708602</td>\n",
       "      <td>1.164357</td>\n",
       "      <td>3.0</td>\n",
       "      <td>3.0</td>\n",
       "      <td>5.0</td>\n",
       "      <td>6.0</td>\n",
       "      <td>6.0</td>\n",
       "    </tr>\n",
       "    <tr>\n",
       "      <th>Dep_hour</th>\n",
       "      <td>10683.0</td>\n",
       "      <td>12.490686</td>\n",
       "      <td>5.748650</td>\n",
       "      <td>0.0</td>\n",
       "      <td>8.0</td>\n",
       "      <td>11.0</td>\n",
       "      <td>18.0</td>\n",
       "      <td>23.0</td>\n",
       "    </tr>\n",
       "    <tr>\n",
       "      <th>Dep_min</th>\n",
       "      <td>10683.0</td>\n",
       "      <td>24.411214</td>\n",
       "      <td>18.767980</td>\n",
       "      <td>0.0</td>\n",
       "      <td>5.0</td>\n",
       "      <td>25.0</td>\n",
       "      <td>40.0</td>\n",
       "      <td>55.0</td>\n",
       "    </tr>\n",
       "    <tr>\n",
       "      <th>arrival_hour</th>\n",
       "      <td>10683.0</td>\n",
       "      <td>13.348778</td>\n",
       "      <td>6.859125</td>\n",
       "      <td>0.0</td>\n",
       "      <td>8.0</td>\n",
       "      <td>14.0</td>\n",
       "      <td>19.0</td>\n",
       "      <td>23.0</td>\n",
       "    </tr>\n",
       "    <tr>\n",
       "      <th>arrival_min</th>\n",
       "      <td>10683.0</td>\n",
       "      <td>24.690630</td>\n",
       "      <td>16.506036</td>\n",
       "      <td>0.0</td>\n",
       "      <td>10.0</td>\n",
       "      <td>25.0</td>\n",
       "      <td>35.0</td>\n",
       "      <td>55.0</td>\n",
       "    </tr>\n",
       "  </tbody>\n",
       "</table>\n",
       "</div>"
      ],
      "text/plain": [
       "                    count         mean          std     min     25%     50%  \\\n",
       "Duration          10683.0   643.093232   507.862001     5.0   170.0   520.0   \n",
       "Total_Stops       10683.0     0.824207     0.675199     0.0     0.0     1.0   \n",
       "Price             10683.0  9087.064121  4611.359167  1759.0  5277.0  8372.0   \n",
       "day_of_journey    10683.0    13.508378     8.479277     1.0     6.0    12.0   \n",
       "month_of_journey  10683.0     4.708602     1.164357     3.0     3.0     5.0   \n",
       "Dep_hour          10683.0    12.490686     5.748650     0.0     8.0    11.0   \n",
       "Dep_min           10683.0    24.411214    18.767980     0.0     5.0    25.0   \n",
       "arrival_hour      10683.0    13.348778     6.859125     0.0     8.0    14.0   \n",
       "arrival_min       10683.0    24.690630    16.506036     0.0    10.0    25.0   \n",
       "\n",
       "                      75%      max  \n",
       "Duration            930.0   2860.0  \n",
       "Total_Stops           1.0      4.0  \n",
       "Price             12373.0  79512.0  \n",
       "day_of_journey       21.0     27.0  \n",
       "month_of_journey      6.0      6.0  \n",
       "Dep_hour             18.0     23.0  \n",
       "Dep_min              40.0     55.0  \n",
       "arrival_hour         19.0     23.0  \n",
       "arrival_min          35.0     55.0  "
      ]
     },
     "execution_count": 104,
     "metadata": {},
     "output_type": "execute_result"
    }
   ],
   "source": [
    "df.describe().T"
   ]
  },
  {
   "cell_type": "code",
   "execution_count": 106,
   "id": "d73bbc2f",
   "metadata": {},
   "outputs": [
    {
     "data": {
      "text/html": [
       "<div>\n",
       "<style scoped>\n",
       "    .dataframe tbody tr th:only-of-type {\n",
       "        vertical-align: middle;\n",
       "    }\n",
       "\n",
       "    .dataframe tbody tr th {\n",
       "        vertical-align: top;\n",
       "    }\n",
       "\n",
       "    .dataframe thead th {\n",
       "        text-align: right;\n",
       "    }\n",
       "</style>\n",
       "<table border=\"1\" class=\"dataframe\">\n",
       "  <thead>\n",
       "    <tr style=\"text-align: right;\">\n",
       "      <th></th>\n",
       "      <th>Airline</th>\n",
       "      <th>Source</th>\n",
       "      <th>Destination</th>\n",
       "      <th>Route</th>\n",
       "      <th>Duration</th>\n",
       "      <th>Total_Stops</th>\n",
       "      <th>Additional_Info</th>\n",
       "      <th>Price</th>\n",
       "      <th>day_of_journey</th>\n",
       "      <th>month_of_journey</th>\n",
       "      <th>Dep_hour</th>\n",
       "      <th>Dep_min</th>\n",
       "      <th>arrival_hour</th>\n",
       "      <th>arrival_min</th>\n",
       "    </tr>\n",
       "  </thead>\n",
       "  <tbody>\n",
       "    <tr>\n",
       "      <th>6474</th>\n",
       "      <td>Air India</td>\n",
       "      <td>Mumbai</td>\n",
       "      <td>Hyderabad</td>\n",
       "      <td>BOM → GOI → PNQ → HYD</td>\n",
       "      <td>5</td>\n",
       "      <td>2</td>\n",
       "      <td>No info</td>\n",
       "      <td>17327</td>\n",
       "      <td>6</td>\n",
       "      <td>3</td>\n",
       "      <td>16</td>\n",
       "      <td>50</td>\n",
       "      <td>16</td>\n",
       "      <td>55</td>\n",
       "    </tr>\n",
       "  </tbody>\n",
       "</table>\n",
       "</div>"
      ],
      "text/plain": [
       "        Airline  Source Destination                  Route  Duration  \\\n",
       "6474  Air India  Mumbai   Hyderabad  BOM → GOI → PNQ → HYD         5   \n",
       "\n",
       "      Total_Stops Additional_Info  Price  day_of_journey  month_of_journey  \\\n",
       "6474            2         No info  17327               6                 3   \n",
       "\n",
       "      Dep_hour  Dep_min  arrival_hour  arrival_min  \n",
       "6474        16       50            16           55  "
      ]
     },
     "execution_count": 106,
     "metadata": {},
     "output_type": "execute_result"
    }
   ],
   "source": [
    "df[df[\"Duration\"]==5.0]"
   ]
  },
  {
   "cell_type": "code",
   "execution_count": 108,
   "id": "2a68b7d5",
   "metadata": {},
   "outputs": [],
   "source": [
    "x=df[(df[\"Airline\"]==\"Air India\")&(df[\"Source\"]==\"Mumbai\")&(df[\"Destination\"]==\"Hyderabad\")&(df[\"Total_Stops\"]==2)]"
   ]
  },
  {
   "cell_type": "code",
   "execution_count": 110,
   "id": "350d2f2c",
   "metadata": {},
   "outputs": [
    {
     "data": {
      "text/html": [
       "<div>\n",
       "<style scoped>\n",
       "    .dataframe tbody tr th:only-of-type {\n",
       "        vertical-align: middle;\n",
       "    }\n",
       "\n",
       "    .dataframe tbody tr th {\n",
       "        vertical-align: top;\n",
       "    }\n",
       "\n",
       "    .dataframe thead th {\n",
       "        text-align: right;\n",
       "    }\n",
       "</style>\n",
       "<table border=\"1\" class=\"dataframe\">\n",
       "  <thead>\n",
       "    <tr style=\"text-align: right;\">\n",
       "      <th></th>\n",
       "      <th>Airline</th>\n",
       "      <th>Source</th>\n",
       "      <th>Destination</th>\n",
       "      <th>Route</th>\n",
       "      <th>Duration</th>\n",
       "      <th>Total_Stops</th>\n",
       "      <th>Additional_Info</th>\n",
       "      <th>Price</th>\n",
       "      <th>day_of_journey</th>\n",
       "      <th>month_of_journey</th>\n",
       "      <th>Dep_hour</th>\n",
       "      <th>Dep_min</th>\n",
       "      <th>arrival_hour</th>\n",
       "      <th>arrival_min</th>\n",
       "    </tr>\n",
       "  </thead>\n",
       "  <tbody>\n",
       "    <tr>\n",
       "      <th>597</th>\n",
       "      <td>Air India</td>\n",
       "      <td>Mumbai</td>\n",
       "      <td>Hyderabad</td>\n",
       "      <td>BOM → JDH → DEL → HYD</td>\n",
       "      <td>1775</td>\n",
       "      <td>2</td>\n",
       "      <td>No info</td>\n",
       "      <td>25139</td>\n",
       "      <td>6</td>\n",
       "      <td>3</td>\n",
       "      <td>9</td>\n",
       "      <td>40</td>\n",
       "      <td>15</td>\n",
       "      <td>15</td>\n",
       "    </tr>\n",
       "    <tr>\n",
       "      <th>1417</th>\n",
       "      <td>Air India</td>\n",
       "      <td>Mumbai</td>\n",
       "      <td>Hyderabad</td>\n",
       "      <td>BOM → AMD → ISK → HYD</td>\n",
       "      <td>795</td>\n",
       "      <td>2</td>\n",
       "      <td>No info</td>\n",
       "      <td>9977</td>\n",
       "      <td>12</td>\n",
       "      <td>3</td>\n",
       "      <td>1</td>\n",
       "      <td>35</td>\n",
       "      <td>14</td>\n",
       "      <td>50</td>\n",
       "    </tr>\n",
       "    <tr>\n",
       "      <th>1784</th>\n",
       "      <td>Air India</td>\n",
       "      <td>Mumbai</td>\n",
       "      <td>Hyderabad</td>\n",
       "      <td>BOM → BHO → DEL → HYD</td>\n",
       "      <td>1995</td>\n",
       "      <td>2</td>\n",
       "      <td>No info</td>\n",
       "      <td>14219</td>\n",
       "      <td>6</td>\n",
       "      <td>3</td>\n",
       "      <td>6</td>\n",
       "      <td>0</td>\n",
       "      <td>15</td>\n",
       "      <td>15</td>\n",
       "    </tr>\n",
       "    <tr>\n",
       "      <th>1824</th>\n",
       "      <td>Air India</td>\n",
       "      <td>Mumbai</td>\n",
       "      <td>Hyderabad</td>\n",
       "      <td>BOM → JDH → DEL → HYD</td>\n",
       "      <td>845</td>\n",
       "      <td>2</td>\n",
       "      <td>No info</td>\n",
       "      <td>22619</td>\n",
       "      <td>6</td>\n",
       "      <td>3</td>\n",
       "      <td>9</td>\n",
       "      <td>40</td>\n",
       "      <td>23</td>\n",
       "      <td>45</td>\n",
       "    </tr>\n",
       "    <tr>\n",
       "      <th>2857</th>\n",
       "      <td>Air India</td>\n",
       "      <td>Mumbai</td>\n",
       "      <td>Hyderabad</td>\n",
       "      <td>BOM → COK → MAA → HYD</td>\n",
       "      <td>990</td>\n",
       "      <td>2</td>\n",
       "      <td>No info</td>\n",
       "      <td>9678</td>\n",
       "      <td>6</td>\n",
       "      <td>3</td>\n",
       "      <td>5</td>\n",
       "      <td>30</td>\n",
       "      <td>22</td>\n",
       "      <td>0</td>\n",
       "    </tr>\n",
       "    <tr>\n",
       "      <th>3821</th>\n",
       "      <td>Air India</td>\n",
       "      <td>Mumbai</td>\n",
       "      <td>Hyderabad</td>\n",
       "      <td>BOM → GOI → PNQ → HYD</td>\n",
       "      <td>255</td>\n",
       "      <td>2</td>\n",
       "      <td>No info</td>\n",
       "      <td>16172</td>\n",
       "      <td>12</td>\n",
       "      <td>3</td>\n",
       "      <td>21</td>\n",
       "      <td>10</td>\n",
       "      <td>16</td>\n",
       "      <td>55</td>\n",
       "    </tr>\n",
       "    <tr>\n",
       "      <th>4402</th>\n",
       "      <td>Air India</td>\n",
       "      <td>Mumbai</td>\n",
       "      <td>Hyderabad</td>\n",
       "      <td>BOM → AMD → ISK → HYD</td>\n",
       "      <td>560</td>\n",
       "      <td>2</td>\n",
       "      <td>No info</td>\n",
       "      <td>13757</td>\n",
       "      <td>6</td>\n",
       "      <td>3</td>\n",
       "      <td>5</td>\n",
       "      <td>30</td>\n",
       "      <td>14</td>\n",
       "      <td>50</td>\n",
       "    </tr>\n",
       "    <tr>\n",
       "      <th>4659</th>\n",
       "      <td>Air India</td>\n",
       "      <td>Mumbai</td>\n",
       "      <td>Hyderabad</td>\n",
       "      <td>BOM → BHO → DEL → HYD</td>\n",
       "      <td>1795</td>\n",
       "      <td>2</td>\n",
       "      <td>No info</td>\n",
       "      <td>14219</td>\n",
       "      <td>6</td>\n",
       "      <td>3</td>\n",
       "      <td>6</td>\n",
       "      <td>0</td>\n",
       "      <td>11</td>\n",
       "      <td>55</td>\n",
       "    </tr>\n",
       "    <tr>\n",
       "      <th>5309</th>\n",
       "      <td>Air India</td>\n",
       "      <td>Mumbai</td>\n",
       "      <td>Hyderabad</td>\n",
       "      <td>BOM → GOI → PNQ → HYD</td>\n",
       "      <td>255</td>\n",
       "      <td>2</td>\n",
       "      <td>No info</td>\n",
       "      <td>17327</td>\n",
       "      <td>6</td>\n",
       "      <td>3</td>\n",
       "      <td>21</td>\n",
       "      <td>10</td>\n",
       "      <td>16</td>\n",
       "      <td>55</td>\n",
       "    </tr>\n",
       "    <tr>\n",
       "      <th>5640</th>\n",
       "      <td>Air India</td>\n",
       "      <td>Mumbai</td>\n",
       "      <td>Hyderabad</td>\n",
       "      <td>BOM → RPR → VTZ → HYD</td>\n",
       "      <td>545</td>\n",
       "      <td>2</td>\n",
       "      <td>No info</td>\n",
       "      <td>9736</td>\n",
       "      <td>12</td>\n",
       "      <td>3</td>\n",
       "      <td>10</td>\n",
       "      <td>5</td>\n",
       "      <td>19</td>\n",
       "      <td>10</td>\n",
       "    </tr>\n",
       "    <tr>\n",
       "      <th>5711</th>\n",
       "      <td>Air India</td>\n",
       "      <td>Mumbai</td>\n",
       "      <td>Hyderabad</td>\n",
       "      <td>BOM → BHO → DEL → HYD</td>\n",
       "      <td>2245</td>\n",
       "      <td>2</td>\n",
       "      <td>No info</td>\n",
       "      <td>13904</td>\n",
       "      <td>6</td>\n",
       "      <td>3</td>\n",
       "      <td>6</td>\n",
       "      <td>0</td>\n",
       "      <td>19</td>\n",
       "      <td>25</td>\n",
       "    </tr>\n",
       "    <tr>\n",
       "      <th>5942</th>\n",
       "      <td>Air India</td>\n",
       "      <td>Mumbai</td>\n",
       "      <td>Hyderabad</td>\n",
       "      <td>BOM → GOI → PNQ → HYD</td>\n",
       "      <td>710</td>\n",
       "      <td>2</td>\n",
       "      <td>No info</td>\n",
       "      <td>16172</td>\n",
       "      <td>12</td>\n",
       "      <td>3</td>\n",
       "      <td>5</td>\n",
       "      <td>5</td>\n",
       "      <td>16</td>\n",
       "      <td>55</td>\n",
       "    </tr>\n",
       "    <tr>\n",
       "      <th>5968</th>\n",
       "      <td>Air India</td>\n",
       "      <td>Mumbai</td>\n",
       "      <td>Hyderabad</td>\n",
       "      <td>BOM → IDR → DEL → HYD</td>\n",
       "      <td>1840</td>\n",
       "      <td>2</td>\n",
       "      <td>No info</td>\n",
       "      <td>13253</td>\n",
       "      <td>6</td>\n",
       "      <td>3</td>\n",
       "      <td>12</td>\n",
       "      <td>45</td>\n",
       "      <td>19</td>\n",
       "      <td>25</td>\n",
       "    </tr>\n",
       "    <tr>\n",
       "      <th>6083</th>\n",
       "      <td>Air India</td>\n",
       "      <td>Mumbai</td>\n",
       "      <td>Hyderabad</td>\n",
       "      <td>BOM → BHO → DEL → HYD</td>\n",
       "      <td>1795</td>\n",
       "      <td>2</td>\n",
       "      <td>No info</td>\n",
       "      <td>12854</td>\n",
       "      <td>12</td>\n",
       "      <td>3</td>\n",
       "      <td>6</td>\n",
       "      <td>0</td>\n",
       "      <td>11</td>\n",
       "      <td>55</td>\n",
       "    </tr>\n",
       "    <tr>\n",
       "      <th>6474</th>\n",
       "      <td>Air India</td>\n",
       "      <td>Mumbai</td>\n",
       "      <td>Hyderabad</td>\n",
       "      <td>BOM → GOI → PNQ → HYD</td>\n",
       "      <td>5</td>\n",
       "      <td>2</td>\n",
       "      <td>No info</td>\n",
       "      <td>17327</td>\n",
       "      <td>6</td>\n",
       "      <td>3</td>\n",
       "      <td>16</td>\n",
       "      <td>50</td>\n",
       "      <td>16</td>\n",
       "      <td>55</td>\n",
       "    </tr>\n",
       "    <tr>\n",
       "      <th>6610</th>\n",
       "      <td>Air India</td>\n",
       "      <td>Mumbai</td>\n",
       "      <td>Hyderabad</td>\n",
       "      <td>BOM → BHO → DEL → HYD</td>\n",
       "      <td>1630</td>\n",
       "      <td>2</td>\n",
       "      <td>No info</td>\n",
       "      <td>13169</td>\n",
       "      <td>6</td>\n",
       "      <td>3</td>\n",
       "      <td>6</td>\n",
       "      <td>0</td>\n",
       "      <td>9</td>\n",
       "      <td>10</td>\n",
       "    </tr>\n",
       "    <tr>\n",
       "      <th>7189</th>\n",
       "      <td>Air India</td>\n",
       "      <td>Mumbai</td>\n",
       "      <td>Hyderabad</td>\n",
       "      <td>BOM → BHO → DEL → HYD</td>\n",
       "      <td>2245</td>\n",
       "      <td>2</td>\n",
       "      <td>No info</td>\n",
       "      <td>12119</td>\n",
       "      <td>12</td>\n",
       "      <td>3</td>\n",
       "      <td>6</td>\n",
       "      <td>0</td>\n",
       "      <td>19</td>\n",
       "      <td>25</td>\n",
       "    </tr>\n",
       "    <tr>\n",
       "      <th>7456</th>\n",
       "      <td>Air India</td>\n",
       "      <td>Mumbai</td>\n",
       "      <td>Hyderabad</td>\n",
       "      <td>BOM → GOI → PNQ → HYD</td>\n",
       "      <td>710</td>\n",
       "      <td>2</td>\n",
       "      <td>No info</td>\n",
       "      <td>16697</td>\n",
       "      <td>6</td>\n",
       "      <td>3</td>\n",
       "      <td>5</td>\n",
       "      <td>5</td>\n",
       "      <td>16</td>\n",
       "      <td>55</td>\n",
       "    </tr>\n",
       "    <tr>\n",
       "      <th>8051</th>\n",
       "      <td>Air India</td>\n",
       "      <td>Mumbai</td>\n",
       "      <td>Hyderabad</td>\n",
       "      <td>BOM → BHO → DEL → HYD</td>\n",
       "      <td>810</td>\n",
       "      <td>2</td>\n",
       "      <td>No info</td>\n",
       "      <td>11647</td>\n",
       "      <td>12</td>\n",
       "      <td>3</td>\n",
       "      <td>19</td>\n",
       "      <td>40</td>\n",
       "      <td>9</td>\n",
       "      <td>10</td>\n",
       "    </tr>\n",
       "    <tr>\n",
       "      <th>8232</th>\n",
       "      <td>Air India</td>\n",
       "      <td>Mumbai</td>\n",
       "      <td>Hyderabad</td>\n",
       "      <td>BOM → AMD → ISK → HYD</td>\n",
       "      <td>150</td>\n",
       "      <td>2</td>\n",
       "      <td>No info</td>\n",
       "      <td>11972</td>\n",
       "      <td>6</td>\n",
       "      <td>3</td>\n",
       "      <td>17</td>\n",
       "      <td>20</td>\n",
       "      <td>14</td>\n",
       "      <td>50</td>\n",
       "    </tr>\n",
       "    <tr>\n",
       "      <th>8348</th>\n",
       "      <td>Air India</td>\n",
       "      <td>Mumbai</td>\n",
       "      <td>Hyderabad</td>\n",
       "      <td>BOM → JAI → DEL → HYD</td>\n",
       "      <td>1910</td>\n",
       "      <td>2</td>\n",
       "      <td>No info</td>\n",
       "      <td>17926</td>\n",
       "      <td>6</td>\n",
       "      <td>3</td>\n",
       "      <td>11</td>\n",
       "      <td>35</td>\n",
       "      <td>19</td>\n",
       "      <td>25</td>\n",
       "    </tr>\n",
       "    <tr>\n",
       "      <th>8478</th>\n",
       "      <td>Air India</td>\n",
       "      <td>Mumbai</td>\n",
       "      <td>Hyderabad</td>\n",
       "      <td>BOM → GOI → PNQ → HYD</td>\n",
       "      <td>205</td>\n",
       "      <td>2</td>\n",
       "      <td>No info</td>\n",
       "      <td>18797</td>\n",
       "      <td>6</td>\n",
       "      <td>3</td>\n",
       "      <td>13</td>\n",
       "      <td>30</td>\n",
       "      <td>16</td>\n",
       "      <td>55</td>\n",
       "    </tr>\n",
       "    <tr>\n",
       "      <th>9224</th>\n",
       "      <td>Air India</td>\n",
       "      <td>Mumbai</td>\n",
       "      <td>Hyderabad</td>\n",
       "      <td>BOM → AMD → ISK → HYD</td>\n",
       "      <td>560</td>\n",
       "      <td>2</td>\n",
       "      <td>No info</td>\n",
       "      <td>11342</td>\n",
       "      <td>12</td>\n",
       "      <td>3</td>\n",
       "      <td>5</td>\n",
       "      <td>30</td>\n",
       "      <td>14</td>\n",
       "      <td>50</td>\n",
       "    </tr>\n",
       "  </tbody>\n",
       "</table>\n",
       "</div>"
      ],
      "text/plain": [
       "        Airline  Source Destination                  Route  Duration  \\\n",
       "597   Air India  Mumbai   Hyderabad  BOM → JDH → DEL → HYD      1775   \n",
       "1417  Air India  Mumbai   Hyderabad  BOM → AMD → ISK → HYD       795   \n",
       "1784  Air India  Mumbai   Hyderabad  BOM → BHO → DEL → HYD      1995   \n",
       "1824  Air India  Mumbai   Hyderabad  BOM → JDH → DEL → HYD       845   \n",
       "2857  Air India  Mumbai   Hyderabad  BOM → COK → MAA → HYD       990   \n",
       "3821  Air India  Mumbai   Hyderabad  BOM → GOI → PNQ → HYD       255   \n",
       "4402  Air India  Mumbai   Hyderabad  BOM → AMD → ISK → HYD       560   \n",
       "4659  Air India  Mumbai   Hyderabad  BOM → BHO → DEL → HYD      1795   \n",
       "5309  Air India  Mumbai   Hyderabad  BOM → GOI → PNQ → HYD       255   \n",
       "5640  Air India  Mumbai   Hyderabad  BOM → RPR → VTZ → HYD       545   \n",
       "5711  Air India  Mumbai   Hyderabad  BOM → BHO → DEL → HYD      2245   \n",
       "5942  Air India  Mumbai   Hyderabad  BOM → GOI → PNQ → HYD       710   \n",
       "5968  Air India  Mumbai   Hyderabad  BOM → IDR → DEL → HYD      1840   \n",
       "6083  Air India  Mumbai   Hyderabad  BOM → BHO → DEL → HYD      1795   \n",
       "6474  Air India  Mumbai   Hyderabad  BOM → GOI → PNQ → HYD         5   \n",
       "6610  Air India  Mumbai   Hyderabad  BOM → BHO → DEL → HYD      1630   \n",
       "7189  Air India  Mumbai   Hyderabad  BOM → BHO → DEL → HYD      2245   \n",
       "7456  Air India  Mumbai   Hyderabad  BOM → GOI → PNQ → HYD       710   \n",
       "8051  Air India  Mumbai   Hyderabad  BOM → BHO → DEL → HYD       810   \n",
       "8232  Air India  Mumbai   Hyderabad  BOM → AMD → ISK → HYD       150   \n",
       "8348  Air India  Mumbai   Hyderabad  BOM → JAI → DEL → HYD      1910   \n",
       "8478  Air India  Mumbai   Hyderabad  BOM → GOI → PNQ → HYD       205   \n",
       "9224  Air India  Mumbai   Hyderabad  BOM → AMD → ISK → HYD       560   \n",
       "\n",
       "      Total_Stops Additional_Info  Price  day_of_journey  month_of_journey  \\\n",
       "597             2         No info  25139               6                 3   \n",
       "1417            2         No info   9977              12                 3   \n",
       "1784            2         No info  14219               6                 3   \n",
       "1824            2         No info  22619               6                 3   \n",
       "2857            2         No info   9678               6                 3   \n",
       "3821            2         No info  16172              12                 3   \n",
       "4402            2         No info  13757               6                 3   \n",
       "4659            2         No info  14219               6                 3   \n",
       "5309            2         No info  17327               6                 3   \n",
       "5640            2         No info   9736              12                 3   \n",
       "5711            2         No info  13904               6                 3   \n",
       "5942            2         No info  16172              12                 3   \n",
       "5968            2         No info  13253               6                 3   \n",
       "6083            2         No info  12854              12                 3   \n",
       "6474            2         No info  17327               6                 3   \n",
       "6610            2         No info  13169               6                 3   \n",
       "7189            2         No info  12119              12                 3   \n",
       "7456            2         No info  16697               6                 3   \n",
       "8051            2         No info  11647              12                 3   \n",
       "8232            2         No info  11972               6                 3   \n",
       "8348            2         No info  17926               6                 3   \n",
       "8478            2         No info  18797               6                 3   \n",
       "9224            2         No info  11342              12                 3   \n",
       "\n",
       "      Dep_hour  Dep_min  arrival_hour  arrival_min  \n",
       "597          9       40            15           15  \n",
       "1417         1       35            14           50  \n",
       "1784         6        0            15           15  \n",
       "1824         9       40            23           45  \n",
       "2857         5       30            22            0  \n",
       "3821        21       10            16           55  \n",
       "4402         5       30            14           50  \n",
       "4659         6        0            11           55  \n",
       "5309        21       10            16           55  \n",
       "5640        10        5            19           10  \n",
       "5711         6        0            19           25  \n",
       "5942         5        5            16           55  \n",
       "5968        12       45            19           25  \n",
       "6083         6        0            11           55  \n",
       "6474        16       50            16           55  \n",
       "6610         6        0             9           10  \n",
       "7189         6        0            19           25  \n",
       "7456         5        5            16           55  \n",
       "8051        19       40             9           10  \n",
       "8232        17       20            14           50  \n",
       "8348        11       35            19           25  \n",
       "8478        13       30            16           55  \n",
       "9224         5       30            14           50  "
      ]
     },
     "execution_count": 110,
     "metadata": {},
     "output_type": "execute_result"
    }
   ],
   "source": [
    "x"
   ]
  },
  {
   "cell_type": "code",
   "execution_count": 112,
   "id": "26be30da",
   "metadata": {},
   "outputs": [
    {
     "data": {
      "text/plain": [
       "1070.6521739130435"
      ]
     },
     "execution_count": 112,
     "metadata": {},
     "output_type": "execute_result"
    }
   ],
   "source": [
    "x[\"Duration\"].mean()"
   ]
  },
  {
   "cell_type": "code",
   "execution_count": 114,
   "id": "0d7a092d",
   "metadata": {
    "scrolled": true
   },
   "outputs": [
    {
     "data": {
      "text/plain": [
       "17.84416666666667"
      ]
     },
     "execution_count": 114,
     "metadata": {},
     "output_type": "execute_result"
    }
   ],
   "source": [
    "1070.65/60"
   ]
  },
  {
   "cell_type": "code",
   "execution_count": 116,
   "id": "da05cd6a",
   "metadata": {},
   "outputs": [
    {
     "data": {
      "text/plain": [
       "1070.65"
      ]
     },
     "execution_count": 116,
     "metadata": {},
     "output_type": "execute_result"
    }
   ],
   "source": [
    "round(x[\"Duration\"].mean(),2)"
   ]
  },
  {
   "cell_type": "code",
   "execution_count": 118,
   "id": "a2f89b2d",
   "metadata": {},
   "outputs": [],
   "source": [
    "# 600 min=10 H\n",
    "# 900 min=15H\n",
    "# 960 min=16 H\n",
    "# 1020 min= 17 H\n",
    "# 1080 = 18 H \n",
    "# 1070 =(17 H 50 min)\n"
   ]
  },
  {
   "cell_type": "code",
   "execution_count": 120,
   "id": "6c3b6728",
   "metadata": {},
   "outputs": [
    {
     "data": {
      "text/plain": [
       "1070"
      ]
     },
     "execution_count": 120,
     "metadata": {},
     "output_type": "execute_result"
    }
   ],
   "source": [
    "# 1070 minutes=17 H 50 min\n",
    "17*60+50"
   ]
  },
  {
   "cell_type": "code",
   "execution_count": 122,
   "id": "68e90e12",
   "metadata": {},
   "outputs": [
    {
     "data": {
      "text/plain": [
       "1104"
      ]
     },
     "execution_count": 122,
     "metadata": {},
     "output_type": "execute_result"
    }
   ],
   "source": [
    "18*60+24"
   ]
  },
  {
   "cell_type": "code",
   "execution_count": 124,
   "id": "28492b43",
   "metadata": {},
   "outputs": [
    {
     "data": {
      "text/plain": [
       "1070.65"
      ]
     },
     "execution_count": 124,
     "metadata": {},
     "output_type": "execute_result"
    }
   ],
   "source": [
    "round(x[\"Duration\"].mean(),2)"
   ]
  },
  {
   "cell_type": "code",
   "execution_count": 126,
   "id": "4819d194",
   "metadata": {},
   "outputs": [
    {
     "data": {
      "text/plain": [
       "1070"
      ]
     },
     "execution_count": 126,
     "metadata": {},
     "output_type": "execute_result"
    }
   ],
   "source": [
    "17*60+ 50"
   ]
  },
  {
   "cell_type": "code",
   "execution_count": 128,
   "id": "537695cb",
   "metadata": {},
   "outputs": [
    {
     "data": {
      "text/plain": [
       "Airline                         Air India\n",
       "Source                             Mumbai\n",
       "Destination                     Hyderabad\n",
       "Route               BOM → GOI → PNQ → HYD\n",
       "Duration                          1070.65\n",
       "Total_Stops                             2\n",
       "Additional_Info                   No info\n",
       "Price                               17327\n",
       "day_of_journey                          6\n",
       "month_of_journey                        3\n",
       "Dep_hour                               16\n",
       "Dep_min                                50\n",
       "arrival_hour                           16\n",
       "arrival_min                            55\n",
       "Name: 6474, dtype: object"
      ]
     },
     "execution_count": 128,
     "metadata": {},
     "output_type": "execute_result"
    }
   ],
   "source": [
    "df.loc[6474,\"Duration\"]=round(x[\"Duration\"].mean(),2)\n",
    "df.iloc[6474]"
   ]
  },
  {
   "cell_type": "code",
   "execution_count": 130,
   "id": "f3d85c7f",
   "metadata": {},
   "outputs": [
    {
     "data": {
      "text/plain": [
       "Airline                         Air India\n",
       "Source                             Mumbai\n",
       "Destination                     Hyderabad\n",
       "Route               BOM → GOI → PNQ → HYD\n",
       "Duration                          1070.65\n",
       "Total_Stops                             2\n",
       "Additional_Info                   No info\n",
       "Price                               17327\n",
       "day_of_journey                          6\n",
       "month_of_journey                        3\n",
       "Dep_hour                               16\n",
       "Dep_min                                50\n",
       "arrival_hour                           17\n",
       "arrival_min                            50\n",
       "Name: 6474, dtype: object"
      ]
     },
     "execution_count": 130,
     "metadata": {},
     "output_type": "execute_result"
    }
   ],
   "source": [
    "df.loc[6474,\"arrival_hour\"]=17\n",
    "df.loc[6474,\"arrival_min\"]=50\n",
    "df.iloc[6474]"
   ]
  },
  {
   "cell_type": "markdown",
   "id": "27551bae",
   "metadata": {},
   "source": [
    "### Correlation"
   ]
  },
  {
   "cell_type": "code",
   "execution_count": 135,
   "id": "6b508e82",
   "metadata": {
    "scrolled": true
   },
   "outputs": [
    {
     "data": {
      "text/html": [
       "<div>\n",
       "<style scoped>\n",
       "    .dataframe tbody tr th:only-of-type {\n",
       "        vertical-align: middle;\n",
       "    }\n",
       "\n",
       "    .dataframe tbody tr th {\n",
       "        vertical-align: top;\n",
       "    }\n",
       "\n",
       "    .dataframe thead th {\n",
       "        text-align: right;\n",
       "    }\n",
       "</style>\n",
       "<table border=\"1\" class=\"dataframe\">\n",
       "  <thead>\n",
       "    <tr style=\"text-align: right;\">\n",
       "      <th></th>\n",
       "      <th>Duration</th>\n",
       "      <th>Total_Stops</th>\n",
       "      <th>Price</th>\n",
       "      <th>day_of_journey</th>\n",
       "      <th>month_of_journey</th>\n",
       "      <th>Dep_hour</th>\n",
       "      <th>Dep_min</th>\n",
       "      <th>arrival_hour</th>\n",
       "      <th>arrival_min</th>\n",
       "    </tr>\n",
       "  </thead>\n",
       "  <tbody>\n",
       "    <tr>\n",
       "      <th>Duration</th>\n",
       "      <td>1.000000</td>\n",
       "      <td>0.738397</td>\n",
       "      <td>0.506743</td>\n",
       "      <td>-0.022737</td>\n",
       "      <td>0.014583</td>\n",
       "      <td>0.002121</td>\n",
       "      <td>-0.018671</td>\n",
       "      <td>0.051523</td>\n",
       "      <td>-0.069322</td>\n",
       "    </tr>\n",
       "    <tr>\n",
       "      <th>Total_Stops</th>\n",
       "      <td>0.738397</td>\n",
       "      <td>1.000000</td>\n",
       "      <td>0.603883</td>\n",
       "      <td>-0.009472</td>\n",
       "      <td>0.054389</td>\n",
       "      <td>-0.061490</td>\n",
       "      <td>-0.002591</td>\n",
       "      <td>0.038147</td>\n",
       "      <td>-0.106993</td>\n",
       "    </tr>\n",
       "    <tr>\n",
       "      <th>Price</th>\n",
       "      <td>0.506743</td>\n",
       "      <td>0.603883</td>\n",
       "      <td>1.000000</td>\n",
       "      <td>-0.153738</td>\n",
       "      <td>-0.103651</td>\n",
       "      <td>0.006819</td>\n",
       "      <td>-0.024492</td>\n",
       "      <td>0.024288</td>\n",
       "      <td>-0.086210</td>\n",
       "    </tr>\n",
       "    <tr>\n",
       "      <th>day_of_journey</th>\n",
       "      <td>-0.022737</td>\n",
       "      <td>-0.009472</td>\n",
       "      <td>-0.153738</td>\n",
       "      <td>1.000000</td>\n",
       "      <td>-0.038378</td>\n",
       "      <td>0.002220</td>\n",
       "      <td>-0.008261</td>\n",
       "      <td>-0.003204</td>\n",
       "      <td>-0.017487</td>\n",
       "    </tr>\n",
       "    <tr>\n",
       "      <th>month_of_journey</th>\n",
       "      <td>0.014583</td>\n",
       "      <td>0.054389</td>\n",
       "      <td>-0.103651</td>\n",
       "      <td>-0.038378</td>\n",
       "      <td>1.000000</td>\n",
       "      <td>0.039112</td>\n",
       "      <td>-0.059238</td>\n",
       "      <td>-0.003961</td>\n",
       "      <td>-0.100589</td>\n",
       "    </tr>\n",
       "    <tr>\n",
       "      <th>Dep_hour</th>\n",
       "      <td>0.002121</td>\n",
       "      <td>-0.061490</td>\n",
       "      <td>0.006819</td>\n",
       "      <td>0.002220</td>\n",
       "      <td>0.039112</td>\n",
       "      <td>1.000000</td>\n",
       "      <td>-0.024806</td>\n",
       "      <td>0.005224</td>\n",
       "      <td>0.067895</td>\n",
       "    </tr>\n",
       "    <tr>\n",
       "      <th>Dep_min</th>\n",
       "      <td>-0.018671</td>\n",
       "      <td>-0.002591</td>\n",
       "      <td>-0.024492</td>\n",
       "      <td>-0.008261</td>\n",
       "      <td>-0.059238</td>\n",
       "      <td>-0.024806</td>\n",
       "      <td>1.000000</td>\n",
       "      <td>0.043072</td>\n",
       "      <td>-0.017634</td>\n",
       "    </tr>\n",
       "    <tr>\n",
       "      <th>arrival_hour</th>\n",
       "      <td>0.051523</td>\n",
       "      <td>0.038147</td>\n",
       "      <td>0.024288</td>\n",
       "      <td>-0.003204</td>\n",
       "      <td>-0.003961</td>\n",
       "      <td>0.005224</td>\n",
       "      <td>0.043072</td>\n",
       "      <td>1.000000</td>\n",
       "      <td>-0.154358</td>\n",
       "    </tr>\n",
       "    <tr>\n",
       "      <th>arrival_min</th>\n",
       "      <td>-0.069322</td>\n",
       "      <td>-0.106993</td>\n",
       "      <td>-0.086210</td>\n",
       "      <td>-0.017487</td>\n",
       "      <td>-0.100589</td>\n",
       "      <td>0.067895</td>\n",
       "      <td>-0.017634</td>\n",
       "      <td>-0.154358</td>\n",
       "      <td>1.000000</td>\n",
       "    </tr>\n",
       "  </tbody>\n",
       "</table>\n",
       "</div>"
      ],
      "text/plain": [
       "                  Duration  Total_Stops     Price  day_of_journey  \\\n",
       "Duration          1.000000     0.738397  0.506743       -0.022737   \n",
       "Total_Stops       0.738397     1.000000  0.603883       -0.009472   \n",
       "Price             0.506743     0.603883  1.000000       -0.153738   \n",
       "day_of_journey   -0.022737    -0.009472 -0.153738        1.000000   \n",
       "month_of_journey  0.014583     0.054389 -0.103651       -0.038378   \n",
       "Dep_hour          0.002121    -0.061490  0.006819        0.002220   \n",
       "Dep_min          -0.018671    -0.002591 -0.024492       -0.008261   \n",
       "arrival_hour      0.051523     0.038147  0.024288       -0.003204   \n",
       "arrival_min      -0.069322    -0.106993 -0.086210       -0.017487   \n",
       "\n",
       "                  month_of_journey  Dep_hour   Dep_min  arrival_hour  \\\n",
       "Duration                  0.014583  0.002121 -0.018671      0.051523   \n",
       "Total_Stops               0.054389 -0.061490 -0.002591      0.038147   \n",
       "Price                    -0.103651  0.006819 -0.024492      0.024288   \n",
       "day_of_journey           -0.038378  0.002220 -0.008261     -0.003204   \n",
       "month_of_journey          1.000000  0.039112 -0.059238     -0.003961   \n",
       "Dep_hour                  0.039112  1.000000 -0.024806      0.005224   \n",
       "Dep_min                  -0.059238 -0.024806  1.000000      0.043072   \n",
       "arrival_hour             -0.003961  0.005224  0.043072      1.000000   \n",
       "arrival_min              -0.100589  0.067895 -0.017634     -0.154358   \n",
       "\n",
       "                  arrival_min  \n",
       "Duration            -0.069322  \n",
       "Total_Stops         -0.106993  \n",
       "Price               -0.086210  \n",
       "day_of_journey      -0.017487  \n",
       "month_of_journey    -0.100589  \n",
       "Dep_hour             0.067895  \n",
       "Dep_min             -0.017634  \n",
       "arrival_hour        -0.154358  \n",
       "arrival_min          1.000000  "
      ]
     },
     "execution_count": 135,
     "metadata": {},
     "output_type": "execute_result"
    }
   ],
   "source": [
    "df.select_dtypes(include='number').corr()"
   ]
  },
  {
   "cell_type": "code",
   "execution_count": 139,
   "id": "d3a39b87",
   "metadata": {},
   "outputs": [
    {
     "data": {
      "image/png": "[encoded data removed]",
      "text/plain": [
       "<Figure size 1000x300 with 2 Axes>"
      ]
     },
     "metadata": {},
     "output_type": "display_data"
    }
   ],
   "source": [
    "plt.figure(figsize=(10,3))\n",
    "sns.heatmap(df.select_dtypes(include='number').corr(),cmap='rainbow',annot=True);"
   ]
  },
  {
   "cell_type": "markdown",
   "id": "8f04b077",
   "metadata": {},
   "source": [
    "<div style=\"border-radius:10px; border:#DEB887 solid; padding: 15px; background-color: #FFFAF0; font-size:100%; text-align:left\">\n",
    "\n",
    "<h3 align=\"left\"><font color='#DEB887'>-Observation:</font></h3>\n",
    "<div style=\"font-family:Georgia;background-color:'black'; font-color:'black',padding:30px; font-size:17px\">\n",
    "\n",
    "* From this output we can see there is strong positive correlation between total stops and duration and it is also valid as total stops increases the duration also increase\n",
    "-- also positive correlation found between price and total stops, and Duration and Price "
   ]
  },
  {
   "cell_type": "markdown",
   "id": "e314c92f",
   "metadata": {},
   "source": [
    "# Since price is the main aspect, so we do EDA with respect to price column"
   ]
  },
  {
   "cell_type": "code",
   "execution_count": 141,
   "id": "4e3585bd",
   "metadata": {},
   "outputs": [
    {
     "data": {
      "text/plain": [
       "<Axes: xlabel='Price', ylabel='Density'>"
      ]
     },
     "execution_count": 141,
     "metadata": {},
     "output_type": "execute_result"
    },
    {
     "data": {
      "image/png": "[encoded data removed]",
      "text/plain": [
       "<Figure size 640x480 with 1 Axes>"
      ]
     },
     "metadata": {},
     "output_type": "display_data"
    }
   ],
   "source": [
    "sns.distplot(df[\"Price\"])"
   ]
  },
  {
   "cell_type": "code",
   "execution_count": 143,
   "id": "4fa0494c",
   "metadata": {},
   "outputs": [
    {
     "data": {
      "text/plain": [
       "1.8125523782189141"
      ]
     },
     "execution_count": 143,
     "metadata": {},
     "output_type": "execute_result"
    }
   ],
   "source": [
    "df['Price'].skew()"
   ]
  },
  {
   "cell_type": "markdown",
   "id": "c376b59f",
   "metadata": {},
   "source": [
    "<div style=\"border-radius:10px; border:#DEB887 solid; padding: 15px; background-color: #FFFAF0; font-size:100%; text-align:left\">\n",
    "\n",
    "<h3 align=\"left\"><font color='#DEB887'>-Observation:</font></h3>\n",
    "<div style=\"font-family:Georgia;background-color:'black'; font-color:'black',padding:30px; font-size:17px\">\n",
    "\n",
    "* the distribution of price is right skewed so it has outliers \n",
    "and most of the flights price is foundm around 8k to 10k and there are some flights which are extremely expensive"
   ]
  },
  {
   "cell_type": "code",
   "execution_count": 145,
   "id": "0fb6bffd",
   "metadata": {},
   "outputs": [
    {
     "data": {
      "image/png": "[encoded data removed]",
      "text/plain": [
       "<Figure size 640x480 with 1 Axes>"
      ]
     },
     "metadata": {},
     "output_type": "display_data"
    }
   ],
   "source": [
    "sns.boxplot(x=\"Price\",data=df);"
   ]
  },
  {
   "cell_type": "markdown",
   "id": "9c681042",
   "metadata": {},
   "source": [
    "# To Find out the details of expensive flight"
   ]
  },
  {
   "cell_type": "code",
   "execution_count": 147,
   "id": "8ed831ac",
   "metadata": {},
   "outputs": [
    {
     "data": {
      "text/html": [
       "<div>\n",
       "<style scoped>\n",
       "    .dataframe tbody tr th:only-of-type {\n",
       "        vertical-align: middle;\n",
       "    }\n",
       "\n",
       "    .dataframe tbody tr th {\n",
       "        vertical-align: top;\n",
       "    }\n",
       "\n",
       "    .dataframe thead th {\n",
       "        text-align: right;\n",
       "    }\n",
       "</style>\n",
       "<table border=\"1\" class=\"dataframe\">\n",
       "  <thead>\n",
       "    <tr style=\"text-align: right;\">\n",
       "      <th></th>\n",
       "      <th>Airline</th>\n",
       "      <th>Source</th>\n",
       "      <th>Destination</th>\n",
       "      <th>Route</th>\n",
       "      <th>Duration</th>\n",
       "      <th>Total_Stops</th>\n",
       "      <th>Additional_Info</th>\n",
       "      <th>Price</th>\n",
       "      <th>day_of_journey</th>\n",
       "      <th>month_of_journey</th>\n",
       "      <th>Dep_hour</th>\n",
       "      <th>Dep_min</th>\n",
       "      <th>arrival_hour</th>\n",
       "      <th>arrival_min</th>\n",
       "    </tr>\n",
       "  </thead>\n",
       "  <tbody>\n",
       "    <tr>\n",
       "      <th>2924</th>\n",
       "      <td>Jet Airways</td>\n",
       "      <td>Banglore</td>\n",
       "      <td>Delhi</td>\n",
       "      <td>BLR → BOM → DEL</td>\n",
       "      <td>340.0</td>\n",
       "      <td>1</td>\n",
       "      <td>Business class</td>\n",
       "      <td>79512</td>\n",
       "      <td>1</td>\n",
       "      <td>3</td>\n",
       "      <td>5</td>\n",
       "      <td>45</td>\n",
       "      <td>11</td>\n",
       "      <td>25</td>\n",
       "    </tr>\n",
       "  </tbody>\n",
       "</table>\n",
       "</div>"
      ],
      "text/plain": [
       "          Airline    Source Destination            Route  Duration  \\\n",
       "2924  Jet Airways  Banglore       Delhi  BLR → BOM → DEL     340.0   \n",
       "\n",
       "      Total_Stops Additional_Info  Price  day_of_journey  month_of_journey  \\\n",
       "2924            1  Business class  79512               1                 3   \n",
       "\n",
       "      Dep_hour  Dep_min  arrival_hour  arrival_min  \n",
       "2924         5       45            11           25  "
      ]
     },
     "execution_count": 147,
     "metadata": {},
     "output_type": "execute_result"
    }
   ],
   "source": [
    "df[df[\"Price\"]==df[\"Price\"].max()]"
   ]
  },
  {
   "cell_type": "markdown",
   "id": "2600af19",
   "metadata": {},
   "source": [
    "# To find out the min,max and average price of flights"
   ]
  },
  {
   "cell_type": "code",
   "execution_count": 149,
   "id": "12bf8408",
   "metadata": {},
   "outputs": [
    {
     "data": {
      "text/plain": [
       "max     79512.000000\n",
       "min      1759.000000\n",
       "mean     9087.064121\n",
       "Name: Price, dtype: float64"
      ]
     },
     "execution_count": 149,
     "metadata": {},
     "output_type": "execute_result"
    }
   ],
   "source": [
    "df[\"Price\"].agg([\"max\",\"min\",\"mean\"])"
   ]
  },
  {
   "cell_type": "markdown",
   "id": "8ec9dfca",
   "metadata": {},
   "source": [
    "# Details of cheapest flight"
   ]
  },
  {
   "cell_type": "code",
   "execution_count": 151,
   "id": "a80754e1",
   "metadata": {},
   "outputs": [
    {
     "data": {
      "text/html": [
       "<div>\n",
       "<style scoped>\n",
       "    .dataframe tbody tr th:only-of-type {\n",
       "        vertical-align: middle;\n",
       "    }\n",
       "\n",
       "    .dataframe tbody tr th {\n",
       "        vertical-align: top;\n",
       "    }\n",
       "\n",
       "    .dataframe thead th {\n",
       "        text-align: right;\n",
       "    }\n",
       "</style>\n",
       "<table border=\"1\" class=\"dataframe\">\n",
       "  <thead>\n",
       "    <tr style=\"text-align: right;\">\n",
       "      <th></th>\n",
       "      <th>Airline</th>\n",
       "      <th>Source</th>\n",
       "      <th>Destination</th>\n",
       "      <th>Route</th>\n",
       "      <th>Duration</th>\n",
       "      <th>Total_Stops</th>\n",
       "      <th>Additional_Info</th>\n",
       "      <th>Price</th>\n",
       "      <th>day_of_journey</th>\n",
       "      <th>month_of_journey</th>\n",
       "      <th>Dep_hour</th>\n",
       "      <th>Dep_min</th>\n",
       "      <th>arrival_hour</th>\n",
       "      <th>arrival_min</th>\n",
       "    </tr>\n",
       "  </thead>\n",
       "  <tbody>\n",
       "    <tr>\n",
       "      <th>4066</th>\n",
       "      <td>SpiceJet</td>\n",
       "      <td>Mumbai</td>\n",
       "      <td>Hyderabad</td>\n",
       "      <td>BOM → HYD</td>\n",
       "      <td>85.0</td>\n",
       "      <td>0</td>\n",
       "      <td>No info</td>\n",
       "      <td>1759</td>\n",
       "      <td>21</td>\n",
       "      <td>3</td>\n",
       "      <td>22</td>\n",
       "      <td>45</td>\n",
       "      <td>0</td>\n",
       "      <td>10</td>\n",
       "    </tr>\n",
       "    <tr>\n",
       "      <th>4274</th>\n",
       "      <td>SpiceJet</td>\n",
       "      <td>Mumbai</td>\n",
       "      <td>Hyderabad</td>\n",
       "      <td>BOM → HYD</td>\n",
       "      <td>85.0</td>\n",
       "      <td>0</td>\n",
       "      <td>No info</td>\n",
       "      <td>1759</td>\n",
       "      <td>27</td>\n",
       "      <td>3</td>\n",
       "      <td>22</td>\n",
       "      <td>45</td>\n",
       "      <td>0</td>\n",
       "      <td>10</td>\n",
       "    </tr>\n",
       "    <tr>\n",
       "      <th>4839</th>\n",
       "      <td>SpiceJet</td>\n",
       "      <td>Mumbai</td>\n",
       "      <td>Hyderabad</td>\n",
       "      <td>BOM → HYD</td>\n",
       "      <td>90.0</td>\n",
       "      <td>0</td>\n",
       "      <td>No info</td>\n",
       "      <td>1759</td>\n",
       "      <td>3</td>\n",
       "      <td>4</td>\n",
       "      <td>22</td>\n",
       "      <td>45</td>\n",
       "      <td>0</td>\n",
       "      <td>15</td>\n",
       "    </tr>\n",
       "    <tr>\n",
       "      <th>10513</th>\n",
       "      <td>SpiceJet</td>\n",
       "      <td>Mumbai</td>\n",
       "      <td>Hyderabad</td>\n",
       "      <td>BOM → HYD</td>\n",
       "      <td>80.0</td>\n",
       "      <td>0</td>\n",
       "      <td>No info</td>\n",
       "      <td>1759</td>\n",
       "      <td>27</td>\n",
       "      <td>3</td>\n",
       "      <td>5</td>\n",
       "      <td>45</td>\n",
       "      <td>7</td>\n",
       "      <td>5</td>\n",
       "    </tr>\n",
       "  </tbody>\n",
       "</table>\n",
       "</div>"
      ],
      "text/plain": [
       "        Airline  Source Destination      Route  Duration  Total_Stops  \\\n",
       "4066   SpiceJet  Mumbai   Hyderabad  BOM → HYD      85.0            0   \n",
       "4274   SpiceJet  Mumbai   Hyderabad  BOM → HYD      85.0            0   \n",
       "4839   SpiceJet  Mumbai   Hyderabad  BOM → HYD      90.0            0   \n",
       "10513  SpiceJet  Mumbai   Hyderabad  BOM → HYD      80.0            0   \n",
       "\n",
       "      Additional_Info  Price  day_of_journey  month_of_journey  Dep_hour  \\\n",
       "4066          No info   1759              21                 3        22   \n",
       "4274          No info   1759              27                 3        22   \n",
       "4839          No info   1759               3                 4        22   \n",
       "10513         No info   1759              27                 3         5   \n",
       "\n",
       "       Dep_min  arrival_hour  arrival_min  \n",
       "4066        45             0           10  \n",
       "4274        45             0           10  \n",
       "4839        45             0           15  \n",
       "10513       45             7            5  "
      ]
     },
     "execution_count": 151,
     "metadata": {},
     "output_type": "execute_result"
    }
   ],
   "source": [
    "df[df[\"Price\"]==df[\"Price\"].min()]"
   ]
  },
  {
   "cell_type": "markdown",
   "id": "46d4aaad",
   "metadata": {},
   "source": [
    "since there are outliers in the data so mean has been highly effected by outliers so we are taking the data excluding high extreme price' flights "
   ]
  },
  {
   "cell_type": "code",
   "execution_count": 153,
   "id": "ebb7cc1c",
   "metadata": {},
   "outputs": [
    {
     "data": {
      "text/plain": [
       "2860.0"
      ]
     },
     "execution_count": 153,
     "metadata": {},
     "output_type": "execute_result"
    }
   ],
   "source": [
    "df['Duration'].max()"
   ]
  },
  {
   "cell_type": "code",
   "execution_count": 155,
   "id": "918db7b0",
   "metadata": {},
   "outputs": [
    {
     "data": {
      "text/plain": [
       "47.666666666666664"
      ]
     },
     "execution_count": 155,
     "metadata": {},
     "output_type": "execute_result"
    }
   ],
   "source": [
    "2860/60"
   ]
  },
  {
   "cell_type": "code",
   "execution_count": 159,
   "id": "ac193c2a",
   "metadata": {},
   "outputs": [
    {
     "data": {
      "text/plain": [
       "9046.512647554806"
      ]
     },
     "execution_count": 159,
     "metadata": {},
     "output_type": "execute_result"
    }
   ],
   "source": [
    "x_mean=df[df[\"Price\"]<45000][\"Price\"].mean()\n",
    "x_mean"
   ]
  },
  {
   "cell_type": "markdown",
   "id": "b009919a",
   "metadata": {},
   "source": [
    "# Total number of flights whose price is less than average price "
   ]
  },
  {
   "cell_type": "code",
   "execution_count": 162,
   "id": "c9df8a2f",
   "metadata": {},
   "outputs": [
    {
     "data": {
      "text/plain": [
       "5793"
      ]
     },
     "execution_count": 162,
     "metadata": {},
     "output_type": "execute_result"
    }
   ],
   "source": [
    "len(df[df[\"Price\"]<x_mean])"
   ]
  },
  {
   "cell_type": "code",
   "execution_count": 164,
   "id": "15f6b18f",
   "metadata": {},
   "outputs": [
    {
     "data": {
      "text/plain": [
       "4890"
      ]
     },
     "execution_count": 164,
     "metadata": {},
     "output_type": "execute_result"
    }
   ],
   "source": [
    "len(df[df[\"Price\"]>=x_mean])"
   ]
  },
  {
   "cell_type": "markdown",
   "id": "e8d7630b",
   "metadata": {},
   "source": [
    "# To find out the total number of flights of each company\n",
    "or \n",
    "# Most demanding flight company"
   ]
  },
  {
   "cell_type": "code",
   "execution_count": 166,
   "id": "f5489b7b",
   "metadata": {},
   "outputs": [
    {
     "data": {
      "text/plain": [
       "Airline\n",
       "Jet Airways          3855\n",
       "IndiGo               2053\n",
       "Air India            1752\n",
       "Multiple carriers    1209\n",
       "SpiceJet              818\n",
       "Vistara               482\n",
       "Air Asia              319\n",
       "GoAir                 194\n",
       "Trujet                  1\n",
       "Name: count, dtype: int64"
      ]
     },
     "execution_count": 166,
     "metadata": {},
     "output_type": "execute_result"
    }
   ],
   "source": [
    "df['Airline'].value_counts()"
   ]
  },
  {
   "cell_type": "code",
   "execution_count": 168,
   "id": "50d63748",
   "metadata": {},
   "outputs": [
    {
     "data": {
      "image/png": "[encoded data removed]",
      "text/plain": [
       "<Figure size 1000x400 with 1 Axes>"
      ]
     },
     "metadata": {},
     "output_type": "display_data"
    }
   ],
   "source": [
    "plt.figure(figsize=(10,4))\n",
    "sns.countplot(x=\"Airline\",data=df);"
   ]
  },
  {
   "cell_type": "markdown",
   "id": "d07b88ac",
   "metadata": {},
   "source": [
    "# Most expensive flight's company"
   ]
  },
  {
   "cell_type": "code",
   "execution_count": 170,
   "id": "fe8065de",
   "metadata": {},
   "outputs": [
    {
     "data": {
      "text/html": [
       "<div>\n",
       "<style scoped>\n",
       "    .dataframe tbody tr th:only-of-type {\n",
       "        vertical-align: middle;\n",
       "    }\n",
       "\n",
       "    .dataframe tbody tr th {\n",
       "        vertical-align: top;\n",
       "    }\n",
       "\n",
       "    .dataframe thead th {\n",
       "        text-align: right;\n",
       "    }\n",
       "</style>\n",
       "<table border=\"1\" class=\"dataframe\">\n",
       "  <thead>\n",
       "    <tr style=\"text-align: right;\">\n",
       "      <th></th>\n",
       "      <th>mean</th>\n",
       "    </tr>\n",
       "    <tr>\n",
       "      <th>Airline</th>\n",
       "      <th></th>\n",
       "    </tr>\n",
       "  </thead>\n",
       "  <tbody>\n",
       "    <tr>\n",
       "      <th>Jet Airways</th>\n",
       "      <td>11716.631128</td>\n",
       "    </tr>\n",
       "    <tr>\n",
       "      <th>Multiple carriers</th>\n",
       "      <td>10908.228288</td>\n",
       "    </tr>\n",
       "    <tr>\n",
       "      <th>Air India</th>\n",
       "      <td>9611.210616</td>\n",
       "    </tr>\n",
       "    <tr>\n",
       "      <th>Vistara</th>\n",
       "      <td>7803.605809</td>\n",
       "    </tr>\n",
       "    <tr>\n",
       "      <th>GoAir</th>\n",
       "      <td>5861.056701</td>\n",
       "    </tr>\n",
       "    <tr>\n",
       "      <th>IndiGo</th>\n",
       "      <td>5673.682903</td>\n",
       "    </tr>\n",
       "    <tr>\n",
       "      <th>Air Asia</th>\n",
       "      <td>5590.260188</td>\n",
       "    </tr>\n",
       "    <tr>\n",
       "      <th>SpiceJet</th>\n",
       "      <td>4338.284841</td>\n",
       "    </tr>\n",
       "    <tr>\n",
       "      <th>Trujet</th>\n",
       "      <td>4140.000000</td>\n",
       "    </tr>\n",
       "  </tbody>\n",
       "</table>\n",
       "</div>"
      ],
      "text/plain": [
       "                           mean\n",
       "Airline                        \n",
       "Jet Airways        11716.631128\n",
       "Multiple carriers  10908.228288\n",
       "Air India           9611.210616\n",
       "Vistara             7803.605809\n",
       "GoAir               5861.056701\n",
       "IndiGo              5673.682903\n",
       "Air Asia            5590.260188\n",
       "SpiceJet            4338.284841\n",
       "Trujet              4140.000000"
      ]
     },
     "execution_count": 170,
     "metadata": {},
     "output_type": "execute_result"
    }
   ],
   "source": [
    "df.groupby('Airline')['Price'].agg(['mean']).sort_values(by='mean',ascending=False)"
   ]
  },
  {
   "cell_type": "code",
   "execution_count": 172,
   "id": "865cbe38",
   "metadata": {},
   "outputs": [
    {
     "data": {
      "image/png": "[encoded data removed]",
      "text/plain": [
       "<Figure size 1000x400 with 1 Axes>"
      ]
     },
     "metadata": {},
     "output_type": "display_data"
    }
   ],
   "source": [
    "plt.figure(figsize=(10,4))\n",
    "sns.barplot(x=\"Airline\",y=\"Price\",ci=None,data=df);"
   ]
  },
  {
   "cell_type": "markdown",
   "id": "94d26c35",
   "metadata": {},
   "source": [
    "**from customer point of view expensive flight is jet airways\n",
    "from business point of jet airways is found to be mhot selling company**"
   ]
  },
  {
   "cell_type": "markdown",
   "id": "54e34d82",
   "metadata": {},
   "source": [
    "# How price varies with respect to each flights' company"
   ]
  },
  {
   "cell_type": "code",
   "execution_count": 174,
   "id": "7276fc15",
   "metadata": {},
   "outputs": [
    {
     "data": {
      "image/png": "[encoded data removed]",
      "text/plain": [
       "<Figure size 640x480 with 1 Axes>"
      ]
     },
     "metadata": {},
     "output_type": "display_data"
    }
   ],
   "source": [
    "sns.boxplot(x=\"Airline\",y=\"Price\",data=df);\n",
    "plt.xticks(rotation=90)\n",
    "plt.title(\"how flight's price varies flight comapany\");"
   ]
  },
  {
   "cell_type": "markdown",
   "id": "512928d4",
   "metadata": {},
   "source": [
    "## The expensive flight :  Jet- airways business'\n",
    "## The cheapest:  Trujet company "
   ]
  },
  {
   "cell_type": "markdown",
   "id": "d18ef2c4",
   "metadata": {},
   "source": [
    "# To find out the expensive flight's price and cheapest flight's price of each company"
   ]
  },
  {
   "cell_type": "code",
   "execution_count": 177,
   "id": "deb58a2f",
   "metadata": {},
   "outputs": [
    {
     "data": {
      "text/html": [
       "<div>\n",
       "<style scoped>\n",
       "    .dataframe tbody tr th:only-of-type {\n",
       "        vertical-align: middle;\n",
       "    }\n",
       "\n",
       "    .dataframe tbody tr th {\n",
       "        vertical-align: top;\n",
       "    }\n",
       "\n",
       "    .dataframe thead th {\n",
       "        text-align: right;\n",
       "    }\n",
       "</style>\n",
       "<table border=\"1\" class=\"dataframe\">\n",
       "  <thead>\n",
       "    <tr style=\"text-align: right;\">\n",
       "      <th></th>\n",
       "      <th>min</th>\n",
       "      <th>max</th>\n",
       "    </tr>\n",
       "    <tr>\n",
       "      <th>Airline</th>\n",
       "      <th></th>\n",
       "      <th></th>\n",
       "    </tr>\n",
       "  </thead>\n",
       "  <tbody>\n",
       "    <tr>\n",
       "      <th>Air Asia</th>\n",
       "      <td>3383</td>\n",
       "      <td>13774</td>\n",
       "    </tr>\n",
       "    <tr>\n",
       "      <th>Air India</th>\n",
       "      <td>2050</td>\n",
       "      <td>31945</td>\n",
       "    </tr>\n",
       "    <tr>\n",
       "      <th>GoAir</th>\n",
       "      <td>3398</td>\n",
       "      <td>22794</td>\n",
       "    </tr>\n",
       "    <tr>\n",
       "      <th>IndiGo</th>\n",
       "      <td>2227</td>\n",
       "      <td>22153</td>\n",
       "    </tr>\n",
       "    <tr>\n",
       "      <th>Jet Airways</th>\n",
       "      <td>1840</td>\n",
       "      <td>79512</td>\n",
       "    </tr>\n",
       "    <tr>\n",
       "      <th>Multiple carriers</th>\n",
       "      <td>5797</td>\n",
       "      <td>36983</td>\n",
       "    </tr>\n",
       "    <tr>\n",
       "      <th>SpiceJet</th>\n",
       "      <td>1759</td>\n",
       "      <td>23267</td>\n",
       "    </tr>\n",
       "    <tr>\n",
       "      <th>Trujet</th>\n",
       "      <td>4140</td>\n",
       "      <td>4140</td>\n",
       "    </tr>\n",
       "    <tr>\n",
       "      <th>Vistara</th>\n",
       "      <td>3687</td>\n",
       "      <td>21730</td>\n",
       "    </tr>\n",
       "  </tbody>\n",
       "</table>\n",
       "</div>"
      ],
      "text/plain": [
       "                    min    max\n",
       "Airline                       \n",
       "Air Asia           3383  13774\n",
       "Air India          2050  31945\n",
       "GoAir              3398  22794\n",
       "IndiGo             2227  22153\n",
       "Jet Airways        1840  79512\n",
       "Multiple carriers  5797  36983\n",
       "SpiceJet           1759  23267\n",
       "Trujet             4140   4140\n",
       "Vistara            3687  21730"
      ]
     },
     "execution_count": 177,
     "metadata": {},
     "output_type": "execute_result"
    }
   ],
   "source": [
    "df.groupby('Airline')['Price'].agg(['min','max'])"
   ]
  },
  {
   "cell_type": "code",
   "execution_count": 179,
   "id": "9149bb64",
   "metadata": {},
   "outputs": [
    {
     "data": {
      "image/png": "[encoded data removed]",
      "text/plain": [
       "<Figure size 640x480 with 1 Axes>"
      ]
     },
     "metadata": {},
     "output_type": "display_data"
    }
   ],
   "source": [
    "sns.barplot(x=\"Airline\",y=\"Price\",estimator=max,ci=None,data=df);\n",
    "plt.xticks(rotation=90);"
   ]
  },
  {
   "cell_type": "code",
   "execution_count": 181,
   "id": "291125d6",
   "metadata": {},
   "outputs": [
    {
     "data": {
      "image/png": "[encoded data removed]",
      "text/plain": [
       "<Figure size 640x480 with 1 Axes>"
      ]
     },
     "metadata": {},
     "output_type": "display_data"
    }
   ],
   "source": [
    "sns.barplot(x=\"Airline\",y=\"Price\",estimator=min,data=df,ci=None);\n",
    "plt.xticks(rotation=90);"
   ]
  },
  {
   "cell_type": "code",
   "execution_count": 183,
   "id": "ce453a4d",
   "metadata": {},
   "outputs": [
    {
     "data": {
      "image/png": "[encoded data removed]",
      "text/plain": [
       "<Figure size 640x480 with 1 Axes>"
      ]
     },
     "metadata": {},
     "output_type": "display_data"
    }
   ],
   "source": [
    "sns.barplot(x=\"Airline\",y=\"Price\",ci=None,data=df);\n",
    "plt.xticks(rotation=90);"
   ]
  },
  {
   "cell_type": "markdown",
   "id": "478270d1",
   "metadata": {},
   "source": [
    "# How many Flights with respect to their Stopages ?"
   ]
  },
  {
   "cell_type": "code",
   "execution_count": 185,
   "id": "f9e8a76d",
   "metadata": {},
   "outputs": [
    {
     "data": {
      "text/plain": [
       "Total_Stops\n",
       "1    5626\n",
       "0    3491\n",
       "2    1520\n",
       "3      45\n",
       "4       1\n",
       "Name: count, dtype: int64"
      ]
     },
     "execution_count": 185,
     "metadata": {},
     "output_type": "execute_result"
    }
   ],
   "source": [
    "df['Total_Stops'].value_counts()"
   ]
  },
  {
   "cell_type": "code",
   "execution_count": 187,
   "id": "744e6030",
   "metadata": {},
   "outputs": [
    {
     "data": {
      "image/png": "[encoded data removed]",
      "text/plain": [
       "<Figure size 640x480 with 1 Axes>"
      ]
     },
     "metadata": {},
     "output_type": "display_data"
    }
   ],
   "source": [
    "sns.countplot(x='Total_Stops',data=df);"
   ]
  },
  {
   "cell_type": "code",
   "execution_count": 189,
   "id": "76cf6b90",
   "metadata": {},
   "outputs": [
    {
     "data": {
      "text/html": [
       "<div>\n",
       "<style scoped>\n",
       "    .dataframe tbody tr th:only-of-type {\n",
       "        vertical-align: middle;\n",
       "    }\n",
       "\n",
       "    .dataframe tbody tr th {\n",
       "        vertical-align: top;\n",
       "    }\n",
       "\n",
       "    .dataframe thead th {\n",
       "        text-align: right;\n",
       "    }\n",
       "</style>\n",
       "<table border=\"1\" class=\"dataframe\">\n",
       "  <thead>\n",
       "    <tr style=\"text-align: right;\">\n",
       "      <th></th>\n",
       "      <th>Airline</th>\n",
       "      <th>Source</th>\n",
       "      <th>Destination</th>\n",
       "      <th>Route</th>\n",
       "      <th>Duration</th>\n",
       "      <th>Total_Stops</th>\n",
       "      <th>Additional_Info</th>\n",
       "      <th>Price</th>\n",
       "      <th>day_of_journey</th>\n",
       "      <th>month_of_journey</th>\n",
       "      <th>Dep_hour</th>\n",
       "      <th>Dep_min</th>\n",
       "      <th>arrival_hour</th>\n",
       "      <th>arrival_min</th>\n",
       "    </tr>\n",
       "  </thead>\n",
       "  <tbody>\n",
       "    <tr>\n",
       "      <th>9182</th>\n",
       "      <td>Air India</td>\n",
       "      <td>Banglore</td>\n",
       "      <td>Delhi</td>\n",
       "      <td>BLR → CCU → BBI → HYD → VGA → DEL</td>\n",
       "      <td>1770.0</td>\n",
       "      <td>4</td>\n",
       "      <td>Change airports</td>\n",
       "      <td>17686</td>\n",
       "      <td>1</td>\n",
       "      <td>3</td>\n",
       "      <td>5</td>\n",
       "      <td>50</td>\n",
       "      <td>11</td>\n",
       "      <td>20</td>\n",
       "    </tr>\n",
       "  </tbody>\n",
       "</table>\n",
       "</div>"
      ],
      "text/plain": [
       "        Airline    Source Destination                              Route  \\\n",
       "9182  Air India  Banglore       Delhi  BLR → CCU → BBI → HYD → VGA → DEL   \n",
       "\n",
       "      Duration  Total_Stops  Additional_Info  Price  day_of_journey  \\\n",
       "9182    1770.0            4  Change airports  17686               1   \n",
       "\n",
       "      month_of_journey  Dep_hour  Dep_min  arrival_hour  arrival_min  \n",
       "9182                 3         5       50            11           20  "
      ]
     },
     "execution_count": 189,
     "metadata": {},
     "output_type": "execute_result"
    }
   ],
   "source": [
    "df[df[\"Total_Stops\"]==4]"
   ]
  },
  {
   "cell_type": "markdown",
   "id": "99b842e9",
   "metadata": {},
   "source": [
    "# Insights : From this above ouput\n",
    "\n",
    "## we can see that no.of flights and their Stoppages\n",
    "## In this Data maximum flights have 1 stopage \n",
    "## And there are few flights which have three and four stoppages"
   ]
  },
  {
   "cell_type": "markdown",
   "id": "e73f3e91",
   "metadata": {},
   "source": [
    "### Find out the flights availabilty with respect to number of stoppages"
   ]
  },
  {
   "cell_type": "code",
   "execution_count": 191,
   "id": "31f9443e",
   "metadata": {
    "scrolled": true
   },
   "outputs": [
    {
     "data": {
      "text/plain": [
       "Total_Stops  Airline          \n",
       "0            IndiGo               1241\n",
       "             SpiceJet              670\n",
       "             Jet Airways           623\n",
       "             Air India             417\n",
       "             Vistara               267\n",
       "             Air Asia              181\n",
       "             GoAir                  92\n",
       "1            Jet Airways          2539\n",
       "             Multiple carriers    1158\n",
       "             IndiGo                793\n",
       "             Air India             541\n",
       "             Vistara               215\n",
       "             SpiceJet              148\n",
       "             Air Asia              129\n",
       "             GoAir                 102\n",
       "             Trujet                  1\n",
       "2            Air India             756\n",
       "             Jet Airways           693\n",
       "             Multiple carriers      43\n",
       "             IndiGo                 19\n",
       "             Air Asia                9\n",
       "3            Air India              37\n",
       "             Multiple carriers       8\n",
       "4            Air India               1\n",
       "Name: count, dtype: int64"
      ]
     },
     "execution_count": 191,
     "metadata": {},
     "output_type": "execute_result"
    }
   ],
   "source": [
    "df.groupby([\"Total_Stops\"])[\"Airline\"].value_counts()"
   ]
  },
  {
   "cell_type": "code",
   "execution_count": 193,
   "id": "19683f19",
   "metadata": {},
   "outputs": [
    {
     "data": {
      "text/html": [
       "<div>\n",
       "<style scoped>\n",
       "    .dataframe tbody tr th:only-of-type {\n",
       "        vertical-align: middle;\n",
       "    }\n",
       "\n",
       "    .dataframe tbody tr th {\n",
       "        vertical-align: top;\n",
       "    }\n",
       "\n",
       "    .dataframe thead th {\n",
       "        text-align: right;\n",
       "    }\n",
       "</style>\n",
       "<table border=\"1\" class=\"dataframe\">\n",
       "  <thead>\n",
       "    <tr style=\"text-align: right;\">\n",
       "      <th></th>\n",
       "      <th>min</th>\n",
       "      <th>max</th>\n",
       "    </tr>\n",
       "    <tr>\n",
       "      <th>Airline</th>\n",
       "      <th></th>\n",
       "      <th></th>\n",
       "    </tr>\n",
       "  </thead>\n",
       "  <tbody>\n",
       "    <tr>\n",
       "      <th>Air Asia</th>\n",
       "      <td>0</td>\n",
       "      <td>2</td>\n",
       "    </tr>\n",
       "    <tr>\n",
       "      <th>Air India</th>\n",
       "      <td>0</td>\n",
       "      <td>4</td>\n",
       "    </tr>\n",
       "    <tr>\n",
       "      <th>GoAir</th>\n",
       "      <td>0</td>\n",
       "      <td>1</td>\n",
       "    </tr>\n",
       "    <tr>\n",
       "      <th>IndiGo</th>\n",
       "      <td>0</td>\n",
       "      <td>2</td>\n",
       "    </tr>\n",
       "    <tr>\n",
       "      <th>Jet Airways</th>\n",
       "      <td>0</td>\n",
       "      <td>2</td>\n",
       "    </tr>\n",
       "    <tr>\n",
       "      <th>Multiple carriers</th>\n",
       "      <td>1</td>\n",
       "      <td>3</td>\n",
       "    </tr>\n",
       "    <tr>\n",
       "      <th>SpiceJet</th>\n",
       "      <td>0</td>\n",
       "      <td>1</td>\n",
       "    </tr>\n",
       "    <tr>\n",
       "      <th>Trujet</th>\n",
       "      <td>1</td>\n",
       "      <td>1</td>\n",
       "    </tr>\n",
       "    <tr>\n",
       "      <th>Vistara</th>\n",
       "      <td>0</td>\n",
       "      <td>1</td>\n",
       "    </tr>\n",
       "  </tbody>\n",
       "</table>\n",
       "</div>"
      ],
      "text/plain": [
       "                   min  max\n",
       "Airline                    \n",
       "Air Asia             0    2\n",
       "Air India            0    4\n",
       "GoAir                0    1\n",
       "IndiGo               0    2\n",
       "Jet Airways          0    2\n",
       "Multiple carriers    1    3\n",
       "SpiceJet             0    1\n",
       "Trujet               1    1\n",
       "Vistara              0    1"
      ]
     },
     "execution_count": 193,
     "metadata": {},
     "output_type": "execute_result"
    }
   ],
   "source": [
    "df.groupby('Airline')['Total_Stops'].agg(['min','max'])"
   ]
  },
  {
   "cell_type": "markdown",
   "id": "26e6b3e3",
   "metadata": {},
   "source": [
    "# Insights:\n",
    "\n",
    "## Indigo has highest number of flights with 0 stoppage \n",
    "## Jet Airways highest number of flights with 1 stoppage \n",
    "## Air India highest number of flights with 2 stoppages \n",
    "## Air India highest number of flights with 3 stoppages \n",
    "## Air India is the only flight  with 4 stoppages "
   ]
  },
  {
   "cell_type": "markdown",
   "id": "d282497c",
   "metadata": {},
   "source": [
    "# To find out the min,max and average stoppage of each flights "
   ]
  },
  {
   "cell_type": "code",
   "execution_count": 195,
   "id": "5fb8298d",
   "metadata": {},
   "outputs": [
    {
     "data": {
      "image/png": "[encoded data removed]",
      "text/plain": [
       "<Figure size 1500x800 with 3 Axes>"
      ]
     },
     "metadata": {},
     "output_type": "display_data"
    }
   ],
   "source": [
    "plt.figure(figsize=(15,8))\n",
    "plt.subplot(1,3,1)\n",
    "sns.barplot(x=\"Airline\",y=\"Total_Stops\",ci=None,data=df)\n",
    "plt.title(\"flights with average stoppage\")\n",
    "plt.xlabel(\"flights\")\n",
    "plt.ylabel(\"total stops\")\n",
    "plt.xticks(rotation=90)\n",
    "\n",
    "\n",
    "plt.subplot(1,3,2)\n",
    "sns.barplot(x=\"Airline\",y=\"Total_Stops\",ci=None,data=df,estimator=max)\n",
    "plt.title(\"flights with maximum stoppage\")\n",
    "plt.xlabel(\"flights\")\n",
    "plt.ylabel(\"total stops\")\n",
    "plt.xticks(rotation=90)\n",
    "\n",
    "\n",
    "plt.subplot(1,3,3)\n",
    "sns.barplot(x=\"Airline\",y=\"Total_Stops\",ci=None,data=df,estimator=min)\n",
    "plt.title(\"flights with min stoppage\")\n",
    "plt.xlabel(\"flights\")\n",
    "plt.ylabel(\"total stops\")\n",
    "plt.xticks(rotation=90);\n",
    "\n"
   ]
  },
  {
   "cell_type": "markdown",
   "id": "110690be",
   "metadata": {},
   "source": [
    "## or"
   ]
  },
  {
   "cell_type": "markdown",
   "id": "6b7ff46b",
   "metadata": {},
   "source": [
    "### Insight :\n",
    " Air India is the flight which has maximum stoppage"
   ]
  },
  {
   "cell_type": "markdown",
   "id": "953798ce",
   "metadata": {},
   "source": [
    "# To find out the details of Vistara Premium economy flight"
   ]
  },
  {
   "cell_type": "code",
   "execution_count": 197,
   "id": "4d43b40c",
   "metadata": {},
   "outputs": [
    {
     "data": {
      "text/html": [
       "<div>\n",
       "<style scoped>\n",
       "    .dataframe tbody tr th:only-of-type {\n",
       "        vertical-align: middle;\n",
       "    }\n",
       "\n",
       "    .dataframe tbody tr th {\n",
       "        vertical-align: top;\n",
       "    }\n",
       "\n",
       "    .dataframe thead th {\n",
       "        text-align: right;\n",
       "    }\n",
       "</style>\n",
       "<table border=\"1\" class=\"dataframe\">\n",
       "  <thead>\n",
       "    <tr style=\"text-align: right;\">\n",
       "      <th></th>\n",
       "      <th>Airline</th>\n",
       "      <th>Source</th>\n",
       "      <th>Destination</th>\n",
       "      <th>Route</th>\n",
       "      <th>Duration</th>\n",
       "      <th>Total_Stops</th>\n",
       "      <th>Additional_Info</th>\n",
       "      <th>Price</th>\n",
       "      <th>day_of_journey</th>\n",
       "      <th>month_of_journey</th>\n",
       "      <th>Dep_hour</th>\n",
       "      <th>Dep_min</th>\n",
       "      <th>arrival_hour</th>\n",
       "      <th>arrival_min</th>\n",
       "    </tr>\n",
       "  </thead>\n",
       "  <tbody>\n",
       "    <tr>\n",
       "      <th>28</th>\n",
       "      <td>Vistara</td>\n",
       "      <td>Banglore</td>\n",
       "      <td>Delhi</td>\n",
       "      <td>BLR → DEL</td>\n",
       "      <td>170.0</td>\n",
       "      <td>0</td>\n",
       "      <td>No info</td>\n",
       "      <td>4668</td>\n",
       "      <td>18</td>\n",
       "      <td>6</td>\n",
       "      <td>9</td>\n",
       "      <td>45</td>\n",
       "      <td>12</td>\n",
       "      <td>35</td>\n",
       "    </tr>\n",
       "    <tr>\n",
       "      <th>29</th>\n",
       "      <td>Vistara</td>\n",
       "      <td>Chennai</td>\n",
       "      <td>Kolkata</td>\n",
       "      <td>MAA → CCU</td>\n",
       "      <td>135.0</td>\n",
       "      <td>0</td>\n",
       "      <td>No info</td>\n",
       "      <td>3687</td>\n",
       "      <td>15</td>\n",
       "      <td>6</td>\n",
       "      <td>7</td>\n",
       "      <td>5</td>\n",
       "      <td>9</td>\n",
       "      <td>20</td>\n",
       "    </tr>\n",
       "    <tr>\n",
       "      <th>30</th>\n",
       "      <td>Vistara</td>\n",
       "      <td>Chennai</td>\n",
       "      <td>Kolkata</td>\n",
       "      <td>MAA → CCU</td>\n",
       "      <td>135.0</td>\n",
       "      <td>0</td>\n",
       "      <td>No info</td>\n",
       "      <td>3687</td>\n",
       "      <td>18</td>\n",
       "      <td>6</td>\n",
       "      <td>7</td>\n",
       "      <td>5</td>\n",
       "      <td>9</td>\n",
       "      <td>20</td>\n",
       "    </tr>\n",
       "    <tr>\n",
       "      <th>57</th>\n",
       "      <td>Vistara</td>\n",
       "      <td>Chennai</td>\n",
       "      <td>Kolkata</td>\n",
       "      <td>MAA → CCU</td>\n",
       "      <td>135.0</td>\n",
       "      <td>0</td>\n",
       "      <td>No info</td>\n",
       "      <td>7414</td>\n",
       "      <td>6</td>\n",
       "      <td>3</td>\n",
       "      <td>7</td>\n",
       "      <td>5</td>\n",
       "      <td>9</td>\n",
       "      <td>20</td>\n",
       "    </tr>\n",
       "    <tr>\n",
       "      <th>59</th>\n",
       "      <td>Vistara</td>\n",
       "      <td>Mumbai</td>\n",
       "      <td>Hyderabad</td>\n",
       "      <td>BOM → DEL → HYD</td>\n",
       "      <td>1505.0</td>\n",
       "      <td>1</td>\n",
       "      <td>No info</td>\n",
       "      <td>12395</td>\n",
       "      <td>6</td>\n",
       "      <td>3</td>\n",
       "      <td>15</td>\n",
       "      <td>40</td>\n",
       "      <td>16</td>\n",
       "      <td>45</td>\n",
       "    </tr>\n",
       "    <tr>\n",
       "      <th>...</th>\n",
       "      <td>...</td>\n",
       "      <td>...</td>\n",
       "      <td>...</td>\n",
       "      <td>...</td>\n",
       "      <td>...</td>\n",
       "      <td>...</td>\n",
       "      <td>...</td>\n",
       "      <td>...</td>\n",
       "      <td>...</td>\n",
       "      <td>...</td>\n",
       "      <td>...</td>\n",
       "      <td>...</td>\n",
       "      <td>...</td>\n",
       "      <td>...</td>\n",
       "    </tr>\n",
       "    <tr>\n",
       "      <th>10624</th>\n",
       "      <td>Vistara</td>\n",
       "      <td>Kolkata</td>\n",
       "      <td>Banglore</td>\n",
       "      <td>CCU → DEL → BLR</td>\n",
       "      <td>1580.0</td>\n",
       "      <td>1</td>\n",
       "      <td>No info</td>\n",
       "      <td>8662</td>\n",
       "      <td>6</td>\n",
       "      <td>6</td>\n",
       "      <td>20</td>\n",
       "      <td>20</td>\n",
       "      <td>22</td>\n",
       "      <td>40</td>\n",
       "    </tr>\n",
       "    <tr>\n",
       "      <th>10656</th>\n",
       "      <td>Vistara</td>\n",
       "      <td>Banglore</td>\n",
       "      <td>Delhi</td>\n",
       "      <td>BLR → DEL</td>\n",
       "      <td>160.0</td>\n",
       "      <td>0</td>\n",
       "      <td>No info</td>\n",
       "      <td>5613</td>\n",
       "      <td>6</td>\n",
       "      <td>4</td>\n",
       "      <td>7</td>\n",
       "      <td>0</td>\n",
       "      <td>9</td>\n",
       "      <td>40</td>\n",
       "    </tr>\n",
       "    <tr>\n",
       "      <th>10659</th>\n",
       "      <td>Vistara</td>\n",
       "      <td>Banglore</td>\n",
       "      <td>Delhi</td>\n",
       "      <td>BLR → DEL</td>\n",
       "      <td>170.0</td>\n",
       "      <td>0</td>\n",
       "      <td>No info</td>\n",
       "      <td>4668</td>\n",
       "      <td>1</td>\n",
       "      <td>5</td>\n",
       "      <td>21</td>\n",
       "      <td>0</td>\n",
       "      <td>23</td>\n",
       "      <td>50</td>\n",
       "    </tr>\n",
       "    <tr>\n",
       "      <th>10660</th>\n",
       "      <td>Vistara</td>\n",
       "      <td>Banglore</td>\n",
       "      <td>Delhi</td>\n",
       "      <td>BLR → DEL</td>\n",
       "      <td>175.0</td>\n",
       "      <td>0</td>\n",
       "      <td>No info</td>\n",
       "      <td>4878</td>\n",
       "      <td>21</td>\n",
       "      <td>3</td>\n",
       "      <td>21</td>\n",
       "      <td>10</td>\n",
       "      <td>0</td>\n",
       "      <td>5</td>\n",
       "    </tr>\n",
       "    <tr>\n",
       "      <th>10681</th>\n",
       "      <td>Vistara</td>\n",
       "      <td>Banglore</td>\n",
       "      <td>Delhi</td>\n",
       "      <td>BLR → DEL</td>\n",
       "      <td>160.0</td>\n",
       "      <td>0</td>\n",
       "      <td>No info</td>\n",
       "      <td>12648</td>\n",
       "      <td>1</td>\n",
       "      <td>3</td>\n",
       "      <td>11</td>\n",
       "      <td>30</td>\n",
       "      <td>14</td>\n",
       "      <td>10</td>\n",
       "    </tr>\n",
       "  </tbody>\n",
       "</table>\n",
       "<p>482 rows × 14 columns</p>\n",
       "</div>"
      ],
      "text/plain": [
       "       Airline    Source Destination            Route  Duration  Total_Stops  \\\n",
       "28     Vistara  Banglore       Delhi        BLR → DEL     170.0            0   \n",
       "29     Vistara   Chennai     Kolkata        MAA → CCU     135.0            0   \n",
       "30     Vistara   Chennai     Kolkata        MAA → CCU     135.0            0   \n",
       "57     Vistara   Chennai     Kolkata        MAA → CCU     135.0            0   \n",
       "59     Vistara    Mumbai   Hyderabad  BOM → DEL → HYD    1505.0            1   \n",
       "...        ...       ...         ...              ...       ...          ...   \n",
       "10624  Vistara   Kolkata    Banglore  CCU → DEL → BLR    1580.0            1   \n",
       "10656  Vistara  Banglore       Delhi        BLR → DEL     160.0            0   \n",
       "10659  Vistara  Banglore       Delhi        BLR → DEL     170.0            0   \n",
       "10660  Vistara  Banglore       Delhi        BLR → DEL     175.0            0   \n",
       "10681  Vistara  Banglore       Delhi        BLR → DEL     160.0            0   \n",
       "\n",
       "      Additional_Info  Price  day_of_journey  month_of_journey  Dep_hour  \\\n",
       "28            No info   4668              18                 6         9   \n",
       "29            No info   3687              15                 6         7   \n",
       "30            No info   3687              18                 6         7   \n",
       "57            No info   7414               6                 3         7   \n",
       "59            No info  12395               6                 3        15   \n",
       "...               ...    ...             ...               ...       ...   \n",
       "10624         No info   8662               6                 6        20   \n",
       "10656         No info   5613               6                 4         7   \n",
       "10659         No info   4668               1                 5        21   \n",
       "10660         No info   4878              21                 3        21   \n",
       "10681         No info  12648               1                 3        11   \n",
       "\n",
       "       Dep_min  arrival_hour  arrival_min  \n",
       "28          45            12           35  \n",
       "29           5             9           20  \n",
       "30           5             9           20  \n",
       "57           5             9           20  \n",
       "59          40            16           45  \n",
       "...        ...           ...          ...  \n",
       "10624       20            22           40  \n",
       "10656        0             9           40  \n",
       "10659        0            23           50  \n",
       "10660       10             0            5  \n",
       "10681       30            14           10  \n",
       "\n",
       "[482 rows x 14 columns]"
      ]
     },
     "execution_count": 197,
     "metadata": {},
     "output_type": "execute_result"
    }
   ],
   "source": [
    "df[df['Airline']=='Vistara']"
   ]
  },
  {
   "cell_type": "markdown",
   "id": "b5877040",
   "metadata": {},
   "source": [
    "# How no. of stoppage,Duration  varies with price "
   ]
  },
  {
   "cell_type": "code",
   "execution_count": 201,
   "id": "ede153d3",
   "metadata": {},
   "outputs": [
    {
     "name": "stdout",
     "output_type": "stream",
     "text": [
      "0.6038830640858682\n",
      "0.5067431283617874\n"
     ]
    }
   ],
   "source": [
    "print(df.select_dtypes(include='number').corr()[\"Total_Stops\"][\"Price\"])\n",
    "print(df.select_dtypes(include='number').corr()[\"Duration\"][\"Price\"])"
   ]
  },
  {
   "cell_type": "markdown",
   "id": "4efb6e27",
   "metadata": {},
   "source": [
    "# Which flight is available from source to destination\n",
    "\n",
    "# or checking the availibilty of flight with respect to source and destination"
   ]
  },
  {
   "cell_type": "code",
   "execution_count": 203,
   "id": "3f19275a",
   "metadata": {},
   "outputs": [
    {
     "data": {
      "text/plain": [
       "Source    Destination  Airline          \n",
       "Banglore  Delhi        Jet Airways           792\n",
       "                       IndiGo                523\n",
       "                       Air India             332\n",
       "                       Vistara               187\n",
       "                       SpiceJet              181\n",
       "                       GoAir                  93\n",
       "                       Air Asia               89\n",
       "Chennai   Kolkata      IndiGo                184\n",
       "                       SpiceJet              128\n",
       "                       Vistara                44\n",
       "                       Air India              25\n",
       "Delhi     Cochin       Jet Airways          1588\n",
       "                       Multiple carriers    1209\n",
       "                       Air India             747\n",
       "                       IndiGo                705\n",
       "                       SpiceJet               87\n",
       "                       Air Asia               80\n",
       "                       GoAir                  76\n",
       "                       Vistara                45\n",
       "Kolkata   Banglore     Jet Airways          1256\n",
       "                       Air India             512\n",
       "                       IndiGo                445\n",
       "                       SpiceJet              300\n",
       "                       Vistara               183\n",
       "                       Air Asia              150\n",
       "                       GoAir                  25\n",
       "Mumbai    Hyderabad    Jet Airways           219\n",
       "                       IndiGo                196\n",
       "                       Air India             136\n",
       "                       SpiceJet              122\n",
       "                       Vistara                23\n",
       "                       Trujet                  1\n",
       "Name: count, dtype: int64"
      ]
     },
     "execution_count": 203,
     "metadata": {},
     "output_type": "execute_result"
    }
   ],
   "source": [
    "df.groupby([\"Source\",\"Destination\"])[\"Airline\"].value_counts()"
   ]
  },
  {
   "cell_type": "markdown",
   "id": "fdcd4318",
   "metadata": {},
   "source": []
  },
  {
   "cell_type": "markdown",
   "id": "07f84543",
   "metadata": {},
   "source": [
    "# To Find out max,min and average price of different Flights from source to destination"
   ]
  },
  {
   "cell_type": "code",
   "execution_count": 205,
   "id": "44c5f34b",
   "metadata": {},
   "outputs": [
    {
     "data": {
      "text/html": [
       "<div>\n",
       "<style scoped>\n",
       "    .dataframe tbody tr th:only-of-type {\n",
       "        vertical-align: middle;\n",
       "    }\n",
       "\n",
       "    .dataframe tbody tr th {\n",
       "        vertical-align: top;\n",
       "    }\n",
       "\n",
       "    .dataframe thead th {\n",
       "        text-align: right;\n",
       "    }\n",
       "</style>\n",
       "<table border=\"1\" class=\"dataframe\">\n",
       "  <thead>\n",
       "    <tr style=\"text-align: right;\">\n",
       "      <th></th>\n",
       "      <th>Source</th>\n",
       "      <th>Destination</th>\n",
       "      <th>Airline</th>\n",
       "      <th>mean</th>\n",
       "      <th>max</th>\n",
       "      <th>min</th>\n",
       "    </tr>\n",
       "  </thead>\n",
       "  <tbody>\n",
       "    <tr>\n",
       "      <th>0</th>\n",
       "      <td>Banglore</td>\n",
       "      <td>Delhi</td>\n",
       "      <td>Air Asia</td>\n",
       "      <td>4574.280899</td>\n",
       "      <td>10873</td>\n",
       "      <td>3383</td>\n",
       "    </tr>\n",
       "    <tr>\n",
       "      <th>1</th>\n",
       "      <td>Banglore</td>\n",
       "      <td>Delhi</td>\n",
       "      <td>Air India</td>\n",
       "      <td>9238.198795</td>\n",
       "      <td>31783</td>\n",
       "      <td>3758</td>\n",
       "    </tr>\n",
       "    <tr>\n",
       "      <th>2</th>\n",
       "      <td>Banglore</td>\n",
       "      <td>Delhi</td>\n",
       "      <td>GoAir</td>\n",
       "      <td>4948.881720</td>\n",
       "      <td>18558</td>\n",
       "      <td>3398</td>\n",
       "    </tr>\n",
       "    <tr>\n",
       "      <th>3</th>\n",
       "      <td>Banglore</td>\n",
       "      <td>Delhi</td>\n",
       "      <td>IndiGo</td>\n",
       "      <td>5274.112811</td>\n",
       "      <td>22153</td>\n",
       "      <td>3359</td>\n",
       "    </tr>\n",
       "    <tr>\n",
       "      <th>4</th>\n",
       "      <td>Banglore</td>\n",
       "      <td>Delhi</td>\n",
       "      <td>Jet Airways</td>\n",
       "      <td>11283.462121</td>\n",
       "      <td>79512</td>\n",
       "      <td>3359</td>\n",
       "    </tr>\n",
       "    <tr>\n",
       "      <th>5</th>\n",
       "      <td>Banglore</td>\n",
       "      <td>Delhi</td>\n",
       "      <td>SpiceJet</td>\n",
       "      <td>4550.292818</td>\n",
       "      <td>23267</td>\n",
       "      <td>3257</td>\n",
       "    </tr>\n",
       "    <tr>\n",
       "      <th>6</th>\n",
       "      <td>Banglore</td>\n",
       "      <td>Delhi</td>\n",
       "      <td>Vistara</td>\n",
       "      <td>6211.037433</td>\n",
       "      <td>21730</td>\n",
       "      <td>4353</td>\n",
       "    </tr>\n",
       "    <tr>\n",
       "      <th>7</th>\n",
       "      <td>Chennai</td>\n",
       "      <td>Kolkata</td>\n",
       "      <td>Air India</td>\n",
       "      <td>5895.640000</td>\n",
       "      <td>19630</td>\n",
       "      <td>3145</td>\n",
       "    </tr>\n",
       "    <tr>\n",
       "      <th>8</th>\n",
       "      <td>Chennai</td>\n",
       "      <td>Kolkata</td>\n",
       "      <td>IndiGo</td>\n",
       "      <td>4538.766304</td>\n",
       "      <td>8580</td>\n",
       "      <td>3384</td>\n",
       "    </tr>\n",
       "    <tr>\n",
       "      <th>9</th>\n",
       "      <td>Chennai</td>\n",
       "      <td>Kolkata</td>\n",
       "      <td>SpiceJet</td>\n",
       "      <td>3993.523438</td>\n",
       "      <td>7718</td>\n",
       "      <td>3332</td>\n",
       "    </tr>\n",
       "    <tr>\n",
       "      <th>10</th>\n",
       "      <td>Chennai</td>\n",
       "      <td>Kolkata</td>\n",
       "      <td>Vistara</td>\n",
       "      <td>7528.500000</td>\n",
       "      <td>11982</td>\n",
       "      <td>3687</td>\n",
       "    </tr>\n",
       "    <tr>\n",
       "      <th>11</th>\n",
       "      <td>Delhi</td>\n",
       "      <td>Cochin</td>\n",
       "      <td>Air Asia</td>\n",
       "      <td>7804.175000</td>\n",
       "      <td>13774</td>\n",
       "      <td>6151</td>\n",
       "    </tr>\n",
       "    <tr>\n",
       "      <th>12</th>\n",
       "      <td>Delhi</td>\n",
       "      <td>Cochin</td>\n",
       "      <td>Air India</td>\n",
       "      <td>10000.068273</td>\n",
       "      <td>28322</td>\n",
       "      <td>4487</td>\n",
       "    </tr>\n",
       "    <tr>\n",
       "      <th>13</th>\n",
       "      <td>Delhi</td>\n",
       "      <td>Cochin</td>\n",
       "      <td>GoAir</td>\n",
       "      <td>6587.157895</td>\n",
       "      <td>22794</td>\n",
       "      <td>3876</td>\n",
       "    </tr>\n",
       "    <tr>\n",
       "      <th>14</th>\n",
       "      <td>Delhi</td>\n",
       "      <td>Cochin</td>\n",
       "      <td>IndiGo</td>\n",
       "      <td>7203.933333</td>\n",
       "      <td>16162</td>\n",
       "      <td>4729</td>\n",
       "    </tr>\n",
       "    <tr>\n",
       "      <th>15</th>\n",
       "      <td>Delhi</td>\n",
       "      <td>Cochin</td>\n",
       "      <td>Jet Airways</td>\n",
       "      <td>12688.871537</td>\n",
       "      <td>52285</td>\n",
       "      <td>4256</td>\n",
       "    </tr>\n",
       "    <tr>\n",
       "      <th>16</th>\n",
       "      <td>Delhi</td>\n",
       "      <td>Cochin</td>\n",
       "      <td>Multiple carriers</td>\n",
       "      <td>10908.228288</td>\n",
       "      <td>36983</td>\n",
       "      <td>5797</td>\n",
       "    </tr>\n",
       "    <tr>\n",
       "      <th>17</th>\n",
       "      <td>Delhi</td>\n",
       "      <td>Cochin</td>\n",
       "      <td>SpiceJet</td>\n",
       "      <td>5916.356322</td>\n",
       "      <td>11726</td>\n",
       "      <td>4098</td>\n",
       "    </tr>\n",
       "    <tr>\n",
       "      <th>18</th>\n",
       "      <td>Delhi</td>\n",
       "      <td>Cochin</td>\n",
       "      <td>Vistara</td>\n",
       "      <td>6465.644444</td>\n",
       "      <td>12411</td>\n",
       "      <td>4851</td>\n",
       "    </tr>\n",
       "    <tr>\n",
       "      <th>19</th>\n",
       "      <td>Kolkata</td>\n",
       "      <td>Banglore</td>\n",
       "      <td>Air Asia</td>\n",
       "      <td>5012.320000</td>\n",
       "      <td>11323</td>\n",
       "      <td>3782</td>\n",
       "    </tr>\n",
       "    <tr>\n",
       "      <th>20</th>\n",
       "      <td>Kolkata</td>\n",
       "      <td>Banglore</td>\n",
       "      <td>Air India</td>\n",
       "      <td>10357.324219</td>\n",
       "      <td>31945</td>\n",
       "      <td>4145</td>\n",
       "    </tr>\n",
       "    <tr>\n",
       "      <th>21</th>\n",
       "      <td>Kolkata</td>\n",
       "      <td>Banglore</td>\n",
       "      <td>GoAir</td>\n",
       "      <td>7047.000000</td>\n",
       "      <td>10586</td>\n",
       "      <td>3514</td>\n",
       "    </tr>\n",
       "    <tr>\n",
       "      <th>22</th>\n",
       "      <td>Kolkata</td>\n",
       "      <td>Banglore</td>\n",
       "      <td>IndiGo</td>\n",
       "      <td>5075.235955</td>\n",
       "      <td>12198</td>\n",
       "      <td>3480</td>\n",
       "    </tr>\n",
       "    <tr>\n",
       "      <th>23</th>\n",
       "      <td>Kolkata</td>\n",
       "      <td>Banglore</td>\n",
       "      <td>Jet Airways</td>\n",
       "      <td>11717.565287</td>\n",
       "      <td>15149</td>\n",
       "      <td>5608</td>\n",
       "    </tr>\n",
       "    <tr>\n",
       "      <th>24</th>\n",
       "      <td>Kolkata</td>\n",
       "      <td>Banglore</td>\n",
       "      <td>SpiceJet</td>\n",
       "      <td>4642.883333</td>\n",
       "      <td>12287</td>\n",
       "      <td>3815</td>\n",
       "    </tr>\n",
       "    <tr>\n",
       "      <th>25</th>\n",
       "      <td>Kolkata</td>\n",
       "      <td>Banglore</td>\n",
       "      <td>Vistara</td>\n",
       "      <td>9257.683060</td>\n",
       "      <td>16932</td>\n",
       "      <td>7770</td>\n",
       "    </tr>\n",
       "    <tr>\n",
       "      <th>26</th>\n",
       "      <td>Mumbai</td>\n",
       "      <td>Hyderabad</td>\n",
       "      <td>Air India</td>\n",
       "      <td>6260.051471</td>\n",
       "      <td>25139</td>\n",
       "      <td>2050</td>\n",
       "    </tr>\n",
       "    <tr>\n",
       "      <th>27</th>\n",
       "      <td>Mumbai</td>\n",
       "      <td>Hyderabad</td>\n",
       "      <td>IndiGo</td>\n",
       "      <td>3659.816327</td>\n",
       "      <td>17501</td>\n",
       "      <td>2227</td>\n",
       "    </tr>\n",
       "    <tr>\n",
       "      <th>28</th>\n",
       "      <td>Mumbai</td>\n",
       "      <td>Hyderabad</td>\n",
       "      <td>Jet Airways</td>\n",
       "      <td>6227.949772</td>\n",
       "      <td>24210</td>\n",
       "      <td>1840</td>\n",
       "    </tr>\n",
       "    <tr>\n",
       "      <th>29</th>\n",
       "      <td>Mumbai</td>\n",
       "      <td>Hyderabad</td>\n",
       "      <td>SpiceJet</td>\n",
       "      <td>2511.106557</td>\n",
       "      <td>13552</td>\n",
       "      <td>1759</td>\n",
       "    </tr>\n",
       "    <tr>\n",
       "      <th>30</th>\n",
       "      <td>Mumbai</td>\n",
       "      <td>Hyderabad</td>\n",
       "      <td>Trujet</td>\n",
       "      <td>4140.000000</td>\n",
       "      <td>4140</td>\n",
       "      <td>4140</td>\n",
       "    </tr>\n",
       "    <tr>\n",
       "      <th>31</th>\n",
       "      <td>Mumbai</td>\n",
       "      <td>Hyderabad</td>\n",
       "      <td>Vistara</td>\n",
       "      <td>12326.521739</td>\n",
       "      <td>12395</td>\n",
       "      <td>12080</td>\n",
       "    </tr>\n",
       "  </tbody>\n",
       "</table>\n",
       "</div>"
      ],
      "text/plain": [
       "      Source Destination            Airline          mean    max    min\n",
       "0   Banglore       Delhi           Air Asia   4574.280899  10873   3383\n",
       "1   Banglore       Delhi          Air India   9238.198795  31783   3758\n",
       "2   Banglore       Delhi              GoAir   4948.881720  18558   3398\n",
       "3   Banglore       Delhi             IndiGo   5274.112811  22153   3359\n",
       "4   Banglore       Delhi        Jet Airways  11283.462121  79512   3359\n",
       "5   Banglore       Delhi           SpiceJet   4550.292818  23267   3257\n",
       "6   Banglore       Delhi            Vistara   6211.037433  21730   4353\n",
       "7    Chennai     Kolkata          Air India   5895.640000  19630   3145\n",
       "8    Chennai     Kolkata             IndiGo   4538.766304   8580   3384\n",
       "9    Chennai     Kolkata           SpiceJet   3993.523438   7718   3332\n",
       "10   Chennai     Kolkata            Vistara   7528.500000  11982   3687\n",
       "11     Delhi      Cochin           Air Asia   7804.175000  13774   6151\n",
       "12     Delhi      Cochin          Air India  10000.068273  28322   4487\n",
       "13     Delhi      Cochin              GoAir   6587.157895  22794   3876\n",
       "14     Delhi      Cochin             IndiGo   7203.933333  16162   4729\n",
       "15     Delhi      Cochin        Jet Airways  12688.871537  52285   4256\n",
       "16     Delhi      Cochin  Multiple carriers  10908.228288  36983   5797\n",
       "17     Delhi      Cochin           SpiceJet   5916.356322  11726   4098\n",
       "18     Delhi      Cochin            Vistara   6465.644444  12411   4851\n",
       "19   Kolkata    Banglore           Air Asia   5012.320000  11323   3782\n",
       "20   Kolkata    Banglore          Air India  10357.324219  31945   4145\n",
       "21   Kolkata    Banglore              GoAir   7047.000000  10586   3514\n",
       "22   Kolkata    Banglore             IndiGo   5075.235955  12198   3480\n",
       "23   Kolkata    Banglore        Jet Airways  11717.565287  15149   5608\n",
       "24   Kolkata    Banglore           SpiceJet   4642.883333  12287   3815\n",
       "25   Kolkata    Banglore            Vistara   9257.683060  16932   7770\n",
       "26    Mumbai   Hyderabad          Air India   6260.051471  25139   2050\n",
       "27    Mumbai   Hyderabad             IndiGo   3659.816327  17501   2227\n",
       "28    Mumbai   Hyderabad        Jet Airways   6227.949772  24210   1840\n",
       "29    Mumbai   Hyderabad           SpiceJet   2511.106557  13552   1759\n",
       "30    Mumbai   Hyderabad             Trujet   4140.000000   4140   4140\n",
       "31    Mumbai   Hyderabad            Vistara  12326.521739  12395  12080"
      ]
     },
     "execution_count": 205,
     "metadata": {},
     "output_type": "execute_result"
    }
   ],
   "source": [
    "k=df.groupby([\"Source\",\"Destination\",\"Airline\"])[\"Price\"].agg([\"mean\",\"max\",\"min\"])\n",
    "k.reset_index(inplace=True)\n",
    "k"
   ]
  },
  {
   "cell_type": "code",
   "execution_count": 207,
   "id": "b2cc0d3c",
   "metadata": {},
   "outputs": [
    {
     "data": {
      "text/html": [
       "<div>\n",
       "<style scoped>\n",
       "    .dataframe tbody tr th:only-of-type {\n",
       "        vertical-align: middle;\n",
       "    }\n",
       "\n",
       "    .dataframe tbody tr th {\n",
       "        vertical-align: top;\n",
       "    }\n",
       "\n",
       "    .dataframe thead th {\n",
       "        text-align: right;\n",
       "    }\n",
       "</style>\n",
       "<table border=\"1\" class=\"dataframe\">\n",
       "  <thead>\n",
       "    <tr style=\"text-align: right;\">\n",
       "      <th></th>\n",
       "      <th></th>\n",
       "      <th>Airline</th>\n",
       "      <th>mean</th>\n",
       "      <th>max</th>\n",
       "      <th>min</th>\n",
       "    </tr>\n",
       "    <tr>\n",
       "      <th>Source</th>\n",
       "      <th>Destination</th>\n",
       "      <th></th>\n",
       "      <th></th>\n",
       "      <th></th>\n",
       "      <th></th>\n",
       "    </tr>\n",
       "  </thead>\n",
       "  <tbody>\n",
       "    <tr>\n",
       "      <th rowspan=\"7\" valign=\"top\">Banglore</th>\n",
       "      <th>Delhi</th>\n",
       "      <td>Air Asia</td>\n",
       "      <td>4574.280899</td>\n",
       "      <td>10873</td>\n",
       "      <td>3383</td>\n",
       "    </tr>\n",
       "    <tr>\n",
       "      <th>Delhi</th>\n",
       "      <td>Air India</td>\n",
       "      <td>9238.198795</td>\n",
       "      <td>31783</td>\n",
       "      <td>3758</td>\n",
       "    </tr>\n",
       "    <tr>\n",
       "      <th>Delhi</th>\n",
       "      <td>GoAir</td>\n",
       "      <td>4948.881720</td>\n",
       "      <td>18558</td>\n",
       "      <td>3398</td>\n",
       "    </tr>\n",
       "    <tr>\n",
       "      <th>Delhi</th>\n",
       "      <td>IndiGo</td>\n",
       "      <td>5274.112811</td>\n",
       "      <td>22153</td>\n",
       "      <td>3359</td>\n",
       "    </tr>\n",
       "    <tr>\n",
       "      <th>Delhi</th>\n",
       "      <td>Jet Airways</td>\n",
       "      <td>11283.462121</td>\n",
       "      <td>79512</td>\n",
       "      <td>3359</td>\n",
       "    </tr>\n",
       "    <tr>\n",
       "      <th>Delhi</th>\n",
       "      <td>SpiceJet</td>\n",
       "      <td>4550.292818</td>\n",
       "      <td>23267</td>\n",
       "      <td>3257</td>\n",
       "    </tr>\n",
       "    <tr>\n",
       "      <th>Delhi</th>\n",
       "      <td>Vistara</td>\n",
       "      <td>6211.037433</td>\n",
       "      <td>21730</td>\n",
       "      <td>4353</td>\n",
       "    </tr>\n",
       "    <tr>\n",
       "      <th rowspan=\"4\" valign=\"top\">Chennai</th>\n",
       "      <th>Kolkata</th>\n",
       "      <td>Air India</td>\n",
       "      <td>5895.640000</td>\n",
       "      <td>19630</td>\n",
       "      <td>3145</td>\n",
       "    </tr>\n",
       "    <tr>\n",
       "      <th>Kolkata</th>\n",
       "      <td>IndiGo</td>\n",
       "      <td>4538.766304</td>\n",
       "      <td>8580</td>\n",
       "      <td>3384</td>\n",
       "    </tr>\n",
       "    <tr>\n",
       "      <th>Kolkata</th>\n",
       "      <td>SpiceJet</td>\n",
       "      <td>3993.523438</td>\n",
       "      <td>7718</td>\n",
       "      <td>3332</td>\n",
       "    </tr>\n",
       "    <tr>\n",
       "      <th>Kolkata</th>\n",
       "      <td>Vistara</td>\n",
       "      <td>7528.500000</td>\n",
       "      <td>11982</td>\n",
       "      <td>3687</td>\n",
       "    </tr>\n",
       "    <tr>\n",
       "      <th rowspan=\"8\" valign=\"top\">Delhi</th>\n",
       "      <th>Cochin</th>\n",
       "      <td>Air Asia</td>\n",
       "      <td>7804.175000</td>\n",
       "      <td>13774</td>\n",
       "      <td>6151</td>\n",
       "    </tr>\n",
       "    <tr>\n",
       "      <th>Cochin</th>\n",
       "      <td>Air India</td>\n",
       "      <td>10000.068273</td>\n",
       "      <td>28322</td>\n",
       "      <td>4487</td>\n",
       "    </tr>\n",
       "    <tr>\n",
       "      <th>Cochin</th>\n",
       "      <td>GoAir</td>\n",
       "      <td>6587.157895</td>\n",
       "      <td>22794</td>\n",
       "      <td>3876</td>\n",
       "    </tr>\n",
       "    <tr>\n",
       "      <th>Cochin</th>\n",
       "      <td>IndiGo</td>\n",
       "      <td>7203.933333</td>\n",
       "      <td>16162</td>\n",
       "      <td>4729</td>\n",
       "    </tr>\n",
       "    <tr>\n",
       "      <th>Cochin</th>\n",
       "      <td>Jet Airways</td>\n",
       "      <td>12688.871537</td>\n",
       "      <td>52285</td>\n",
       "      <td>4256</td>\n",
       "    </tr>\n",
       "    <tr>\n",
       "      <th>Cochin</th>\n",
       "      <td>Multiple carriers</td>\n",
       "      <td>10908.228288</td>\n",
       "      <td>36983</td>\n",
       "      <td>5797</td>\n",
       "    </tr>\n",
       "    <tr>\n",
       "      <th>Cochin</th>\n",
       "      <td>SpiceJet</td>\n",
       "      <td>5916.356322</td>\n",
       "      <td>11726</td>\n",
       "      <td>4098</td>\n",
       "    </tr>\n",
       "    <tr>\n",
       "      <th>Cochin</th>\n",
       "      <td>Vistara</td>\n",
       "      <td>6465.644444</td>\n",
       "      <td>12411</td>\n",
       "      <td>4851</td>\n",
       "    </tr>\n",
       "    <tr>\n",
       "      <th rowspan=\"7\" valign=\"top\">Kolkata</th>\n",
       "      <th>Banglore</th>\n",
       "      <td>Air Asia</td>\n",
       "      <td>5012.320000</td>\n",
       "      <td>11323</td>\n",
       "      <td>3782</td>\n",
       "    </tr>\n",
       "    <tr>\n",
       "      <th>Banglore</th>\n",
       "      <td>Air India</td>\n",
       "      <td>10357.324219</td>\n",
       "      <td>31945</td>\n",
       "      <td>4145</td>\n",
       "    </tr>\n",
       "    <tr>\n",
       "      <th>Banglore</th>\n",
       "      <td>GoAir</td>\n",
       "      <td>7047.000000</td>\n",
       "      <td>10586</td>\n",
       "      <td>3514</td>\n",
       "    </tr>\n",
       "    <tr>\n",
       "      <th>Banglore</th>\n",
       "      <td>IndiGo</td>\n",
       "      <td>5075.235955</td>\n",
       "      <td>12198</td>\n",
       "      <td>3480</td>\n",
       "    </tr>\n",
       "    <tr>\n",
       "      <th>Banglore</th>\n",
       "      <td>Jet Airways</td>\n",
       "      <td>11717.565287</td>\n",
       "      <td>15149</td>\n",
       "      <td>5608</td>\n",
       "    </tr>\n",
       "    <tr>\n",
       "      <th>Banglore</th>\n",
       "      <td>SpiceJet</td>\n",
       "      <td>4642.883333</td>\n",
       "      <td>12287</td>\n",
       "      <td>3815</td>\n",
       "    </tr>\n",
       "    <tr>\n",
       "      <th>Banglore</th>\n",
       "      <td>Vistara</td>\n",
       "      <td>9257.683060</td>\n",
       "      <td>16932</td>\n",
       "      <td>7770</td>\n",
       "    </tr>\n",
       "    <tr>\n",
       "      <th rowspan=\"6\" valign=\"top\">Mumbai</th>\n",
       "      <th>Hyderabad</th>\n",
       "      <td>Air India</td>\n",
       "      <td>6260.051471</td>\n",
       "      <td>25139</td>\n",
       "      <td>2050</td>\n",
       "    </tr>\n",
       "    <tr>\n",
       "      <th>Hyderabad</th>\n",
       "      <td>IndiGo</td>\n",
       "      <td>3659.816327</td>\n",
       "      <td>17501</td>\n",
       "      <td>2227</td>\n",
       "    </tr>\n",
       "    <tr>\n",
       "      <th>Hyderabad</th>\n",
       "      <td>Jet Airways</td>\n",
       "      <td>6227.949772</td>\n",
       "      <td>24210</td>\n",
       "      <td>1840</td>\n",
       "    </tr>\n",
       "    <tr>\n",
       "      <th>Hyderabad</th>\n",
       "      <td>SpiceJet</td>\n",
       "      <td>2511.106557</td>\n",
       "      <td>13552</td>\n",
       "      <td>1759</td>\n",
       "    </tr>\n",
       "    <tr>\n",
       "      <th>Hyderabad</th>\n",
       "      <td>Trujet</td>\n",
       "      <td>4140.000000</td>\n",
       "      <td>4140</td>\n",
       "      <td>4140</td>\n",
       "    </tr>\n",
       "    <tr>\n",
       "      <th>Hyderabad</th>\n",
       "      <td>Vistara</td>\n",
       "      <td>12326.521739</td>\n",
       "      <td>12395</td>\n",
       "      <td>12080</td>\n",
       "    </tr>\n",
       "  </tbody>\n",
       "</table>\n",
       "</div>"
      ],
      "text/plain": [
       "                                Airline          mean    max    min\n",
       "Source   Destination                                               \n",
       "Banglore Delhi                 Air Asia   4574.280899  10873   3383\n",
       "         Delhi                Air India   9238.198795  31783   3758\n",
       "         Delhi                    GoAir   4948.881720  18558   3398\n",
       "         Delhi                   IndiGo   5274.112811  22153   3359\n",
       "         Delhi              Jet Airways  11283.462121  79512   3359\n",
       "         Delhi                 SpiceJet   4550.292818  23267   3257\n",
       "         Delhi                  Vistara   6211.037433  21730   4353\n",
       "Chennai  Kolkata              Air India   5895.640000  19630   3145\n",
       "         Kolkata                 IndiGo   4538.766304   8580   3384\n",
       "         Kolkata               SpiceJet   3993.523438   7718   3332\n",
       "         Kolkata                Vistara   7528.500000  11982   3687\n",
       "Delhi    Cochin                Air Asia   7804.175000  13774   6151\n",
       "         Cochin               Air India  10000.068273  28322   4487\n",
       "         Cochin                   GoAir   6587.157895  22794   3876\n",
       "         Cochin                  IndiGo   7203.933333  16162   4729\n",
       "         Cochin             Jet Airways  12688.871537  52285   4256\n",
       "         Cochin       Multiple carriers  10908.228288  36983   5797\n",
       "         Cochin                SpiceJet   5916.356322  11726   4098\n",
       "         Cochin                 Vistara   6465.644444  12411   4851\n",
       "Kolkata  Banglore              Air Asia   5012.320000  11323   3782\n",
       "         Banglore             Air India  10357.324219  31945   4145\n",
       "         Banglore                 GoAir   7047.000000  10586   3514\n",
       "         Banglore                IndiGo   5075.235955  12198   3480\n",
       "         Banglore           Jet Airways  11717.565287  15149   5608\n",
       "         Banglore              SpiceJet   4642.883333  12287   3815\n",
       "         Banglore               Vistara   9257.683060  16932   7770\n",
       "Mumbai   Hyderabad            Air India   6260.051471  25139   2050\n",
       "         Hyderabad               IndiGo   3659.816327  17501   2227\n",
       "         Hyderabad          Jet Airways   6227.949772  24210   1840\n",
       "         Hyderabad             SpiceJet   2511.106557  13552   1759\n",
       "         Hyderabad               Trujet   4140.000000   4140   4140\n",
       "         Hyderabad              Vistara  12326.521739  12395  12080"
      ]
     },
     "execution_count": 207,
     "metadata": {},
     "output_type": "execute_result"
    }
   ],
   "source": [
    "k.set_index([\"Source\",\"Destination\"])"
   ]
  },
  {
   "cell_type": "code",
   "execution_count": 209,
   "id": "5d7c28c3",
   "metadata": {},
   "outputs": [
    {
     "data": {
      "text/html": [
       "<div>\n",
       "<style scoped>\n",
       "    .dataframe tbody tr th:only-of-type {\n",
       "        vertical-align: middle;\n",
       "    }\n",
       "\n",
       "    .dataframe tbody tr th {\n",
       "        vertical-align: top;\n",
       "    }\n",
       "\n",
       "    .dataframe thead th {\n",
       "        text-align: right;\n",
       "    }\n",
       "</style>\n",
       "<table border=\"1\" class=\"dataframe\">\n",
       "  <thead>\n",
       "    <tr style=\"text-align: right;\">\n",
       "      <th></th>\n",
       "      <th>Airline</th>\n",
       "      <th>Source</th>\n",
       "      <th>Destination</th>\n",
       "      <th>Route</th>\n",
       "      <th>Duration</th>\n",
       "      <th>Total_Stops</th>\n",
       "      <th>Additional_Info</th>\n",
       "      <th>Price</th>\n",
       "      <th>day_of_journey</th>\n",
       "      <th>month_of_journey</th>\n",
       "      <th>Dep_hour</th>\n",
       "      <th>Dep_min</th>\n",
       "      <th>arrival_hour</th>\n",
       "      <th>arrival_min</th>\n",
       "    </tr>\n",
       "  </thead>\n",
       "  <tbody>\n",
       "    <tr>\n",
       "      <th>0</th>\n",
       "      <td>IndiGo</td>\n",
       "      <td>Banglore</td>\n",
       "      <td>Delhi</td>\n",
       "      <td>BLR → DEL</td>\n",
       "      <td>170.0</td>\n",
       "      <td>0</td>\n",
       "      <td>No info</td>\n",
       "      <td>3897</td>\n",
       "      <td>24</td>\n",
       "      <td>3</td>\n",
       "      <td>22</td>\n",
       "      <td>20</td>\n",
       "      <td>1</td>\n",
       "      <td>10</td>\n",
       "    </tr>\n",
       "    <tr>\n",
       "      <th>1</th>\n",
       "      <td>Air India</td>\n",
       "      <td>Kolkata</td>\n",
       "      <td>Banglore</td>\n",
       "      <td>CCU → IXR → BBI → BLR</td>\n",
       "      <td>445.0</td>\n",
       "      <td>2</td>\n",
       "      <td>No info</td>\n",
       "      <td>7662</td>\n",
       "      <td>1</td>\n",
       "      <td>5</td>\n",
       "      <td>5</td>\n",
       "      <td>50</td>\n",
       "      <td>13</td>\n",
       "      <td>15</td>\n",
       "    </tr>\n",
       "    <tr>\n",
       "      <th>2</th>\n",
       "      <td>Jet Airways</td>\n",
       "      <td>Delhi</td>\n",
       "      <td>Cochin</td>\n",
       "      <td>DEL → LKO → BOM → COK</td>\n",
       "      <td>1140.0</td>\n",
       "      <td>2</td>\n",
       "      <td>No info</td>\n",
       "      <td>13882</td>\n",
       "      <td>9</td>\n",
       "      <td>6</td>\n",
       "      <td>9</td>\n",
       "      <td>25</td>\n",
       "      <td>4</td>\n",
       "      <td>25</td>\n",
       "    </tr>\n",
       "    <tr>\n",
       "      <th>3</th>\n",
       "      <td>IndiGo</td>\n",
       "      <td>Kolkata</td>\n",
       "      <td>Banglore</td>\n",
       "      <td>CCU → NAG → BLR</td>\n",
       "      <td>325.0</td>\n",
       "      <td>1</td>\n",
       "      <td>No info</td>\n",
       "      <td>6218</td>\n",
       "      <td>12</td>\n",
       "      <td>5</td>\n",
       "      <td>18</td>\n",
       "      <td>5</td>\n",
       "      <td>23</td>\n",
       "      <td>30</td>\n",
       "    </tr>\n",
       "    <tr>\n",
       "      <th>4</th>\n",
       "      <td>IndiGo</td>\n",
       "      <td>Banglore</td>\n",
       "      <td>Delhi</td>\n",
       "      <td>BLR → NAG → DEL</td>\n",
       "      <td>285.0</td>\n",
       "      <td>1</td>\n",
       "      <td>No info</td>\n",
       "      <td>13302</td>\n",
       "      <td>1</td>\n",
       "      <td>3</td>\n",
       "      <td>16</td>\n",
       "      <td>50</td>\n",
       "      <td>21</td>\n",
       "      <td>35</td>\n",
       "    </tr>\n",
       "    <tr>\n",
       "      <th>...</th>\n",
       "      <td>...</td>\n",
       "      <td>...</td>\n",
       "      <td>...</td>\n",
       "      <td>...</td>\n",
       "      <td>...</td>\n",
       "      <td>...</td>\n",
       "      <td>...</td>\n",
       "      <td>...</td>\n",
       "      <td>...</td>\n",
       "      <td>...</td>\n",
       "      <td>...</td>\n",
       "      <td>...</td>\n",
       "      <td>...</td>\n",
       "      <td>...</td>\n",
       "    </tr>\n",
       "    <tr>\n",
       "      <th>10678</th>\n",
       "      <td>Air Asia</td>\n",
       "      <td>Kolkata</td>\n",
       "      <td>Banglore</td>\n",
       "      <td>CCU → BLR</td>\n",
       "      <td>150.0</td>\n",
       "      <td>0</td>\n",
       "      <td>No info</td>\n",
       "      <td>4107</td>\n",
       "      <td>9</td>\n",
       "      <td>4</td>\n",
       "      <td>19</td>\n",
       "      <td>55</td>\n",
       "      <td>22</td>\n",
       "      <td>25</td>\n",
       "    </tr>\n",
       "    <tr>\n",
       "      <th>10679</th>\n",
       "      <td>Air India</td>\n",
       "      <td>Kolkata</td>\n",
       "      <td>Banglore</td>\n",
       "      <td>CCU → BLR</td>\n",
       "      <td>155.0</td>\n",
       "      <td>0</td>\n",
       "      <td>No info</td>\n",
       "      <td>4145</td>\n",
       "      <td>27</td>\n",
       "      <td>4</td>\n",
       "      <td>20</td>\n",
       "      <td>45</td>\n",
       "      <td>23</td>\n",
       "      <td>20</td>\n",
       "    </tr>\n",
       "    <tr>\n",
       "      <th>10680</th>\n",
       "      <td>Jet Airways</td>\n",
       "      <td>Banglore</td>\n",
       "      <td>Delhi</td>\n",
       "      <td>BLR → DEL</td>\n",
       "      <td>180.0</td>\n",
       "      <td>0</td>\n",
       "      <td>No info</td>\n",
       "      <td>7229</td>\n",
       "      <td>27</td>\n",
       "      <td>4</td>\n",
       "      <td>8</td>\n",
       "      <td>20</td>\n",
       "      <td>11</td>\n",
       "      <td>20</td>\n",
       "    </tr>\n",
       "    <tr>\n",
       "      <th>10681</th>\n",
       "      <td>Vistara</td>\n",
       "      <td>Banglore</td>\n",
       "      <td>Delhi</td>\n",
       "      <td>BLR → DEL</td>\n",
       "      <td>160.0</td>\n",
       "      <td>0</td>\n",
       "      <td>No info</td>\n",
       "      <td>12648</td>\n",
       "      <td>1</td>\n",
       "      <td>3</td>\n",
       "      <td>11</td>\n",
       "      <td>30</td>\n",
       "      <td>14</td>\n",
       "      <td>10</td>\n",
       "    </tr>\n",
       "    <tr>\n",
       "      <th>10682</th>\n",
       "      <td>Air India</td>\n",
       "      <td>Delhi</td>\n",
       "      <td>Cochin</td>\n",
       "      <td>DEL → GOI → BOM → COK</td>\n",
       "      <td>500.0</td>\n",
       "      <td>2</td>\n",
       "      <td>No info</td>\n",
       "      <td>11753</td>\n",
       "      <td>9</td>\n",
       "      <td>5</td>\n",
       "      <td>10</td>\n",
       "      <td>55</td>\n",
       "      <td>19</td>\n",
       "      <td>15</td>\n",
       "    </tr>\n",
       "  </tbody>\n",
       "</table>\n",
       "<p>10683 rows × 14 columns</p>\n",
       "</div>"
      ],
      "text/plain": [
       "           Airline    Source Destination                  Route  Duration  \\\n",
       "0           IndiGo  Banglore       Delhi              BLR → DEL     170.0   \n",
       "1        Air India   Kolkata    Banglore  CCU → IXR → BBI → BLR     445.0   \n",
       "2      Jet Airways     Delhi      Cochin  DEL → LKO → BOM → COK    1140.0   \n",
       "3           IndiGo   Kolkata    Banglore        CCU → NAG → BLR     325.0   \n",
       "4           IndiGo  Banglore       Delhi        BLR → NAG → DEL     285.0   \n",
       "...            ...       ...         ...                    ...       ...   \n",
       "10678     Air Asia   Kolkata    Banglore              CCU → BLR     150.0   \n",
       "10679    Air India   Kolkata    Banglore              CCU → BLR     155.0   \n",
       "10680  Jet Airways  Banglore       Delhi              BLR → DEL     180.0   \n",
       "10681      Vistara  Banglore       Delhi              BLR → DEL     160.0   \n",
       "10682    Air India     Delhi      Cochin  DEL → GOI → BOM → COK     500.0   \n",
       "\n",
       "       Total_Stops Additional_Info  Price  day_of_journey  month_of_journey  \\\n",
       "0                0         No info   3897              24                 3   \n",
       "1                2         No info   7662               1                 5   \n",
       "2                2         No info  13882               9                 6   \n",
       "3                1         No info   6218              12                 5   \n",
       "4                1         No info  13302               1                 3   \n",
       "...            ...             ...    ...             ...               ...   \n",
       "10678            0         No info   4107               9                 4   \n",
       "10679            0         No info   4145              27                 4   \n",
       "10680            0         No info   7229              27                 4   \n",
       "10681            0         No info  12648               1                 3   \n",
       "10682            2         No info  11753               9                 5   \n",
       "\n",
       "       Dep_hour  Dep_min  arrival_hour  arrival_min  \n",
       "0            22       20             1           10  \n",
       "1             5       50            13           15  \n",
       "2             9       25             4           25  \n",
       "3            18        5            23           30  \n",
       "4            16       50            21           35  \n",
       "...         ...      ...           ...          ...  \n",
       "10678        19       55            22           25  \n",
       "10679        20       45            23           20  \n",
       "10680         8       20            11           20  \n",
       "10681        11       30            14           10  \n",
       "10682        10       55            19           15  \n",
       "\n",
       "[10683 rows x 14 columns]"
      ]
     },
     "execution_count": 209,
     "metadata": {},
     "output_type": "execute_result"
    }
   ],
   "source": [
    "df"
   ]
  },
  {
   "cell_type": "code",
   "execution_count": 99,
   "id": "f936989a",
   "metadata": {},
   "outputs": [],
   "source": [
    "#b_d[b_d[\"Airline\"]==\"IndiGo\"]"
   ]
  },
  {
   "cell_type": "code",
   "execution_count": 100,
   "id": "2d90b0d1",
   "metadata": {},
   "outputs": [],
   "source": [
    "#b_d=df[(df[\"Source\"]==\"Banglore\")&(df[\"Destination\"]==\"Delhi\")]\n",
    "##b_d_i=b_d[b_d[\"Airline\"]==\"Air Asia\"]\n",
    "#b_d_i[b_d_i[\"Price\"]==b_d_i[\"Price\"].min()]"
   ]
  },
  {
   "cell_type": "markdown",
   "id": "784b24ad",
   "metadata": {},
   "source": []
  },
  {
   "cell_type": "markdown",
   "id": "d0a15d1f",
   "metadata": {},
   "source": [
    "# Variation of Flight Price from Source"
   ]
  },
  {
   "cell_type": "code",
   "execution_count": 211,
   "id": "c38c70a3",
   "metadata": {},
   "outputs": [
    {
     "data": {
      "text/html": [
       "<div>\n",
       "<style scoped>\n",
       "    .dataframe tbody tr th:only-of-type {\n",
       "        vertical-align: middle;\n",
       "    }\n",
       "\n",
       "    .dataframe tbody tr th {\n",
       "        vertical-align: top;\n",
       "    }\n",
       "\n",
       "    .dataframe thead th {\n",
       "        text-align: right;\n",
       "    }\n",
       "</style>\n",
       "<table border=\"1\" class=\"dataframe\">\n",
       "  <thead>\n",
       "    <tr style=\"text-align: right;\">\n",
       "      <th></th>\n",
       "      <th></th>\n",
       "      <th>mean</th>\n",
       "      <th>sum</th>\n",
       "    </tr>\n",
       "    <tr>\n",
       "      <th>Source</th>\n",
       "      <th>Destination</th>\n",
       "      <th></th>\n",
       "      <th></th>\n",
       "    </tr>\n",
       "  </thead>\n",
       "  <tbody>\n",
       "    <tr>\n",
       "      <th>Banglore</th>\n",
       "      <th>Delhi</th>\n",
       "      <td>8017.464269</td>\n",
       "      <td>17614369</td>\n",
       "    </tr>\n",
       "    <tr>\n",
       "      <th>Chennai</th>\n",
       "      <th>Kolkata</th>\n",
       "      <td>4789.892388</td>\n",
       "      <td>1824949</td>\n",
       "    </tr>\n",
       "    <tr>\n",
       "      <th>Delhi</th>\n",
       "      <th>Cochin</th>\n",
       "      <td>10539.439057</td>\n",
       "      <td>47817435</td>\n",
       "    </tr>\n",
       "    <tr>\n",
       "      <th>Kolkata</th>\n",
       "      <th>Banglore</th>\n",
       "      <td>9158.389411</td>\n",
       "      <td>26293736</td>\n",
       "    </tr>\n",
       "    <tr>\n",
       "      <th>Mumbai</th>\n",
       "      <th>Hyderabad</th>\n",
       "      <td>5059.708752</td>\n",
       "      <td>3526617</td>\n",
       "    </tr>\n",
       "  </tbody>\n",
       "</table>\n",
       "</div>"
      ],
      "text/plain": [
       "                              mean       sum\n",
       "Source   Destination                        \n",
       "Banglore Delhi         8017.464269  17614369\n",
       "Chennai  Kolkata       4789.892388   1824949\n",
       "Delhi    Cochin       10539.439057  47817435\n",
       "Kolkata  Banglore      9158.389411  26293736\n",
       "Mumbai   Hyderabad     5059.708752   3526617"
      ]
     },
     "execution_count": 211,
     "metadata": {},
     "output_type": "execute_result"
    }
   ],
   "source": [
    "df.groupby(['Source','Destination'])['Price'].agg(['mean','sum'])"
   ]
  },
  {
   "cell_type": "code",
   "execution_count": 213,
   "id": "ba2c540a",
   "metadata": {},
   "outputs": [
    {
     "data": {
      "image/png": "[encoded data removed]",
      "text/plain": [
       "<Figure size 700x600 with 1 Axes>"
      ]
     },
     "metadata": {},
     "output_type": "display_data"
    }
   ],
   "source": [
    "\n",
    "plt.figure(figsize=(7,6))\n",
    "sns.boxplot(x='Source',y='Price',hue='Destination',data=df)\n",
    "plt.xticks(rotation=90,size=15)\n",
    "plt.title('Variation of Prices By Source')\n",
    "plt.show()"
   ]
  },
  {
   "cell_type": "markdown",
   "id": "1e67f613",
   "metadata": {},
   "source": [
    "## The expensive flight is taken off from bangalore\n",
    "## The flight which taken from chennai is less\n",
    "\n"
   ]
  },
  {
   "cell_type": "markdown",
   "id": "b0314246",
   "metadata": {},
   "source": [
    "# To Find out peak day of travelling  since date column had so much unique values so we extracted day and month from it"
   ]
  },
  {
   "cell_type": "code",
   "execution_count": 215,
   "id": "4e8acf2d",
   "metadata": {},
   "outputs": [
    {
     "data": {
      "text/html": [
       "<div>\n",
       "<style scoped>\n",
       "    .dataframe tbody tr th:only-of-type {\n",
       "        vertical-align: middle;\n",
       "    }\n",
       "\n",
       "    .dataframe tbody tr th {\n",
       "        vertical-align: top;\n",
       "    }\n",
       "\n",
       "    .dataframe thead th {\n",
       "        text-align: right;\n",
       "    }\n",
       "</style>\n",
       "<table border=\"1\" class=\"dataframe\">\n",
       "  <thead>\n",
       "    <tr style=\"text-align: right;\">\n",
       "      <th></th>\n",
       "      <th>Airline</th>\n",
       "      <th>Source</th>\n",
       "      <th>Destination</th>\n",
       "      <th>Route</th>\n",
       "      <th>Duration</th>\n",
       "      <th>Total_Stops</th>\n",
       "      <th>Additional_Info</th>\n",
       "      <th>Price</th>\n",
       "      <th>day_of_journey</th>\n",
       "      <th>month_of_journey</th>\n",
       "      <th>Dep_hour</th>\n",
       "      <th>Dep_min</th>\n",
       "      <th>arrival_hour</th>\n",
       "      <th>arrival_min</th>\n",
       "    </tr>\n",
       "  </thead>\n",
       "  <tbody>\n",
       "    <tr>\n",
       "      <th>0</th>\n",
       "      <td>IndiGo</td>\n",
       "      <td>Banglore</td>\n",
       "      <td>Delhi</td>\n",
       "      <td>BLR → DEL</td>\n",
       "      <td>170.0</td>\n",
       "      <td>0</td>\n",
       "      <td>No info</td>\n",
       "      <td>3897</td>\n",
       "      <td>24</td>\n",
       "      <td>3</td>\n",
       "      <td>22</td>\n",
       "      <td>20</td>\n",
       "      <td>1</td>\n",
       "      <td>10</td>\n",
       "    </tr>\n",
       "    <tr>\n",
       "      <th>1</th>\n",
       "      <td>Air India</td>\n",
       "      <td>Kolkata</td>\n",
       "      <td>Banglore</td>\n",
       "      <td>CCU → IXR → BBI → BLR</td>\n",
       "      <td>445.0</td>\n",
       "      <td>2</td>\n",
       "      <td>No info</td>\n",
       "      <td>7662</td>\n",
       "      <td>1</td>\n",
       "      <td>5</td>\n",
       "      <td>5</td>\n",
       "      <td>50</td>\n",
       "      <td>13</td>\n",
       "      <td>15</td>\n",
       "    </tr>\n",
       "    <tr>\n",
       "      <th>2</th>\n",
       "      <td>Jet Airways</td>\n",
       "      <td>Delhi</td>\n",
       "      <td>Cochin</td>\n",
       "      <td>DEL → LKO → BOM → COK</td>\n",
       "      <td>1140.0</td>\n",
       "      <td>2</td>\n",
       "      <td>No info</td>\n",
       "      <td>13882</td>\n",
       "      <td>9</td>\n",
       "      <td>6</td>\n",
       "      <td>9</td>\n",
       "      <td>25</td>\n",
       "      <td>4</td>\n",
       "      <td>25</td>\n",
       "    </tr>\n",
       "    <tr>\n",
       "      <th>3</th>\n",
       "      <td>IndiGo</td>\n",
       "      <td>Kolkata</td>\n",
       "      <td>Banglore</td>\n",
       "      <td>CCU → NAG → BLR</td>\n",
       "      <td>325.0</td>\n",
       "      <td>1</td>\n",
       "      <td>No info</td>\n",
       "      <td>6218</td>\n",
       "      <td>12</td>\n",
       "      <td>5</td>\n",
       "      <td>18</td>\n",
       "      <td>5</td>\n",
       "      <td>23</td>\n",
       "      <td>30</td>\n",
       "    </tr>\n",
       "    <tr>\n",
       "      <th>4</th>\n",
       "      <td>IndiGo</td>\n",
       "      <td>Banglore</td>\n",
       "      <td>Delhi</td>\n",
       "      <td>BLR → NAG → DEL</td>\n",
       "      <td>285.0</td>\n",
       "      <td>1</td>\n",
       "      <td>No info</td>\n",
       "      <td>13302</td>\n",
       "      <td>1</td>\n",
       "      <td>3</td>\n",
       "      <td>16</td>\n",
       "      <td>50</td>\n",
       "      <td>21</td>\n",
       "      <td>35</td>\n",
       "    </tr>\n",
       "  </tbody>\n",
       "</table>\n",
       "</div>"
      ],
      "text/plain": [
       "       Airline    Source Destination                  Route  Duration  \\\n",
       "0       IndiGo  Banglore       Delhi              BLR → DEL     170.0   \n",
       "1    Air India   Kolkata    Banglore  CCU → IXR → BBI → BLR     445.0   \n",
       "2  Jet Airways     Delhi      Cochin  DEL → LKO → BOM → COK    1140.0   \n",
       "3       IndiGo   Kolkata    Banglore        CCU → NAG → BLR     325.0   \n",
       "4       IndiGo  Banglore       Delhi        BLR → NAG → DEL     285.0   \n",
       "\n",
       "   Total_Stops Additional_Info  Price  day_of_journey  month_of_journey  \\\n",
       "0            0         No info   3897              24                 3   \n",
       "1            2         No info   7662               1                 5   \n",
       "2            2         No info  13882               9                 6   \n",
       "3            1         No info   6218              12                 5   \n",
       "4            1         No info  13302               1                 3   \n",
       "\n",
       "   Dep_hour  Dep_min  arrival_hour  arrival_min  \n",
       "0        22       20             1           10  \n",
       "1         5       50            13           15  \n",
       "2         9       25             4           25  \n",
       "3        18        5            23           30  \n",
       "4        16       50            21           35  "
      ]
     },
     "execution_count": 215,
     "metadata": {},
     "output_type": "execute_result"
    }
   ],
   "source": [
    "df.head()"
   ]
  },
  {
   "cell_type": "markdown",
   "id": "2ec60c1d",
   "metadata": {},
   "source": [
    "# On which day and month flights were available"
   ]
  },
  {
   "cell_type": "code",
   "execution_count": 217,
   "id": "7ccd3eb3",
   "metadata": {},
   "outputs": [
    {
     "data": {
      "text/plain": [
       "array([24,  1,  9, 12, 27, 18,  3, 15,  6, 21], dtype=int32)"
      ]
     },
     "execution_count": 217,
     "metadata": {},
     "output_type": "execute_result"
    }
   ],
   "source": [
    "df['day_of_journey'].unique()"
   ]
  },
  {
   "cell_type": "code",
   "execution_count": 219,
   "id": "53ef0cc8",
   "metadata": {},
   "outputs": [
    {
     "data": {
      "text/plain": [
       "array([3, 5, 6, 4], dtype=int32)"
      ]
     },
     "execution_count": 219,
     "metadata": {},
     "output_type": "execute_result"
    }
   ],
   "source": [
    "df['month_of_journey'].unique()"
   ]
  },
  {
   "cell_type": "markdown",
   "id": "6aa7841b",
   "metadata": {},
   "source": [
    "## There was no flight taken off in month jan,feb,july,aug,oct,nov"
   ]
  },
  {
   "cell_type": "code",
   "execution_count": 221,
   "id": "91877f43",
   "metadata": {},
   "outputs": [
    {
     "data": {
      "text/html": [
       "<div>\n",
       "<style scoped>\n",
       "    .dataframe tbody tr th:only-of-type {\n",
       "        vertical-align: middle;\n",
       "    }\n",
       "\n",
       "    .dataframe tbody tr th {\n",
       "        vertical-align: top;\n",
       "    }\n",
       "\n",
       "    .dataframe thead th {\n",
       "        text-align: right;\n",
       "    }\n",
       "</style>\n",
       "<table border=\"1\" class=\"dataframe\">\n",
       "  <thead>\n",
       "    <tr style=\"text-align: right;\">\n",
       "      <th></th>\n",
       "      <th>Airline</th>\n",
       "      <th>Source</th>\n",
       "      <th>Destination</th>\n",
       "      <th>Route</th>\n",
       "      <th>Duration</th>\n",
       "      <th>Total_Stops</th>\n",
       "      <th>Additional_Info</th>\n",
       "      <th>Price</th>\n",
       "      <th>day_of_journey</th>\n",
       "      <th>month_of_journey</th>\n",
       "      <th>Dep_hour</th>\n",
       "      <th>Dep_min</th>\n",
       "      <th>arrival_hour</th>\n",
       "      <th>arrival_min</th>\n",
       "    </tr>\n",
       "  </thead>\n",
       "  <tbody>\n",
       "    <tr>\n",
       "      <th>0</th>\n",
       "      <td>IndiGo</td>\n",
       "      <td>Banglore</td>\n",
       "      <td>Delhi</td>\n",
       "      <td>BLR → DEL</td>\n",
       "      <td>170.0</td>\n",
       "      <td>0</td>\n",
       "      <td>No info</td>\n",
       "      <td>3897</td>\n",
       "      <td>24</td>\n",
       "      <td>3</td>\n",
       "      <td>22</td>\n",
       "      <td>20</td>\n",
       "      <td>1</td>\n",
       "      <td>10</td>\n",
       "    </tr>\n",
       "    <tr>\n",
       "      <th>1</th>\n",
       "      <td>Air India</td>\n",
       "      <td>Kolkata</td>\n",
       "      <td>Banglore</td>\n",
       "      <td>CCU → IXR → BBI → BLR</td>\n",
       "      <td>445.0</td>\n",
       "      <td>2</td>\n",
       "      <td>No info</td>\n",
       "      <td>7662</td>\n",
       "      <td>1</td>\n",
       "      <td>5</td>\n",
       "      <td>5</td>\n",
       "      <td>50</td>\n",
       "      <td>13</td>\n",
       "      <td>15</td>\n",
       "    </tr>\n",
       "    <tr>\n",
       "      <th>2</th>\n",
       "      <td>Jet Airways</td>\n",
       "      <td>Delhi</td>\n",
       "      <td>Cochin</td>\n",
       "      <td>DEL → LKO → BOM → COK</td>\n",
       "      <td>1140.0</td>\n",
       "      <td>2</td>\n",
       "      <td>No info</td>\n",
       "      <td>13882</td>\n",
       "      <td>9</td>\n",
       "      <td>6</td>\n",
       "      <td>9</td>\n",
       "      <td>25</td>\n",
       "      <td>4</td>\n",
       "      <td>25</td>\n",
       "    </tr>\n",
       "    <tr>\n",
       "      <th>3</th>\n",
       "      <td>IndiGo</td>\n",
       "      <td>Kolkata</td>\n",
       "      <td>Banglore</td>\n",
       "      <td>CCU → NAG → BLR</td>\n",
       "      <td>325.0</td>\n",
       "      <td>1</td>\n",
       "      <td>No info</td>\n",
       "      <td>6218</td>\n",
       "      <td>12</td>\n",
       "      <td>5</td>\n",
       "      <td>18</td>\n",
       "      <td>5</td>\n",
       "      <td>23</td>\n",
       "      <td>30</td>\n",
       "    </tr>\n",
       "    <tr>\n",
       "      <th>4</th>\n",
       "      <td>IndiGo</td>\n",
       "      <td>Banglore</td>\n",
       "      <td>Delhi</td>\n",
       "      <td>BLR → NAG → DEL</td>\n",
       "      <td>285.0</td>\n",
       "      <td>1</td>\n",
       "      <td>No info</td>\n",
       "      <td>13302</td>\n",
       "      <td>1</td>\n",
       "      <td>3</td>\n",
       "      <td>16</td>\n",
       "      <td>50</td>\n",
       "      <td>21</td>\n",
       "      <td>35</td>\n",
       "    </tr>\n",
       "  </tbody>\n",
       "</table>\n",
       "</div>"
      ],
      "text/plain": [
       "       Airline    Source Destination                  Route  Duration  \\\n",
       "0       IndiGo  Banglore       Delhi              BLR → DEL     170.0   \n",
       "1    Air India   Kolkata    Banglore  CCU → IXR → BBI → BLR     445.0   \n",
       "2  Jet Airways     Delhi      Cochin  DEL → LKO → BOM → COK    1140.0   \n",
       "3       IndiGo   Kolkata    Banglore        CCU → NAG → BLR     325.0   \n",
       "4       IndiGo  Banglore       Delhi        BLR → NAG → DEL     285.0   \n",
       "\n",
       "   Total_Stops Additional_Info  Price  day_of_journey  month_of_journey  \\\n",
       "0            0         No info   3897              24                 3   \n",
       "1            2         No info   7662               1                 5   \n",
       "2            2         No info  13882               9                 6   \n",
       "3            1         No info   6218              12                 5   \n",
       "4            1         No info  13302               1                 3   \n",
       "\n",
       "   Dep_hour  Dep_min  arrival_hour  arrival_min  \n",
       "0        22       20             1           10  \n",
       "1         5       50            13           15  \n",
       "2         9       25             4           25  \n",
       "3        18        5            23           30  \n",
       "4        16       50            21           35  "
      ]
     },
     "execution_count": 221,
     "metadata": {},
     "output_type": "execute_result"
    }
   ],
   "source": [
    "df.head()"
   ]
  },
  {
   "cell_type": "markdown",
   "id": "559b8412",
   "metadata": {},
   "source": [
    "#  On which Month have Maximum Flights Take off ?"
   ]
  },
  {
   "cell_type": "code",
   "execution_count": 223,
   "id": "26537cc4",
   "metadata": {},
   "outputs": [
    {
     "data": {
      "text/plain": [
       "month_of_journey\n",
       "5    3466\n",
       "6    3414\n",
       "3    2724\n",
       "4    1079\n",
       "Name: count, dtype: int64"
      ]
     },
     "execution_count": 223,
     "metadata": {},
     "output_type": "execute_result"
    }
   ],
   "source": [
    "df['month_of_journey'].value_counts()"
   ]
  },
  {
   "cell_type": "code",
   "execution_count": 225,
   "id": "b52230b4",
   "metadata": {},
   "outputs": [
    {
     "data": {
      "text/plain": [
       "<Axes: xlabel='month_of_journey', ylabel='count'>"
      ]
     },
     "execution_count": 225,
     "metadata": {},
     "output_type": "execute_result"
    },
    {
     "data": {
      "image/png": "[encoded data removed]",
      "text/plain": [
       "<Figure size 640x480 with 1 Axes>"
      ]
     },
     "metadata": {},
     "output_type": "display_data"
    }
   ],
   "source": [
    "sns.countplot(x=\"month_of_journey\",data=df)"
   ]
  },
  {
   "cell_type": "markdown",
   "id": "008f4456",
   "metadata": {},
   "source": [
    "## June was the peak season\n",
    "## April was the off season"
   ]
  },
  {
   "cell_type": "markdown",
   "id": "24fc4e43",
   "metadata": {},
   "source": [
    "# Peak business month"
   ]
  },
  {
   "cell_type": "code",
   "execution_count": 227,
   "id": "5cfc676c",
   "metadata": {},
   "outputs": [
    {
     "data": {
      "text/html": [
       "<div>\n",
       "<style scoped>\n",
       "    .dataframe tbody tr th:only-of-type {\n",
       "        vertical-align: middle;\n",
       "    }\n",
       "\n",
       "    .dataframe tbody tr th {\n",
       "        vertical-align: top;\n",
       "    }\n",
       "\n",
       "    .dataframe thead th {\n",
       "        text-align: right;\n",
       "    }\n",
       "</style>\n",
       "<table border=\"1\" class=\"dataframe\">\n",
       "  <thead>\n",
       "    <tr style=\"text-align: right;\">\n",
       "      <th></th>\n",
       "      <th>Airline</th>\n",
       "      <th>Source</th>\n",
       "      <th>Destination</th>\n",
       "      <th>Route</th>\n",
       "      <th>Duration</th>\n",
       "      <th>Total_Stops</th>\n",
       "      <th>Additional_Info</th>\n",
       "      <th>Price</th>\n",
       "      <th>day_of_journey</th>\n",
       "      <th>month_of_journey</th>\n",
       "      <th>Dep_hour</th>\n",
       "      <th>Dep_min</th>\n",
       "      <th>arrival_hour</th>\n",
       "      <th>arrival_min</th>\n",
       "    </tr>\n",
       "  </thead>\n",
       "  <tbody>\n",
       "    <tr>\n",
       "      <th>2924</th>\n",
       "      <td>Jet Airways</td>\n",
       "      <td>Banglore</td>\n",
       "      <td>Delhi</td>\n",
       "      <td>BLR → BOM → DEL</td>\n",
       "      <td>340.0</td>\n",
       "      <td>1</td>\n",
       "      <td>Business class</td>\n",
       "      <td>79512</td>\n",
       "      <td>1</td>\n",
       "      <td>3</td>\n",
       "      <td>5</td>\n",
       "      <td>45</td>\n",
       "      <td>11</td>\n",
       "      <td>25</td>\n",
       "    </tr>\n",
       "  </tbody>\n",
       "</table>\n",
       "</div>"
      ],
      "text/plain": [
       "          Airline    Source Destination            Route  Duration  \\\n",
       "2924  Jet Airways  Banglore       Delhi  BLR → BOM → DEL     340.0   \n",
       "\n",
       "      Total_Stops Additional_Info  Price  day_of_journey  month_of_journey  \\\n",
       "2924            1  Business class  79512               1                 3   \n",
       "\n",
       "      Dep_hour  Dep_min  arrival_hour  arrival_min  \n",
       "2924         5       45            11           25  "
      ]
     },
     "execution_count": 227,
     "metadata": {},
     "output_type": "execute_result"
    }
   ],
   "source": [
    "df[df['Price']==df['Price'].max()]"
   ]
  },
  {
   "cell_type": "code",
   "execution_count": 229,
   "id": "5d66dd7a",
   "metadata": {},
   "outputs": [
    {
     "data": {
      "text/plain": [
       "month_of_journey\n",
       "5    31635040\n",
       "6    30141510\n",
       "3    29073812\n",
       "4     6226744\n",
       "Name: Price, dtype: int64"
      ]
     },
     "execution_count": 229,
     "metadata": {},
     "output_type": "execute_result"
    }
   ],
   "source": [
    "df.groupby('month_of_journey')['Price'].sum().sort_values(ascending=False)"
   ]
  },
  {
   "cell_type": "code",
   "execution_count": 231,
   "id": "89df4986",
   "metadata": {},
   "outputs": [
    {
     "data": {
      "image/png": "[encoded data removed]",
      "text/plain": [
       "<Figure size 640x480 with 1 Axes>"
      ]
     },
     "metadata": {},
     "output_type": "display_data"
    }
   ],
   "source": [
    "sns.barplot(x=\"month_of_journey\",y=\"Price\",ci=None,data=df,estimator=sum);"
   ]
  },
  {
   "cell_type": "markdown",
   "id": "02d0a282",
   "metadata": {},
   "source": [
    "# Which flights taken off in which month"
   ]
  },
  {
   "cell_type": "code",
   "execution_count": 233,
   "id": "b6c859e9",
   "metadata": {},
   "outputs": [
    {
     "data": {
      "image/png": "[encoded data removed]",
      "text/plain": [
       "<Figure size 640x480 with 1 Axes>"
      ]
     },
     "metadata": {},
     "output_type": "display_data"
    }
   ],
   "source": [
    "plt.scatter(df[\"Airline\"],df[\"month_of_journey\"])\n",
    "plt.xticks(rotation=90);\n",
    "plt.ylabel(\"months\")\n",
    "plt.xlabel(\"airlines\")\n",
    "plt.yticks([1,2,3,4,5,6,7,8,9,10,11,12])\n",
    "plt.title(\"month have  maximum flights take off \");"
   ]
  },
  {
   "cell_type": "markdown",
   "id": "eabde29c",
   "metadata": {},
   "source": [
    "# How many flights taken off in each month "
   ]
  },
  {
   "cell_type": "code",
   "execution_count": 235,
   "id": "f31783ec",
   "metadata": {},
   "outputs": [
    {
     "data": {
      "text/plain": [
       "month_of_journey  Airline          \n",
       "3                 Jet Airways           903\n",
       "                  IndiGo                567\n",
       "                  Air India             530\n",
       "                  Multiple carriers     326\n",
       "                  SpiceJet              179\n",
       "                  Vistara               118\n",
       "                  Air Asia               60\n",
       "                  GoAir                  40\n",
       "                  Trujet                  1\n",
       "4                 IndiGo                313\n",
       "                  Jet Airways           270\n",
       "                  SpiceJet              156\n",
       "                  Air India             148\n",
       "                  Vistara                74\n",
       "                  Air Asia               58\n",
       "                  GoAir                  44\n",
       "                  Multiple carriers      16\n",
       "5                 Jet Airways          1383\n",
       "                  Air India             588\n",
       "                  IndiGo                562\n",
       "                  Multiple carriers     363\n",
       "                  SpiceJet              247\n",
       "                  Vistara               169\n",
       "                  Air Asia              104\n",
       "                  GoAir                  50\n",
       "6                 Jet Airways          1299\n",
       "                  IndiGo                611\n",
       "                  Multiple carriers     504\n",
       "                  Air India             486\n",
       "                  SpiceJet              236\n",
       "                  Vistara               121\n",
       "                  Air Asia               97\n",
       "                  GoAir                  60\n",
       "Name: count, dtype: int64"
      ]
     },
     "execution_count": 235,
     "metadata": {},
     "output_type": "execute_result"
    }
   ],
   "source": [
    "df.groupby([\"month_of_journey\"])[\"Airline\"].value_counts()"
   ]
  },
  {
   "cell_type": "code",
   "execution_count": 237,
   "id": "d6788d51",
   "metadata": {},
   "outputs": [
    {
     "data": {
      "text/plain": [
       "<matplotlib.legend.Legend at 0x17ce21520>"
      ]
     },
     "execution_count": 237,
     "metadata": {},
     "output_type": "execute_result"
    },
    {
     "data": {
      "image/png": "[encoded data removed]",
      "text/plain": [
       "<Figure size 640x480 with 1 Axes>"
      ]
     },
     "metadata": {},
     "output_type": "display_data"
    }
   ],
   "source": [
    "sns.countplot(x=\"month_of_journey\",hue=\"Airline\",data=df)\n",
    "plt.legend(bbox_to_anchor= (1,1))"
   ]
  },
  {
   "cell_type": "markdown",
   "id": "26ed7e96",
   "metadata": {},
   "source": [
    "# How month of journey varies with price"
   ]
  },
  {
   "cell_type": "code",
   "execution_count": 239,
   "id": "c10525a4",
   "metadata": {},
   "outputs": [
    {
     "data": {
      "text/plain": [
       "Text(0.5, 1.0, 'price varies  with month ')"
      ]
     },
     "execution_count": 239,
     "metadata": {},
     "output_type": "execute_result"
    },
    {
     "data": {
      "image/png": "[encoded data removed]",
      "text/plain": [
       "<Figure size 640x480 with 1 Axes>"
      ]
     },
     "metadata": {},
     "output_type": "display_data"
    }
   ],
   "source": [
    "sns.boxplot(x=\"month_of_journey\",y=\"Price\",data=df)\n",
    "plt.xticks(rotation=90);\n",
    "plt.ylabel(\"price\")\n",
    "plt.xlabel(\"Month_of_Journey\")\n",
    "plt.title(\"price varies  with month \")"
   ]
  },
  {
   "cell_type": "markdown",
   "id": "59dfd360",
   "metadata": {},
   "source": [
    "or"
   ]
  },
  {
   "cell_type": "code",
   "execution_count": 241,
   "id": "73156a8b",
   "metadata": {
    "scrolled": true
   },
   "outputs": [
    {
     "data": {
      "text/html": [
       "<div>\n",
       "<style scoped>\n",
       "    .dataframe tbody tr th:only-of-type {\n",
       "        vertical-align: middle;\n",
       "    }\n",
       "\n",
       "    .dataframe tbody tr th {\n",
       "        vertical-align: top;\n",
       "    }\n",
       "\n",
       "    .dataframe thead th {\n",
       "        text-align: right;\n",
       "    }\n",
       "</style>\n",
       "<table border=\"1\" class=\"dataframe\">\n",
       "  <thead>\n",
       "    <tr style=\"text-align: right;\">\n",
       "      <th></th>\n",
       "      <th>Airline</th>\n",
       "      <th>Source</th>\n",
       "      <th>Destination</th>\n",
       "      <th>Route</th>\n",
       "      <th>Duration</th>\n",
       "      <th>Total_Stops</th>\n",
       "      <th>Additional_Info</th>\n",
       "      <th>Price</th>\n",
       "      <th>day_of_journey</th>\n",
       "      <th>month_of_journey</th>\n",
       "      <th>Dep_hour</th>\n",
       "      <th>Dep_min</th>\n",
       "      <th>arrival_hour</th>\n",
       "      <th>arrival_min</th>\n",
       "    </tr>\n",
       "  </thead>\n",
       "  <tbody>\n",
       "    <tr>\n",
       "      <th>0</th>\n",
       "      <td>IndiGo</td>\n",
       "      <td>Banglore</td>\n",
       "      <td>Delhi</td>\n",
       "      <td>BLR → DEL</td>\n",
       "      <td>170.0</td>\n",
       "      <td>0</td>\n",
       "      <td>No info</td>\n",
       "      <td>3897</td>\n",
       "      <td>24</td>\n",
       "      <td>3</td>\n",
       "      <td>22</td>\n",
       "      <td>20</td>\n",
       "      <td>1</td>\n",
       "      <td>10</td>\n",
       "    </tr>\n",
       "    <tr>\n",
       "      <th>1</th>\n",
       "      <td>Air India</td>\n",
       "      <td>Kolkata</td>\n",
       "      <td>Banglore</td>\n",
       "      <td>CCU → IXR → BBI → BLR</td>\n",
       "      <td>445.0</td>\n",
       "      <td>2</td>\n",
       "      <td>No info</td>\n",
       "      <td>7662</td>\n",
       "      <td>1</td>\n",
       "      <td>5</td>\n",
       "      <td>5</td>\n",
       "      <td>50</td>\n",
       "      <td>13</td>\n",
       "      <td>15</td>\n",
       "    </tr>\n",
       "    <tr>\n",
       "      <th>2</th>\n",
       "      <td>Jet Airways</td>\n",
       "      <td>Delhi</td>\n",
       "      <td>Cochin</td>\n",
       "      <td>DEL → LKO → BOM → COK</td>\n",
       "      <td>1140.0</td>\n",
       "      <td>2</td>\n",
       "      <td>No info</td>\n",
       "      <td>13882</td>\n",
       "      <td>9</td>\n",
       "      <td>6</td>\n",
       "      <td>9</td>\n",
       "      <td>25</td>\n",
       "      <td>4</td>\n",
       "      <td>25</td>\n",
       "    </tr>\n",
       "    <tr>\n",
       "      <th>3</th>\n",
       "      <td>IndiGo</td>\n",
       "      <td>Kolkata</td>\n",
       "      <td>Banglore</td>\n",
       "      <td>CCU → NAG → BLR</td>\n",
       "      <td>325.0</td>\n",
       "      <td>1</td>\n",
       "      <td>No info</td>\n",
       "      <td>6218</td>\n",
       "      <td>12</td>\n",
       "      <td>5</td>\n",
       "      <td>18</td>\n",
       "      <td>5</td>\n",
       "      <td>23</td>\n",
       "      <td>30</td>\n",
       "    </tr>\n",
       "    <tr>\n",
       "      <th>4</th>\n",
       "      <td>IndiGo</td>\n",
       "      <td>Banglore</td>\n",
       "      <td>Delhi</td>\n",
       "      <td>BLR → NAG → DEL</td>\n",
       "      <td>285.0</td>\n",
       "      <td>1</td>\n",
       "      <td>No info</td>\n",
       "      <td>13302</td>\n",
       "      <td>1</td>\n",
       "      <td>3</td>\n",
       "      <td>16</td>\n",
       "      <td>50</td>\n",
       "      <td>21</td>\n",
       "      <td>35</td>\n",
       "    </tr>\n",
       "  </tbody>\n",
       "</table>\n",
       "</div>"
      ],
      "text/plain": [
       "       Airline    Source Destination                  Route  Duration  \\\n",
       "0       IndiGo  Banglore       Delhi              BLR → DEL     170.0   \n",
       "1    Air India   Kolkata    Banglore  CCU → IXR → BBI → BLR     445.0   \n",
       "2  Jet Airways     Delhi      Cochin  DEL → LKO → BOM → COK    1140.0   \n",
       "3       IndiGo   Kolkata    Banglore        CCU → NAG → BLR     325.0   \n",
       "4       IndiGo  Banglore       Delhi        BLR → NAG → DEL     285.0   \n",
       "\n",
       "   Total_Stops Additional_Info  Price  day_of_journey  month_of_journey  \\\n",
       "0            0         No info   3897              24                 3   \n",
       "1            2         No info   7662               1                 5   \n",
       "2            2         No info  13882               9                 6   \n",
       "3            1         No info   6218              12                 5   \n",
       "4            1         No info  13302               1                 3   \n",
       "\n",
       "   Dep_hour  Dep_min  arrival_hour  arrival_min  \n",
       "0        22       20             1           10  \n",
       "1         5       50            13           15  \n",
       "2         9       25             4           25  \n",
       "3        18        5            23           30  \n",
       "4        16       50            21           35  "
      ]
     },
     "execution_count": 241,
     "metadata": {},
     "output_type": "execute_result"
    }
   ],
   "source": [
    "df.head()"
   ]
  },
  {
   "cell_type": "markdown",
   "id": "5e64c495",
   "metadata": {},
   "source": [
    "# How prices varies with respect to Month and Airlines"
   ]
  },
  {
   "cell_type": "code",
   "execution_count": 243,
   "id": "834977cc",
   "metadata": {},
   "outputs": [
    {
     "data": {
      "text/html": [
       "<div>\n",
       "<style scoped>\n",
       "    .dataframe tbody tr th:only-of-type {\n",
       "        vertical-align: middle;\n",
       "    }\n",
       "\n",
       "    .dataframe tbody tr th {\n",
       "        vertical-align: top;\n",
       "    }\n",
       "\n",
       "    .dataframe thead th {\n",
       "        text-align: right;\n",
       "    }\n",
       "</style>\n",
       "<table border=\"1\" class=\"dataframe\">\n",
       "  <thead>\n",
       "    <tr style=\"text-align: right;\">\n",
       "      <th></th>\n",
       "      <th></th>\n",
       "      <th>sum</th>\n",
       "      <th>count</th>\n",
       "    </tr>\n",
       "    <tr>\n",
       "      <th>month_of_journey</th>\n",
       "      <th>Airline</th>\n",
       "      <th></th>\n",
       "      <th></th>\n",
       "    </tr>\n",
       "  </thead>\n",
       "  <tbody>\n",
       "    <tr>\n",
       "      <th rowspan=\"9\" valign=\"top\">3</th>\n",
       "      <th>Air Asia</th>\n",
       "      <td>359281</td>\n",
       "      <td>60</td>\n",
       "    </tr>\n",
       "    <tr>\n",
       "      <th>Air India</th>\n",
       "      <td>5670866</td>\n",
       "      <td>530</td>\n",
       "    </tr>\n",
       "    <tr>\n",
       "      <th>GoAir</th>\n",
       "      <td>324971</td>\n",
       "      <td>40</td>\n",
       "    </tr>\n",
       "    <tr>\n",
       "      <th>IndiGo</th>\n",
       "      <td>4089391</td>\n",
       "      <td>567</td>\n",
       "    </tr>\n",
       "    <tr>\n",
       "      <th>Jet Airways</th>\n",
       "      <td>12382611</td>\n",
       "      <td>903</td>\n",
       "    </tr>\n",
       "    <tr>\n",
       "      <th>Multiple carriers</th>\n",
       "      <td>4126483</td>\n",
       "      <td>326</td>\n",
       "    </tr>\n",
       "    <tr>\n",
       "      <th>SpiceJet</th>\n",
       "      <td>952660</td>\n",
       "      <td>179</td>\n",
       "    </tr>\n",
       "    <tr>\n",
       "      <th>Trujet</th>\n",
       "      <td>4140</td>\n",
       "      <td>1</td>\n",
       "    </tr>\n",
       "    <tr>\n",
       "      <th>Vistara</th>\n",
       "      <td>1163409</td>\n",
       "      <td>118</td>\n",
       "    </tr>\n",
       "    <tr>\n",
       "      <th rowspan=\"8\" valign=\"top\">4</th>\n",
       "      <th>Air Asia</th>\n",
       "      <td>274303</td>\n",
       "      <td>58</td>\n",
       "    </tr>\n",
       "    <tr>\n",
       "      <th>Air India</th>\n",
       "      <td>925086</td>\n",
       "      <td>148</td>\n",
       "    </tr>\n",
       "    <tr>\n",
       "      <th>GoAir</th>\n",
       "      <td>217951</td>\n",
       "      <td>44</td>\n",
       "    </tr>\n",
       "    <tr>\n",
       "      <th>IndiGo</th>\n",
       "      <td>1496118</td>\n",
       "      <td>313</td>\n",
       "    </tr>\n",
       "    <tr>\n",
       "      <th>Jet Airways</th>\n",
       "      <td>2046290</td>\n",
       "      <td>270</td>\n",
       "    </tr>\n",
       "    <tr>\n",
       "      <th>Multiple carriers</th>\n",
       "      <td>137875</td>\n",
       "      <td>16</td>\n",
       "    </tr>\n",
       "    <tr>\n",
       "      <th>SpiceJet</th>\n",
       "      <td>662751</td>\n",
       "      <td>156</td>\n",
       "    </tr>\n",
       "    <tr>\n",
       "      <th>Vistara</th>\n",
       "      <td>466370</td>\n",
       "      <td>74</td>\n",
       "    </tr>\n",
       "    <tr>\n",
       "      <th rowspan=\"8\" valign=\"top\">5</th>\n",
       "      <th>Air Asia</th>\n",
       "      <td>538132</td>\n",
       "      <td>104</td>\n",
       "    </tr>\n",
       "    <tr>\n",
       "      <th>Air India</th>\n",
       "      <td>5750986</td>\n",
       "      <td>588</td>\n",
       "    </tr>\n",
       "    <tr>\n",
       "      <th>GoAir</th>\n",
       "      <td>290611</td>\n",
       "      <td>50</td>\n",
       "    </tr>\n",
       "    <tr>\n",
       "      <th>IndiGo</th>\n",
       "      <td>2939083</td>\n",
       "      <td>562</td>\n",
       "    </tr>\n",
       "    <tr>\n",
       "      <th>Jet Airways</th>\n",
       "      <td>16132880</td>\n",
       "      <td>1383</td>\n",
       "    </tr>\n",
       "    <tr>\n",
       "      <th>Multiple carriers</th>\n",
       "      <td>3685082</td>\n",
       "      <td>363</td>\n",
       "    </tr>\n",
       "    <tr>\n",
       "      <th>SpiceJet</th>\n",
       "      <td>1002926</td>\n",
       "      <td>247</td>\n",
       "    </tr>\n",
       "    <tr>\n",
       "      <th>Vistara</th>\n",
       "      <td>1295340</td>\n",
       "      <td>169</td>\n",
       "    </tr>\n",
       "    <tr>\n",
       "      <th rowspan=\"8\" valign=\"top\">6</th>\n",
       "      <th>Air Asia</th>\n",
       "      <td>611577</td>\n",
       "      <td>97</td>\n",
       "    </tr>\n",
       "    <tr>\n",
       "      <th>Air India</th>\n",
       "      <td>4491903</td>\n",
       "      <td>486</td>\n",
       "    </tr>\n",
       "    <tr>\n",
       "      <th>GoAir</th>\n",
       "      <td>303512</td>\n",
       "      <td>60</td>\n",
       "    </tr>\n",
       "    <tr>\n",
       "      <th>IndiGo</th>\n",
       "      <td>3123479</td>\n",
       "      <td>611</td>\n",
       "    </tr>\n",
       "    <tr>\n",
       "      <th>Jet Airways</th>\n",
       "      <td>14605832</td>\n",
       "      <td>1299</td>\n",
       "    </tr>\n",
       "    <tr>\n",
       "      <th>Multiple carriers</th>\n",
       "      <td>5238608</td>\n",
       "      <td>504</td>\n",
       "    </tr>\n",
       "    <tr>\n",
       "      <th>SpiceJet</th>\n",
       "      <td>930380</td>\n",
       "      <td>236</td>\n",
       "    </tr>\n",
       "    <tr>\n",
       "      <th>Vistara</th>\n",
       "      <td>836219</td>\n",
       "      <td>121</td>\n",
       "    </tr>\n",
       "  </tbody>\n",
       "</table>\n",
       "</div>"
      ],
      "text/plain": [
       "                                         sum  count\n",
       "month_of_journey Airline                           \n",
       "3                Air Asia             359281     60\n",
       "                 Air India           5670866    530\n",
       "                 GoAir                324971     40\n",
       "                 IndiGo              4089391    567\n",
       "                 Jet Airways        12382611    903\n",
       "                 Multiple carriers   4126483    326\n",
       "                 SpiceJet             952660    179\n",
       "                 Trujet                 4140      1\n",
       "                 Vistara             1163409    118\n",
       "4                Air Asia             274303     58\n",
       "                 Air India            925086    148\n",
       "                 GoAir                217951     44\n",
       "                 IndiGo              1496118    313\n",
       "                 Jet Airways         2046290    270\n",
       "                 Multiple carriers    137875     16\n",
       "                 SpiceJet             662751    156\n",
       "                 Vistara              466370     74\n",
       "5                Air Asia             538132    104\n",
       "                 Air India           5750986    588\n",
       "                 GoAir                290611     50\n",
       "                 IndiGo              2939083    562\n",
       "                 Jet Airways        16132880   1383\n",
       "                 Multiple carriers   3685082    363\n",
       "                 SpiceJet            1002926    247\n",
       "                 Vistara             1295340    169\n",
       "6                Air Asia             611577     97\n",
       "                 Air India           4491903    486\n",
       "                 GoAir                303512     60\n",
       "                 IndiGo              3123479    611\n",
       "                 Jet Airways        14605832   1299\n",
       "                 Multiple carriers   5238608    504\n",
       "                 SpiceJet             930380    236\n",
       "                 Vistara              836219    121"
      ]
     },
     "execution_count": 243,
     "metadata": {},
     "output_type": "execute_result"
    }
   ],
   "source": [
    "d=df.groupby(['month_of_journey','Airline'])['Price'].agg(['sum','count'])#.reset_index()\n",
    "d"
   ]
  },
  {
   "cell_type": "code",
   "execution_count": 245,
   "id": "778b0c77",
   "metadata": {},
   "outputs": [
    {
     "data": {
      "image/png": "[encoded data removed]",
      "text/plain": [
       "<Figure size 2000x1200 with 1 Axes>"
      ]
     },
     "metadata": {},
     "output_type": "display_data"
    }
   ],
   "source": [
    "plt.figure(figsize=(10,6),dpi=200)\n",
    "sns.barplot(x='month_of_journey',y='Price',estimator='sum',hue='Airline',data=df,ci=None)\n",
    "plt.legend(bbox_to_anchor= (1,1));"
   ]
  },
  {
   "cell_type": "code",
   "execution_count": null,
   "id": "22fe67c4",
   "metadata": {},
   "outputs": [],
   "source": [
    "d=['red','green','black','white','blue','pink','brown']\n",
    "# 0,4,5"
   ]
  },
  {
   "cell_type": "code",
   "execution_count": 147,
   "id": "08828bdd",
   "metadata": {},
   "outputs": [],
   "source": [
    "# ['green','black','white','brown']"
   ]
  },
  {
   "cell_type": "code",
   "execution_count": null,
   "id": "a8515037",
   "metadata": {},
   "outputs": [],
   "source": []
  }
 ],
 "metadata": {
  "kernelspec": {
   "display_name": "Python [conda env:base] *",
   "language": "python",
   "name": "conda-base-py"
  },
  "language_info": {
   "codemirror_mode": {
    "name": "ipython",
    "version": 3
   },
   "file_extension": ".py",
   "mimetype": "text/x-python",
   "name": "python",
   "nbconvert_exporter": "python",
   "pygments_lexer": "ipython3",
   "version": "3.12.7"
  }
 },
 "nbformat": 4,
 "nbformat_minor": 5
}
